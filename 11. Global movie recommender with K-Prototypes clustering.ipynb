{
 "cells": [
  {
   "cell_type": "code",
   "execution_count": 1,
   "id": "250fcb88",
   "metadata": {},
   "outputs": [],
   "source": [
    "import numpy as np\n",
    "import pandas as pd\n",
    "from sklearn.preprocessing import MultiLabelBinarizer\n",
    "from sklearn.preprocessing import MinMaxScaler\n",
    "\n",
    "from kmodes.kprototypes import KPrototypes\n",
    "\n",
    "import time\n",
    "import pickle"
   ]
  },
  {
   "cell_type": "code",
   "execution_count": 2,
   "id": "da7a6f47",
   "metadata": {},
   "outputs": [],
   "source": [
    "# Drop ratings of previously dropped movies\n",
    "# ratings = pd.read_csv('ratings.csv')\n",
    "# ratings = ratings[ratings['movieId'].isin(pd.read_csv('3b movies_GloVe.csv')['id'])]\n",
    "# ratings.to_csv('2 ratings.csv', index=False)"
   ]
  },
  {
   "cell_type": "code",
   "execution_count": 3,
   "id": "dc5ead78",
   "metadata": {},
   "outputs": [],
   "source": [
    "# Delete duplicates and write to file\n",
    "# unprepared_movies = pd.read_csv('3b movies_GloVe.csv')\n",
    "# unprepared_movies.drop_duplicates(inplace=True)\n",
    "# duplicates = (unprepared_movies['id'].value_counts() > 1).head(13).index\n",
    "# unprepared_movies = unprepared_movies[unprepared_movies['id'].isin(duplicates) == False]\n",
    "# unprepared_movies.to_csv('4 movies.csv', index=False)"
   ]
  },
  {
   "cell_type": "code",
   "execution_count": 4,
   "id": "98db8cae",
   "metadata": {},
   "outputs": [],
   "source": [
    "movies = pd.read_csv('4 movies.csv')\n",
    "unprepared_movies = pd.read_csv('4 movies.csv')\n",
    "country_codes = pd.read_csv('country_codes.csv')\n",
    "ratings = pd.read_csv('2 ratings.csv')"
   ]
  },
  {
   "cell_type": "code",
   "execution_count": 5,
   "id": "2652cd89",
   "metadata": {},
   "outputs": [],
   "source": [
    "def get_numbers(str):\n",
    "    \"\"\"Return the integer numbers from a string in an array format.\"\"\"\n",
    "    arr = str.replace(',','').replace('{','').replace('}','').replace('[','').replace(']','').split()\n",
    "    arr = [int(s) for s in arr if s.isdigit()]\n",
    "    return arr\n",
    "\n",
    "def get_country_codes(str):\n",
    "    \"\"\"Return the codes of the countries from a string.\"\"\"\n",
    "    arr = str.replace(',','').replace('{','').replace('}','').replace('[','').replace(']','').replace(\"'\", \"\").split()\n",
    "    arr = [s for s in arr if country_codes['Code'].str.contains(s).any()]\n",
    "    return arr\n",
    "\n",
    "def prepare_dataframe(movies):\n",
    "    \n",
    "    # Conversion\n",
    "    movies['genres'] = movies['genres'].apply(lambda str: get_numbers(str))\n",
    "    movies['production_companies'] = movies['production_companies'].apply(lambda str: get_numbers(str))\n",
    "    movies['production_countries'] = movies['production_countries'].apply(lambda str: get_country_codes(str)) # This takes time\n",
    "    \n",
    "    # Get dummies\n",
    "    mlb = MultiLabelBinarizer()\n",
    "    genres = pd.DataFrame(mlb.fit_transform(movies['genres']), columns=mlb.classes)\n",
    "\n",
    "    mlb = MultiLabelBinarizer()\n",
    "    production_companies = pd.DataFrame(mlb.fit_transform(movies['production_companies']), columns=mlb.classes)\n",
    "\n",
    "    mlb = MultiLabelBinarizer()\n",
    "    production_countries = pd.DataFrame(mlb.fit_transform(movies['production_countries']), columns=mlb.classes)\n",
    "\n",
    "    original_language = pd.get_dummies(movies['original_language'])\n",
    "    \n",
    "    # Rename the columns to unique names\n",
    "    for i in range(genres.shape[1]):\n",
    "        genres.rename(mapper={i : str(i) + '. genre'}, axis=1, inplace=True)\n",
    "    \n",
    "    for i in range(production_countries.shape[1]):\n",
    "        production_countries.rename(mapper={i : str(i) + '. country'}, axis=1, inplace=True)\n",
    "    \n",
    "    movieids = movies['id']\n",
    "    movies = movies.drop(['id', 'title'], axis=1)\n",
    "    \n",
    "    # production_companies, original languages, production countries are not used, because of huge running time\n",
    "    numeric = movies.drop(['adult', 'genres', 'original_language', 'production_companies', 'production_countries'], axis=1)\n",
    "    categorical = movies[['adult']].join(genres)\n",
    "    \n",
    "    # Scale the numeric values to (0, 1) interval\n",
    "    scaler = MinMaxScaler()\n",
    "    numeric = scaler.fit_transform(numeric)\n",
    "    \n",
    "    movievectors = pd.DataFrame(numeric).join(categorical)\n",
    "    movievectors.index = movieids\n",
    "    \n",
    "    return movievectors\n",
    "\n",
    "def convert_title_to_index(x):\n",
    "    row = unprepared_movies2[unprepared_movies2['title'] == x]\n",
    "    return np.array(row['id'])[0]"
   ]
  },
  {
   "cell_type": "code",
   "execution_count": 6,
   "id": "4df65b56",
   "metadata": {},
   "outputs": [],
   "source": [
    "movies = prepare_dataframe(movies)"
   ]
  },
  {
   "cell_type": "markdown",
   "id": "5d0759f3",
   "metadata": {},
   "source": [
    "Train model and save it:"
   ]
  },
  {
   "cell_type": "code",
   "execution_count": 7,
   "id": "34a402bd",
   "metadata": {},
   "outputs": [],
   "source": [
    "# Sampling used to reduce running time\n",
    "# movies_sample = movies.sample(n=4000, random_state=98)"
   ]
  },
  {
   "cell_type": "code",
   "execution_count": 8,
   "id": "da04f539",
   "metadata": {
    "scrolled": true
   },
   "outputs": [],
   "source": [
    "# start = time.time()\n",
    "# kproto = KPrototypes(n_clusters=45, max_iter=20, n_jobs=4)\n",
    "# kproto.fit(movies_sample, categorical=[i for i in range(57,movies_sample.shape[1])])\n",
    "# end = time.time()\n",
    "# elapsed = end-start"
   ]
  },
  {
   "cell_type": "code",
   "execution_count": 9,
   "id": "ef0cb7fc",
   "metadata": {},
   "outputs": [
    {
     "data": {
      "text/plain": [
       "404.50138235092163"
      ]
     },
     "execution_count": 9,
     "metadata": {},
     "output_type": "execute_result"
    }
   ],
   "source": [
    "# elapsed"
   ]
  },
  {
   "cell_type": "code",
   "execution_count": 10,
   "id": "aeed0a0f",
   "metadata": {},
   "outputs": [],
   "source": [
    "# pickle.dump(kproto, open(\"kproto_4000.p\", 'wb'))"
   ]
  },
  {
   "cell_type": "markdown",
   "id": "2f8f32b3",
   "metadata": {},
   "source": [
    "Calcute the clusters of all movies to save time in recommending:"
   ]
  },
  {
   "cell_type": "code",
   "execution_count": 11,
   "id": "c2648666",
   "metadata": {},
   "outputs": [],
   "source": [
    "# all_movies_clusters = kproto.predict(movies, categorical=[i for i in range(57,movies.shape[1])])\n",
    "# pickle.dump(all_movies_clusters, open(\"clusters_kproto_4000.p\", 'wb'))"
   ]
  },
  {
   "cell_type": "markdown",
   "id": "8033e5a9",
   "metadata": {},
   "source": [
    "# Recommend movies:"
   ]
  },
  {
   "cell_type": "code",
   "execution_count": 7,
   "id": "35642456",
   "metadata": {},
   "outputs": [],
   "source": [
    "kproto = pickle.load(open(\"kproto_4000.p\", \"rb\"))\n",
    "all_movies_clusters = pickle.load(open(\"clusters_kproto_4000.p\", \"rb\"))"
   ]
  },
  {
   "cell_type": "code",
   "execution_count": 8,
   "id": "aed4d80e",
   "metadata": {},
   "outputs": [],
   "source": [
    "def recommend_movies(uid, unprepared_movies, movies, ratings, cluster_obj, clusters):\n",
    "    \"\"\"\n",
    "    Input:\n",
    "    uid - ID of the user\n",
    "    \n",
    "    Output:\n",
    "    potential_suggestions - The most popular 20 suggested movies\n",
    "    \n",
    "    Error codes:\n",
    "    -1 - This userID does not exist\n",
    "    -2 - There are no movies in the current form of movies database that was rated by the user\n",
    "    \"\"\"\n",
    "    \n",
    "    rated_movies = ratings[ratings['userId'] == uid].drop('userId', axis=1)\n",
    "\n",
    "    if rated_movies.shape[0] == 0:\n",
    "        return -1 # Invalid userId\n",
    "\n",
    "    best_match = find_best_matching_cluster(uid, movies, rated_movies, cluster_obj)\n",
    "    \n",
    "    if best_match == -2:\n",
    "        return -2 # There is no rated movie in movies database\n",
    "\n",
    "    # Select the movies in the best matching cluster\n",
    "    potential_suggestions = unprepared_movies[unprepared_movies['id'].isin(movies[clusters == best_match].index)]\n",
    "\n",
    "    # Delete previously watched (rated) movies\n",
    "    watched_index = potential_suggestions[potential_suggestions['id'].isin(rated_movies['movieId'])].index\n",
    "    potential_suggestions = potential_suggestions.drop(watched_index)\n",
    "\n",
    "    # First suggest the more popular movies\n",
    "    potential_suggestions = potential_suggestions.sort_values('popularity', ascending=False)\n",
    "\n",
    "    # Grab the first twenty\n",
    "    potential_suggestions = potential_suggestions['title'].head(20)\n",
    "    \n",
    "    return potential_suggestions\n",
    "\n",
    "def find_best_matching_cluster(uid, movies, rated_movies, cluster_obj):\n",
    "    # The clusters of movies that have been rated at least once\n",
    "    clusters = np.array([])\n",
    "    \n",
    "    # The indexes of movies that have not been found in movies database\n",
    "    # Which indicates error in data set\n",
    "    indexlist = np.array([])\n",
    "    \n",
    "    for index, row in rated_movies.iterrows():\n",
    "        try:\n",
    "            clusters = np.append(clusters, cluster_obj.predict(pd.DataFrame(movies.loc[int(row['movieId'])]).transpose(), categorical=[i for i in range(57,movies.shape[1])]))\n",
    "        except:\n",
    "            indexlist = np.append(indexlist, index)\n",
    "    \n",
    "    # Handle inconsistency in DB\n",
    "    rated_movies.drop(indexlist, inplace=True)\n",
    "\n",
    "    rated_movies['clusters'] = clusters\n",
    "\n",
    "    # Find the highest rated cluster\n",
    "    if rated_movies.shape[0] > 0:\n",
    "        best_match = rated_movies[['rating', 'clusters']].groupby('clusters').mean().idxmax()[0]\n",
    "    else:\n",
    "        return -2 # There is no rated movie in movies database\n",
    "    \n",
    "    return best_match"
   ]
  },
  {
   "cell_type": "code",
   "execution_count": 9,
   "id": "4f8afbca",
   "metadata": {},
   "outputs": [
    {
     "data": {
      "text/plain": [
       "39955                           Colossal\n",
       "11512                        Ratatouille\n",
       "37934                      Sausage Party\n",
       "19400                 Hotel Transylvania\n",
       "1324                       Mars Attacks!\n",
       "2717                    Yellow Submarine\n",
       "4425                Dream a Little Dream\n",
       "28425                               Home\n",
       "11440               Happily N'Ever After\n",
       "10335                       Corpse Bride\n",
       "1117                        Delicatessen\n",
       "13904                         Cold Souls\n",
       "12292    The Girl Who Leapt Through Time\n",
       "7034                          Cool World\n",
       "5329                       Our Man Flint\n",
       "23938                      The Boxtrolls\n",
       "7599              Batteries not Included\n",
       "9326                       The Animatrix\n",
       "1211                               Akira\n",
       "2314                     Howard the Duck\n",
       "Name: title, dtype: object"
      ]
     },
     "execution_count": 9,
     "metadata": {},
     "output_type": "execute_result"
    }
   ],
   "source": [
    "recommend_movies(5000, unprepared_movies, movies, ratings, kproto, all_movies_clusters)"
   ]
  },
  {
   "cell_type": "code",
   "execution_count": 15,
   "id": "3d605bbd",
   "metadata": {},
   "outputs": [
    {
     "data": {
      "text/plain": [
       "-1"
      ]
     },
     "execution_count": 15,
     "metadata": {},
     "output_type": "execute_result"
    }
   ],
   "source": [
    "recommend_movies(235623464, unprepared_movies, movies, ratings, kproto, all_movies_clusters)"
   ]
  },
  {
   "cell_type": "markdown",
   "id": "59f22485",
   "metadata": {},
   "source": [
    "# Coverage"
   ]
  },
  {
   "cell_type": "code",
   "execution_count": 9,
   "id": "eb06468a",
   "metadata": {},
   "outputs": [],
   "source": [
    "suggested_movies = []\n",
    "users = np.random.choice(ratings['userId'].unique(), size=100)\n",
    "for i in users:\n",
    "    suggested_movies.append(recommend_movies(i, unprepared_movies, movies, ratings, kproto, all_movies_clusters))"
   ]
  },
  {
   "cell_type": "code",
   "execution_count": 26,
   "id": "f7d8fbab",
   "metadata": {},
   "outputs": [],
   "source": [
    "list = []\n",
    "for i in range(len(suggested_movies)):\n",
    "    if type(suggested_movies[i]) == pd.core.series.Series:\n",
    "        for j in suggested_movies[i].index:\n",
    "            list.append(j)"
   ]
  },
  {
   "cell_type": "code",
   "execution_count": 28,
   "id": "6d058cf1",
   "metadata": {},
   "outputs": [
    {
     "data": {
      "text/plain": [
       "604"
      ]
     },
     "execution_count": 28,
     "metadata": {},
     "output_type": "execute_result"
    }
   ],
   "source": [
    "len(np.unique(list))"
   ]
  },
  {
   "cell_type": "code",
   "execution_count": 31,
   "id": "b679c8c8",
   "metadata": {},
   "outputs": [
    {
     "data": {
      "text/plain": [
       "7427"
      ]
     },
     "execution_count": 31,
     "metadata": {},
     "output_type": "execute_result"
    }
   ],
   "source": [
    "ratings.movieId.nunique()"
   ]
  },
  {
   "cell_type": "markdown",
   "id": "0bce4f1b",
   "metadata": {},
   "source": [
    "# Personalization"
   ]
  },
  {
   "cell_type": "code",
   "execution_count": 1,
   "id": "98d58962",
   "metadata": {},
   "outputs": [],
   "source": [
    "from sklearn.metrics.pairwise import cosine_similarity"
   ]
  },
  {
   "cell_type": "code",
   "execution_count": 8,
   "id": "f75c3c55",
   "metadata": {},
   "outputs": [],
   "source": [
    "suggested_movies = []\n",
    "users = np.random.choice(ratings['userId'].unique(), size=100)\n",
    "for i in users:\n",
    "    tmp = recommend_movies(i, unprepared_movies, movies, ratings, kproto, all_movies_clusters)\n",
    "    if type(tmp) != int:\n",
    "        suggested_movies.append(tmp)"
   ]
  },
  {
   "cell_type": "code",
   "execution_count": 19,
   "id": "66f42d68",
   "metadata": {},
   "outputs": [],
   "source": [
    "list = []\n",
    "for i in range(len(suggested_movies)):\n",
    "    for j in suggested_movies[i]:\n",
    "        list.append(j)\n",
    "        \n",
    "list = np.unique(list)"
   ]
  },
  {
   "cell_type": "code",
   "execution_count": 20,
   "id": "4d24b874",
   "metadata": {},
   "outputs": [],
   "source": [
    "data = np.zeros(shape=(len(suggested_movies), len(list)))\n",
    "seen_movies = pd.DataFrame(data=data, columns=list)"
   ]
  },
  {
   "cell_type": "code",
   "execution_count": 21,
   "id": "ad124414",
   "metadata": {},
   "outputs": [],
   "source": [
    "for i in range(len(suggested_movies)):\n",
    "    for j in suggested_movies[i]:\n",
    "        if j in seen_movies.columns:\n",
    "            seen_movies.loc[i,j] = 1"
   ]
  },
  {
   "cell_type": "code",
   "execution_count": 27,
   "id": "05298347",
   "metadata": {},
   "outputs": [],
   "source": [
    "matrix = pd.DataFrame(cosine_similarity(seen_movies))"
   ]
  },
  {
   "cell_type": "code",
   "execution_count": 28,
   "id": "06577edc",
   "metadata": {},
   "outputs": [],
   "source": [
    "matrix = 1-matrix"
   ]
  },
  {
   "cell_type": "code",
   "execution_count": 29,
   "id": "db5ddb32",
   "metadata": {
    "scrolled": true
   },
   "outputs": [
    {
     "data": {
      "text/html": [
       "<div>\n",
       "<style scoped>\n",
       "    .dataframe tbody tr th:only-of-type {\n",
       "        vertical-align: middle;\n",
       "    }\n",
       "\n",
       "    .dataframe tbody tr th {\n",
       "        vertical-align: top;\n",
       "    }\n",
       "\n",
       "    .dataframe thead th {\n",
       "        text-align: right;\n",
       "    }\n",
       "</style>\n",
       "<table border=\"1\" class=\"dataframe\">\n",
       "  <thead>\n",
       "    <tr style=\"text-align: right;\">\n",
       "      <th></th>\n",
       "      <th>0</th>\n",
       "      <th>1</th>\n",
       "      <th>2</th>\n",
       "      <th>3</th>\n",
       "      <th>4</th>\n",
       "      <th>5</th>\n",
       "      <th>6</th>\n",
       "      <th>7</th>\n",
       "      <th>8</th>\n",
       "      <th>9</th>\n",
       "      <th>...</th>\n",
       "      <th>90</th>\n",
       "      <th>91</th>\n",
       "      <th>92</th>\n",
       "      <th>93</th>\n",
       "      <th>94</th>\n",
       "      <th>95</th>\n",
       "      <th>96</th>\n",
       "      <th>97</th>\n",
       "      <th>98</th>\n",
       "      <th>99</th>\n",
       "    </tr>\n",
       "  </thead>\n",
       "  <tbody>\n",
       "    <tr>\n",
       "      <th>0</th>\n",
       "      <td>0.0</td>\n",
       "      <td>1.0</td>\n",
       "      <td>1.0</td>\n",
       "      <td>1.000000e+00</td>\n",
       "      <td>1.0</td>\n",
       "      <td>1.0</td>\n",
       "      <td>1.0</td>\n",
       "      <td>1.0</td>\n",
       "      <td>1.0</td>\n",
       "      <td>1.0</td>\n",
       "      <td>...</td>\n",
       "      <td>1.0</td>\n",
       "      <td>1.0</td>\n",
       "      <td>1.0</td>\n",
       "      <td>1.0</td>\n",
       "      <td>1.0</td>\n",
       "      <td>1.0</td>\n",
       "      <td>1.0</td>\n",
       "      <td>1.000000e+00</td>\n",
       "      <td>1.0</td>\n",
       "      <td>1.0</td>\n",
       "    </tr>\n",
       "    <tr>\n",
       "      <th>1</th>\n",
       "      <td>1.0</td>\n",
       "      <td>0.0</td>\n",
       "      <td>1.0</td>\n",
       "      <td>1.000000e+00</td>\n",
       "      <td>1.0</td>\n",
       "      <td>1.0</td>\n",
       "      <td>0.0</td>\n",
       "      <td>1.0</td>\n",
       "      <td>1.0</td>\n",
       "      <td>1.0</td>\n",
       "      <td>...</td>\n",
       "      <td>1.0</td>\n",
       "      <td>1.0</td>\n",
       "      <td>1.0</td>\n",
       "      <td>1.0</td>\n",
       "      <td>1.0</td>\n",
       "      <td>1.0</td>\n",
       "      <td>1.0</td>\n",
       "      <td>1.000000e+00</td>\n",
       "      <td>1.0</td>\n",
       "      <td>1.0</td>\n",
       "    </tr>\n",
       "    <tr>\n",
       "      <th>2</th>\n",
       "      <td>1.0</td>\n",
       "      <td>1.0</td>\n",
       "      <td>0.0</td>\n",
       "      <td>1.000000e+00</td>\n",
       "      <td>1.0</td>\n",
       "      <td>1.0</td>\n",
       "      <td>1.0</td>\n",
       "      <td>1.0</td>\n",
       "      <td>1.0</td>\n",
       "      <td>1.0</td>\n",
       "      <td>...</td>\n",
       "      <td>1.0</td>\n",
       "      <td>1.0</td>\n",
       "      <td>1.0</td>\n",
       "      <td>1.0</td>\n",
       "      <td>1.0</td>\n",
       "      <td>1.0</td>\n",
       "      <td>1.0</td>\n",
       "      <td>1.000000e+00</td>\n",
       "      <td>0.0</td>\n",
       "      <td>1.0</td>\n",
       "    </tr>\n",
       "    <tr>\n",
       "      <th>3</th>\n",
       "      <td>1.0</td>\n",
       "      <td>1.0</td>\n",
       "      <td>1.0</td>\n",
       "      <td>1.110223e-16</td>\n",
       "      <td>1.0</td>\n",
       "      <td>1.0</td>\n",
       "      <td>1.0</td>\n",
       "      <td>1.0</td>\n",
       "      <td>1.0</td>\n",
       "      <td>1.0</td>\n",
       "      <td>...</td>\n",
       "      <td>1.0</td>\n",
       "      <td>1.0</td>\n",
       "      <td>1.0</td>\n",
       "      <td>1.0</td>\n",
       "      <td>1.0</td>\n",
       "      <td>1.0</td>\n",
       "      <td>1.0</td>\n",
       "      <td>1.000000e+00</td>\n",
       "      <td>1.0</td>\n",
       "      <td>1.0</td>\n",
       "    </tr>\n",
       "    <tr>\n",
       "      <th>4</th>\n",
       "      <td>1.0</td>\n",
       "      <td>1.0</td>\n",
       "      <td>1.0</td>\n",
       "      <td>1.000000e+00</td>\n",
       "      <td>0.0</td>\n",
       "      <td>1.0</td>\n",
       "      <td>1.0</td>\n",
       "      <td>1.0</td>\n",
       "      <td>1.0</td>\n",
       "      <td>1.0</td>\n",
       "      <td>...</td>\n",
       "      <td>1.0</td>\n",
       "      <td>1.0</td>\n",
       "      <td>1.0</td>\n",
       "      <td>1.0</td>\n",
       "      <td>1.0</td>\n",
       "      <td>0.0</td>\n",
       "      <td>1.0</td>\n",
       "      <td>1.000000e+00</td>\n",
       "      <td>1.0</td>\n",
       "      <td>1.0</td>\n",
       "    </tr>\n",
       "    <tr>\n",
       "      <th>...</th>\n",
       "      <td>...</td>\n",
       "      <td>...</td>\n",
       "      <td>...</td>\n",
       "      <td>...</td>\n",
       "      <td>...</td>\n",
       "      <td>...</td>\n",
       "      <td>...</td>\n",
       "      <td>...</td>\n",
       "      <td>...</td>\n",
       "      <td>...</td>\n",
       "      <td>...</td>\n",
       "      <td>...</td>\n",
       "      <td>...</td>\n",
       "      <td>...</td>\n",
       "      <td>...</td>\n",
       "      <td>...</td>\n",
       "      <td>...</td>\n",
       "      <td>...</td>\n",
       "      <td>...</td>\n",
       "      <td>...</td>\n",
       "      <td>...</td>\n",
       "    </tr>\n",
       "    <tr>\n",
       "      <th>95</th>\n",
       "      <td>1.0</td>\n",
       "      <td>1.0</td>\n",
       "      <td>1.0</td>\n",
       "      <td>1.000000e+00</td>\n",
       "      <td>0.0</td>\n",
       "      <td>1.0</td>\n",
       "      <td>1.0</td>\n",
       "      <td>1.0</td>\n",
       "      <td>1.0</td>\n",
       "      <td>1.0</td>\n",
       "      <td>...</td>\n",
       "      <td>1.0</td>\n",
       "      <td>1.0</td>\n",
       "      <td>1.0</td>\n",
       "      <td>1.0</td>\n",
       "      <td>1.0</td>\n",
       "      <td>0.0</td>\n",
       "      <td>1.0</td>\n",
       "      <td>1.000000e+00</td>\n",
       "      <td>1.0</td>\n",
       "      <td>1.0</td>\n",
       "    </tr>\n",
       "    <tr>\n",
       "      <th>96</th>\n",
       "      <td>1.0</td>\n",
       "      <td>1.0</td>\n",
       "      <td>1.0</td>\n",
       "      <td>1.000000e+00</td>\n",
       "      <td>1.0</td>\n",
       "      <td>1.0</td>\n",
       "      <td>1.0</td>\n",
       "      <td>1.0</td>\n",
       "      <td>1.0</td>\n",
       "      <td>1.0</td>\n",
       "      <td>...</td>\n",
       "      <td>1.0</td>\n",
       "      <td>1.0</td>\n",
       "      <td>1.0</td>\n",
       "      <td>1.0</td>\n",
       "      <td>0.0</td>\n",
       "      <td>1.0</td>\n",
       "      <td>0.0</td>\n",
       "      <td>1.000000e+00</td>\n",
       "      <td>1.0</td>\n",
       "      <td>1.0</td>\n",
       "    </tr>\n",
       "    <tr>\n",
       "      <th>97</th>\n",
       "      <td>1.0</td>\n",
       "      <td>1.0</td>\n",
       "      <td>1.0</td>\n",
       "      <td>1.000000e+00</td>\n",
       "      <td>1.0</td>\n",
       "      <td>1.0</td>\n",
       "      <td>1.0</td>\n",
       "      <td>1.0</td>\n",
       "      <td>1.0</td>\n",
       "      <td>1.0</td>\n",
       "      <td>...</td>\n",
       "      <td>1.0</td>\n",
       "      <td>1.0</td>\n",
       "      <td>1.0</td>\n",
       "      <td>1.0</td>\n",
       "      <td>1.0</td>\n",
       "      <td>1.0</td>\n",
       "      <td>1.0</td>\n",
       "      <td>1.110223e-16</td>\n",
       "      <td>1.0</td>\n",
       "      <td>1.0</td>\n",
       "    </tr>\n",
       "    <tr>\n",
       "      <th>98</th>\n",
       "      <td>1.0</td>\n",
       "      <td>1.0</td>\n",
       "      <td>0.0</td>\n",
       "      <td>1.000000e+00</td>\n",
       "      <td>1.0</td>\n",
       "      <td>1.0</td>\n",
       "      <td>1.0</td>\n",
       "      <td>1.0</td>\n",
       "      <td>1.0</td>\n",
       "      <td>1.0</td>\n",
       "      <td>...</td>\n",
       "      <td>1.0</td>\n",
       "      <td>1.0</td>\n",
       "      <td>1.0</td>\n",
       "      <td>1.0</td>\n",
       "      <td>1.0</td>\n",
       "      <td>1.0</td>\n",
       "      <td>1.0</td>\n",
       "      <td>1.000000e+00</td>\n",
       "      <td>0.0</td>\n",
       "      <td>1.0</td>\n",
       "    </tr>\n",
       "    <tr>\n",
       "      <th>99</th>\n",
       "      <td>1.0</td>\n",
       "      <td>1.0</td>\n",
       "      <td>1.0</td>\n",
       "      <td>1.000000e+00</td>\n",
       "      <td>1.0</td>\n",
       "      <td>1.0</td>\n",
       "      <td>1.0</td>\n",
       "      <td>0.0</td>\n",
       "      <td>1.0</td>\n",
       "      <td>1.0</td>\n",
       "      <td>...</td>\n",
       "      <td>1.0</td>\n",
       "      <td>1.0</td>\n",
       "      <td>1.0</td>\n",
       "      <td>1.0</td>\n",
       "      <td>1.0</td>\n",
       "      <td>1.0</td>\n",
       "      <td>1.0</td>\n",
       "      <td>1.000000e+00</td>\n",
       "      <td>1.0</td>\n",
       "      <td>0.0</td>\n",
       "    </tr>\n",
       "  </tbody>\n",
       "</table>\n",
       "<p>100 rows × 100 columns</p>\n",
       "</div>"
      ],
      "text/plain": [
       "     0    1    2             3    4    5    6    7    8    9   ...   90   91  \\\n",
       "0   0.0  1.0  1.0  1.000000e+00  1.0  1.0  1.0  1.0  1.0  1.0  ...  1.0  1.0   \n",
       "1   1.0  0.0  1.0  1.000000e+00  1.0  1.0  0.0  1.0  1.0  1.0  ...  1.0  1.0   \n",
       "2   1.0  1.0  0.0  1.000000e+00  1.0  1.0  1.0  1.0  1.0  1.0  ...  1.0  1.0   \n",
       "3   1.0  1.0  1.0  1.110223e-16  1.0  1.0  1.0  1.0  1.0  1.0  ...  1.0  1.0   \n",
       "4   1.0  1.0  1.0  1.000000e+00  0.0  1.0  1.0  1.0  1.0  1.0  ...  1.0  1.0   \n",
       "..  ...  ...  ...           ...  ...  ...  ...  ...  ...  ...  ...  ...  ...   \n",
       "95  1.0  1.0  1.0  1.000000e+00  0.0  1.0  1.0  1.0  1.0  1.0  ...  1.0  1.0   \n",
       "96  1.0  1.0  1.0  1.000000e+00  1.0  1.0  1.0  1.0  1.0  1.0  ...  1.0  1.0   \n",
       "97  1.0  1.0  1.0  1.000000e+00  1.0  1.0  1.0  1.0  1.0  1.0  ...  1.0  1.0   \n",
       "98  1.0  1.0  0.0  1.000000e+00  1.0  1.0  1.0  1.0  1.0  1.0  ...  1.0  1.0   \n",
       "99  1.0  1.0  1.0  1.000000e+00  1.0  1.0  1.0  0.0  1.0  1.0  ...  1.0  1.0   \n",
       "\n",
       "     92   93   94   95   96            97   98   99  \n",
       "0   1.0  1.0  1.0  1.0  1.0  1.000000e+00  1.0  1.0  \n",
       "1   1.0  1.0  1.0  1.0  1.0  1.000000e+00  1.0  1.0  \n",
       "2   1.0  1.0  1.0  1.0  1.0  1.000000e+00  0.0  1.0  \n",
       "3   1.0  1.0  1.0  1.0  1.0  1.000000e+00  1.0  1.0  \n",
       "4   1.0  1.0  1.0  0.0  1.0  1.000000e+00  1.0  1.0  \n",
       "..  ...  ...  ...  ...  ...           ...  ...  ...  \n",
       "95  1.0  1.0  1.0  0.0  1.0  1.000000e+00  1.0  1.0  \n",
       "96  1.0  1.0  0.0  1.0  0.0  1.000000e+00  1.0  1.0  \n",
       "97  1.0  1.0  1.0  1.0  1.0  1.110223e-16  1.0  1.0  \n",
       "98  1.0  1.0  1.0  1.0  1.0  1.000000e+00  0.0  1.0  \n",
       "99  1.0  1.0  1.0  1.0  1.0  1.000000e+00  1.0  0.0  \n",
       "\n",
       "[100 rows x 100 columns]"
      ]
     },
     "execution_count": 29,
     "metadata": {},
     "output_type": "execute_result"
    }
   ],
   "source": [
    "matrix"
   ]
  },
  {
   "cell_type": "code",
   "execution_count": 30,
   "id": "65b79774",
   "metadata": {},
   "outputs": [],
   "source": [
    "personalization = []\n",
    "for i in range(matrix.shape[0]):\n",
    "    for j in range(matrix.shape[1]):\n",
    "        if i < j:\n",
    "            personalization.append(matrix.loc[i,j])"
   ]
  },
  {
   "cell_type": "code",
   "execution_count": 31,
   "id": "1a915560",
   "metadata": {
    "scrolled": false
   },
   "outputs": [
    {
     "data": {
      "text/plain": [
       "0.9646868686868687"
      ]
     },
     "execution_count": 31,
     "metadata": {},
     "output_type": "execute_result"
    }
   ],
   "source": [
    "np.mean(personalization)"
   ]
  },
  {
   "cell_type": "markdown",
   "id": "9fcb7fca",
   "metadata": {},
   "source": [
    "# Intra-list similarity"
   ]
  },
  {
   "cell_type": "code",
   "execution_count": 80,
   "id": "e1722fd5",
   "metadata": {},
   "outputs": [],
   "source": [
    "movies.drop(movies.iloc[:, 0:58], axis=1, inplace=True)"
   ]
  },
  {
   "cell_type": "code",
   "execution_count": 90,
   "id": "61d30d70",
   "metadata": {},
   "outputs": [],
   "source": [
    "# For suggestion 0\n",
    "matrix = pd.DataFrame(cosine_similarity(movies[movies.index.isin(suggested_movies[0].index)]))"
   ]
  },
  {
   "cell_type": "code",
   "execution_count": 92,
   "id": "35c1f1ed",
   "metadata": {},
   "outputs": [],
   "source": [
    "intra_list = []\n",
    "for i in range(matrix.shape[0]):\n",
    "    for j in range(matrix.shape[1]):\n",
    "        if i < j:\n",
    "            intra_list.append(matrix.loc[i,j])"
   ]
  },
  {
   "cell_type": "code",
   "execution_count": 94,
   "id": "3bab465d",
   "metadata": {},
   "outputs": [
    {
     "data": {
      "text/plain": [
       "0.35746617537858943"
      ]
     },
     "execution_count": 94,
     "metadata": {},
     "output_type": "execute_result"
    }
   ],
   "source": [
    "np.mean(intra_list)"
   ]
  },
  {
   "cell_type": "code",
   "execution_count": 98,
   "id": "4110cd8e",
   "metadata": {},
   "outputs": [],
   "source": [
    "# For all 100 suggestions\n",
    "intra_list_100 = []\n",
    "for i in suggested_movies:\n",
    "    matrix = pd.DataFrame(cosine_similarity(movies[movies.index.isin(i.index)]))\n",
    "    \n",
    "    intra_list = []\n",
    "    for i in range(matrix.shape[0]):\n",
    "        for j in range(matrix.shape[1]):\n",
    "            if i < j:\n",
    "                intra_list.append(matrix.loc[i,j])\n",
    "    \n",
    "    intra_list_100.append(np.mean(intra_list))"
   ]
  },
  {
   "cell_type": "code",
   "execution_count": 100,
   "id": "3a625021",
   "metadata": {},
   "outputs": [
    {
     "data": {
      "text/plain": [
       "0.25032162364364974"
      ]
     },
     "execution_count": 100,
     "metadata": {},
     "output_type": "execute_result"
    }
   ],
   "source": [
    "np.mean(intra_list_100)"
   ]
  },
  {
   "cell_type": "code",
   "execution_count": null,
   "id": "4363f6ad",
   "metadata": {},
   "outputs": [],
   "source": []
  }
 ],
 "metadata": {
  "kernelspec": {
   "display_name": "Python 3 (ipykernel)",
   "language": "python",
   "name": "python3"
  },
  "language_info": {
   "codemirror_mode": {
    "name": "ipython",
    "version": 3
   },
   "file_extension": ".py",
   "mimetype": "text/x-python",
   "name": "python",
   "nbconvert_exporter": "python",
   "pygments_lexer": "ipython3",
   "version": "3.9.7"
  }
 },
 "nbformat": 4,
 "nbformat_minor": 5
}
