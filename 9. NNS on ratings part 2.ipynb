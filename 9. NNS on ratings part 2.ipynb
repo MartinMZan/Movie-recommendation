{
 "cells": [
  {
   "cell_type": "code",
   "execution_count": 111,
   "id": "250fcb88",
   "metadata": {},
   "outputs": [],
   "source": [
    "import numpy as np\n",
    "import pandas as pd\n",
    "from sklearn.preprocessing import MultiLabelBinarizer\n",
    "from sklearn.preprocessing import MinMaxScaler\n",
    "from scipy.spatial import distance\n",
    "\n",
    "import seaborn as sns\n",
    "import matplotlib.pyplot as plt\n",
    "\n",
    "import time"
   ]
  },
  {
   "cell_type": "code",
   "execution_count": 2,
   "id": "98db8cae",
   "metadata": {},
   "outputs": [],
   "source": [
    "movies = pd.read_csv('3b movies_GloVe.csv')\n",
    "unprepared_movies = pd.read_csv('3b movies_GloVe.csv')\n",
    "country_codes = pd.read_csv('country_codes.csv')\n",
    "ratings = pd.read_csv('2 ratings.csv')"
   ]
  },
  {
   "cell_type": "code",
   "execution_count": 3,
   "id": "2652cd89",
   "metadata": {},
   "outputs": [],
   "source": [
    "def get_numbers(str):\n",
    "    \"\"\"Return the integer numbers from a string in an array format.\"\"\"\n",
    "    arr = str.replace(',','').replace('{','').replace('}','').replace('[','').replace(']','').split()\n",
    "    arr = [int(s) for s in arr if s.isdigit()]\n",
    "    return arr\n",
    "\n",
    "def get_country_codes(str):\n",
    "    \"\"\"Return the codes of the countries from a string.\"\"\"\n",
    "    arr = str.replace(',','').replace('{','').replace('}','').replace('[','').replace(']','').replace(\"'\", \"\").split()\n",
    "    arr = [s for s in arr if country_codes['Code'].str.contains(s).any()]\n",
    "    return arr\n",
    "\n",
    "def prepare_dataframe(movies):\n",
    "    \n",
    "    # Conversion\n",
    "    movies['genres'] = movies['genres'].apply(lambda str: get_numbers(str))\n",
    "    movies['production_companies'] = movies['production_companies'].apply(lambda str: get_numbers(str))\n",
    "    movies['production_countries'] = movies['production_countries'].apply(lambda str: get_country_codes(str)) # This takes time\n",
    "    \n",
    "    # Get dummies\n",
    "    mlb = MultiLabelBinarizer()\n",
    "    genres = pd.DataFrame(mlb.fit_transform(movies['genres']), columns=mlb.classes)\n",
    "\n",
    "    mlb = MultiLabelBinarizer()\n",
    "    production_companies = pd.DataFrame(mlb.fit_transform(movies['production_companies']), columns=mlb.classes)\n",
    "\n",
    "    mlb = MultiLabelBinarizer()\n",
    "    production_countries = pd.DataFrame(mlb.fit_transform(movies['production_countries']), columns=mlb.classes)\n",
    "\n",
    "    original_language = pd.get_dummies(movies['original_language'])\n",
    "    \n",
    "    # Rename the columns to unique names\n",
    "    for i in range(genres.shape[1]):\n",
    "        genres.rename(mapper={i : str(i) + '. genre'}, axis=1, inplace=True)\n",
    "    \n",
    "    for i in range(production_countries.shape[1]):\n",
    "        production_countries.rename(mapper={i : str(i) + '. country'}, axis=1, inplace=True)\n",
    "    \n",
    "    movieids = movies['id']\n",
    "    movies = movies.drop(['id', 'title'], axis=1)\n",
    "    \n",
    "    # production_companies, original languages, production countries are not used, because of huge running time\n",
    "    numeric = movies.drop(['adult', 'genres', 'original_language', 'production_companies', 'production_countries'], axis=1)\n",
    "    categorical = movies[['adult']].join(genres)\n",
    "    \n",
    "    # Scale the numeric values to (0, 1) interval\n",
    "    scaler = MinMaxScaler()\n",
    "    numeric = scaler.fit_transform(numeric)\n",
    "    \n",
    "    movievectors = pd.DataFrame(numeric).join(categorical)\n",
    "    movievectors.index = movieids\n",
    "    \n",
    "    return movievectors"
   ]
  },
  {
   "cell_type": "code",
   "execution_count": 4,
   "id": "4df65b56",
   "metadata": {},
   "outputs": [],
   "source": [
    "movies = prepare_dataframe(movies)"
   ]
  },
  {
   "cell_type": "markdown",
   "id": "8033e5a9",
   "metadata": {},
   "source": [
    "Recommend movies:"
   ]
  },
  {
   "cell_type": "code",
   "execution_count": 101,
   "id": "2ba52dc1",
   "metadata": {},
   "outputs": [],
   "source": [
    "inputuser = 1"
   ]
  },
  {
   "cell_type": "code",
   "execution_count": 115,
   "id": "c27dfc3b",
   "metadata": {},
   "outputs": [],
   "source": [
    "def similarity(inputuser=1, ratings=ratings):\n",
    "    \n",
    "    if inputuser not in ratings['userId']:\n",
    "        return -1\n",
    "    \n",
    "    # Users and their ratings that have at least 1 common movie with input user\n",
    "    reduced_ratings = ratings[ratings['movieId'].isin(ratings[ratings['userId'] == inputuser]['movieId'])]\n",
    "    \n",
    "    groups = reduced_ratings.groupby('userId')\n",
    "\n",
    "    inputuserdata = groups.get_group(inputuser).drop('userId', axis=1)\n",
    "\n",
    "    similarity_vector = []\n",
    "    for user in reduced_ratings['userId'].unique():\n",
    "        otheruserdata = groups.get_group(user).drop('userId', axis=1)\n",
    "\n",
    "        # Distance\n",
    "        ncommonmovies = inputuserdata['movieId'].isin(otheruserdata['movieId']).sum()\n",
    "\n",
    "        # Common movies vector\n",
    "        input = inputuserdata[inputuserdata['movieId'].isin(otheruserdata['movieId'])]['rating']\n",
    "        other = otheruserdata[otheruserdata['movieId'].isin(inputuserdata['movieId'])]['rating']\n",
    "\n",
    "        similarity = 1 - distance.cosine(input, other)\n",
    "        similarity = (similarity + 1) / 2 # [-1..1] interval to [0..1]\n",
    "\n",
    "        similarity = similarity * ncommonmovies\n",
    "        similarity_vector.append(similarity)\n",
    "        \n",
    "    return similarity_vector"
   ]
  },
  {
   "cell_type": "code",
   "execution_count": 112,
   "id": "b88a5e45",
   "metadata": {},
   "outputs": [],
   "source": [
    "start = time.time()\n",
    "similarity_vector = similarity(inputuser = 1, ratings = ratings)\n",
    "end = time.time()\n",
    "elapsed = end-start"
   ]
  },
  {
   "cell_type": "code",
   "execution_count": 113,
   "id": "512282bd",
   "metadata": {},
   "outputs": [
    {
     "data": {
      "text/plain": [
       "210.87516808509827"
      ]
     },
     "execution_count": 113,
     "metadata": {},
     "output_type": "execute_result"
    }
   ],
   "source": [
    "elapsed"
   ]
  },
  {
   "cell_type": "code",
   "execution_count": 122,
   "id": "19e02dfe",
   "metadata": {},
   "outputs": [
    {
     "data": {
      "text/plain": [
       "<seaborn.axisgrid.FacetGrid at 0x1cf2fe04f10>"
      ]
     },
     "execution_count": 122,
     "metadata": {},
     "output_type": "execute_result"
    },
    {
     "data": {
      "text/plain": [
       "<Figure size 936x360 with 0 Axes>"
      ]
     },
     "metadata": {},
     "output_type": "display_data"
    },
    {
     "data": {
      "image/png": "[encoded data removed]",
      "text/plain": [
       "<Figure size 360x360 with 1 Axes>"
      ]
     },
     "metadata": {},
     "output_type": "display_data"
    }
   ],
   "source": [
    "# Distribution of distances\n",
    "sns.set_theme(style=\"white\")\n",
    "plt.figure(figsize=(13,5))\n",
    "\n",
    "sns.displot(similarity_vector, stat='percent', color='skyblue')"
   ]
  },
  {
   "cell_type": "code",
   "execution_count": null,
   "id": "59ffeb69",
   "metadata": {},
   "outputs": [],
   "source": []
  }
 ],
 "metadata": {
  "kernelspec": {
   "display_name": "Python 3 (ipykernel)",
   "language": "python",
   "name": "python3"
  },
  "language_info": {
   "codemirror_mode": {
    "name": "ipython",
    "version": 3
   },
   "file_extension": ".py",
   "mimetype": "text/x-python",
   "name": "python",
   "nbconvert_exporter": "python",
   "pygments_lexer": "ipython3",
   "version": "3.9.7"
  }
 },
 "nbformat": 4,
 "nbformat_minor": 5
}
