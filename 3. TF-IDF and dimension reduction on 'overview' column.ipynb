{
 "cells": [
  {
   "cell_type": "code",
   "execution_count": 1,
   "id": "cc29c55a",
   "metadata": {},
   "outputs": [],
   "source": [
    "import pandas as pd\n",
    "import string\n",
    "import nltk\n",
    "from nltk.stem.snowball import EnglishStemmer\n",
    "from sklearn.feature_extraction.text import TfidfVectorizer\n",
    "from sklearn.decomposition import TruncatedSVD\n",
    "\n",
    "#nltk.download('words')"
   ]
  },
  {
   "cell_type": "code",
   "execution_count": 2,
   "id": "84475f60",
   "metadata": {},
   "outputs": [],
   "source": [
    "def text_to_raw(str):\n",
    "    # Remove punctuation\n",
    "    str = [char for char in str if char not in string.punctuation]\n",
    "    str = ''.join(str)\n",
    "    \n",
    "    # And use stemmer\n",
    "    str = str.split(' ')\n",
    "    str = [stemmer.stem(word) for word in str]\n",
    "    str = ' '.join(str)\n",
    "    \n",
    "    return str\n",
    "\n",
    "def remove_non_english(str):\n",
    "    str = str.split(' ')\n",
    "    str = [word for word in str if word not in englishwords]\n",
    "    str = ' '.join(str)\n",
    "    \n",
    "    return str"
   ]
  },
  {
   "cell_type": "code",
   "execution_count": 6,
   "id": "ef738a0d",
   "metadata": {},
   "outputs": [],
   "source": [
    "# Separate movies to 2 files based on overview column\n",
    "movies = pd.read_csv('movies_metadata.csv', low_memory=False)\n",
    "\n",
    "movieswithoverview = movies[movies['overview'].notnull()]\n",
    "movies = movies[movies['overview'].isnull()]\n",
    "\n",
    "## Write\n",
    "# movies.to_csv('movies_metadata.csv', index=False)\n",
    "# movieswithoverview.to_csv('movies_metadata_withoverview.csv', index=False)"
   ]
  },
  {
   "cell_type": "code",
   "execution_count": 14,
   "id": "4faf4c94",
   "metadata": {},
   "outputs": [],
   "source": [
    "# Read and select movies with overview\n",
    "movieswithoverview = pd.read_csv('movies_metadata_withoverview.csv', low_memory=False)"
   ]
  },
  {
   "cell_type": "code",
   "execution_count": 4,
   "id": "459ce9c6",
   "metadata": {},
   "outputs": [],
   "source": [
    "# Use stemmer\n",
    "stemmer = EnglishStemmer()\n",
    "movieswithoverview['overview'] = movieswithoverview['overview'].apply(text_to_raw)"
   ]
  },
  {
   "cell_type": "code",
   "execution_count": 5,
   "id": "faad738f",
   "metadata": {},
   "outputs": [],
   "source": [
    "# Get rid of non english text\n",
    "# This took me at least 1 hour to run!\n",
    "englishwords = nltk.corpus.words.words()\n",
    "movieswithoverview['overview'] = movieswithoverview['overview'].apply(remove_non_english)"
   ]
  },
  {
   "cell_type": "code",
   "execution_count": 6,
   "id": "fb2b3407",
   "metadata": {},
   "outputs": [],
   "source": [
    "# Use TF-IDF\n",
    "tfidf = TfidfVectorizer(lowercase=True, stop_words='english')\n",
    "vector = tfidf.fit_transform(movieswithoverview['overview'])"
   ]
  },
  {
   "cell_type": "code",
   "execution_count": 7,
   "id": "07c6fb72",
   "metadata": {},
   "outputs": [
    {
     "data": {
      "text/plain": [
       "<44506x56946 sparse matrix of type '<class 'numpy.float64'>'\n",
       "\twith 474961 stored elements in Compressed Sparse Row format>"
      ]
     },
     "execution_count": 7,
     "metadata": {},
     "output_type": "execute_result"
    }
   ],
   "source": [
    "# The number of words is reduced to ~57 000\n",
    "vector"
   ]
  },
  {
   "cell_type": "code",
   "execution_count": 8,
   "id": "b40a96ff",
   "metadata": {},
   "outputs": [],
   "source": [
    "# Dimension reduction\n",
    "k = 50 # Number of components\n",
    "svd = TruncatedSVD(n_components=k)\n",
    "vector = svd.fit_transform(vector)"
   ]
  },
  {
   "cell_type": "code",
   "execution_count": 9,
   "id": "40934a8a",
   "metadata": {},
   "outputs": [],
   "source": [
    "# Store vector into dataframe and join them\n",
    "components = pd.DataFrame(vector, columns=[str(i) + '. overview component' for i in range(0,k)])\n",
    "\n",
    "movieswithcomponents = movieswithoverview.join(components).drop('overview', axis=1)"
   ]
  },
  {
   "cell_type": "code",
   "execution_count": 10,
   "id": "745901e2",
   "metadata": {},
   "outputs": [],
   "source": [
    "## Write to file\n",
    "# movieswithcomponents.to_csv('movies_metadata_withcomponents.csv', index=False)"
   ]
  },
  {
   "cell_type": "code",
   "execution_count": 15,
   "id": "326674e2",
   "metadata": {},
   "outputs": [
    {
     "data": {
      "text/plain": [
       "'Zhigen, an old Chinese farmer, has lived alone in Beijing for over 20 years after moving to the city to allow his son Chongyi to attend university. He decides to make the long journey from Beijing to Yangshuo to honour the promise he made to his wife to bring back the bird that has been his only companion in the city. His daughter-in-law Qianying, a beautiful rich career woman, asks him to take along his granddaughter Renxing, an only child brought up in the lap of luxury. While grandfather and granddaughter set out on their journey - one travelling back in time, the other discovering her roots - Chongyi and Qianying, ponder the meaning of the life they have led in the sole pursuit of success and money.'"
      ]
     },
     "execution_count": 15,
     "metadata": {},
     "output_type": "execute_result"
    }
   ],
   "source": [
    "# Example how the text changed\n",
    "movieswithoverview['overview'][40000]"
   ]
  },
  {
   "cell_type": "code",
   "execution_count": 13,
   "id": "b9e51458",
   "metadata": {},
   "outputs": [
    {
     "data": {
      "text/plain": [
       "'zhigen chines has alon beij 20 citi chongyi univers decid beij yangshuo honour promis has onli citi daughterinlaw qiani granddaught renx onli luxuri grandfath granddaught  discov  chongyi qiani'"
      ]
     },
     "execution_count": 13,
     "metadata": {},
     "output_type": "execute_result"
    }
   ],
   "source": [
    "remove_non_english(movieswithoverview['overview'][40000])"
   ]
  },
  {
   "cell_type": "code",
   "execution_count": null,
   "id": "d2c1c956",
   "metadata": {},
   "outputs": [],
   "source": []
  }
 ],
 "metadata": {
  "kernelspec": {
   "display_name": "Python 3",
   "language": "python",
   "name": "python3"
  },
  "language_info": {
   "codemirror_mode": {
    "name": "ipython",
    "version": 3
   },
   "file_extension": ".py",
   "mimetype": "text/x-python",
   "name": "python",
   "nbconvert_exporter": "python",
   "pygments_lexer": "ipython3",
   "version": "3.8.8"
  }
 },
 "nbformat": 4,
 "nbformat_minor": 5
}
