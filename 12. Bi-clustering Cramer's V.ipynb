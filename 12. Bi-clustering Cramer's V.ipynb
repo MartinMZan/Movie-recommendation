{
 "cells": [
  {
   "cell_type": "code",
   "execution_count": 1,
   "id": "ff814322",
   "metadata": {},
   "outputs": [],
   "source": [
    "import pandas as pd\n",
    "import numpy as np"
   ]
  },
  {
   "cell_type": "code",
   "execution_count": 2,
   "id": "761cc0c4",
   "metadata": {},
   "outputs": [],
   "source": [
    "ratings = pd.read_csv(\"2 ratings.csv\")\n",
    "movies = pd.read_csv(\"4 movies.csv\", low_memory=False)"
   ]
  },
  {
   "cell_type": "code",
   "execution_count": 3,
   "id": "f159d0d5",
   "metadata": {},
   "outputs": [],
   "source": [
    "# Get rid of ratings without movie, bad ratings, and movies without rating\n",
    "ratings = ratings[ratings['movieId'].isin(movies['id'])]\n",
    "ratings = ratings[ratings['rating'] > 2.5]\n",
    "movies = movies[movies['id'].isin(ratings['movieId'])]"
   ]
  },
  {
   "cell_type": "code",
   "execution_count": 47,
   "id": "bd005581",
   "metadata": {},
   "outputs": [],
   "source": [
    "###\n",
    "# ratings.to_csv(\"3 ratings_bicluster.csv\", index=False)\n",
    "# movies.to_csv(\"5 movies_bicluster.csv\", index=False)"
   ]
  },
  {
   "cell_type": "markdown",
   "id": "8bdc6549",
   "metadata": {},
   "source": [
    "# Cramér's V"
   ]
  },
  {
   "cell_type": "code",
   "execution_count": 240,
   "id": "71d661fe",
   "metadata": {},
   "outputs": [],
   "source": [
    "import pandas as pd\n",
    "import numpy as np\n",
    "import random"
   ]
  },
  {
   "cell_type": "code",
   "execution_count": 15,
   "id": "c8fb6e37",
   "metadata": {},
   "outputs": [],
   "source": [
    "ratings = pd.read_csv(\"3 ratings_bicluster.csv\")\n",
    "movies = pd.read_csv(\"5 movies_bicluster.csv\", low_memory=False)"
   ]
  },
  {
   "cell_type": "code",
   "execution_count": 16,
   "id": "514c2726",
   "metadata": {},
   "outputs": [],
   "source": [
    "nuserClusters = 10\n",
    "nmovieClusters = 4"
   ]
  },
  {
   "cell_type": "code",
   "execution_count": 17,
   "id": "0b61067f",
   "metadata": {},
   "outputs": [],
   "source": [
    "# Random clusters\n",
    "userCluster = ratings['userId'].apply(lambda x: x % nuserClusters)\n",
    "movieCluster = ratings['movieId'].apply(lambda x: x % nmovieClusters)"
   ]
  },
  {
   "cell_type": "code",
   "execution_count": 18,
   "id": "2e0db013",
   "metadata": {},
   "outputs": [],
   "source": [
    "ratings['userCluster'] = userCluster\n",
    "ratings['movieCluster'] = movieCluster"
   ]
  },
  {
   "cell_type": "code",
   "execution_count": 19,
   "id": "756a4ddf",
   "metadata": {},
   "outputs": [],
   "source": [
    "userMatrix = np.zeros((nmovieClusters,nuserClusters))\n",
    "movieMatrix = np.zeros((nmovieClusters,nuserClusters))"
   ]
  },
  {
   "cell_type": "code",
   "execution_count": 20,
   "id": "22c62fd1",
   "metadata": {},
   "outputs": [],
   "source": [
    "# Strength of connection from user's clusters perspective\n",
    "# Number of connections between i. movie cluster and j. user cluster / all connections of j. user(!) cluster\n",
    "for i in range(nmovieClusters):\n",
    "    for j in range (nuserClusters):\n",
    "        userMatrix[i,j] = ratings[(ratings['movieCluster'] == i) & (ratings['userCluster'] == j)].shape[0] / ratings[ratings['userCluster'] == j].shape[0]"
   ]
  },
  {
   "cell_type": "code",
   "execution_count": 21,
   "id": "d3030388",
   "metadata": {},
   "outputs": [],
   "source": [
    "# Strength of connection from movies's clusters perspective\n",
    "# Number of connections between i. movie cluster and j. user cluster / all connections of i. movie(!) cluster\n",
    "for i in range(nmovieClusters):\n",
    "    for j in range (nuserClusters):\n",
    "        movieMatrix[i,j] = ratings[(ratings['movieCluster'] == i) & (ratings['userCluster'] == j)].shape[0] / ratings[ratings['movieCluster'] == i].shape[0]"
   ]
  },
  {
   "cell_type": "code",
   "execution_count": 22,
   "id": "beb07373",
   "metadata": {},
   "outputs": [],
   "source": [
    "relationMatrix = (userMatrix + movieMatrix) / 2"
   ]
  },
  {
   "cell_type": "code",
   "execution_count": 23,
   "id": "bc124e84",
   "metadata": {},
   "outputs": [],
   "source": [
    "# Cramér's V\n",
    "V = 0\n",
    "n = np.sum(relationMatrix)\n",
    "for i in range(nmovieClusters):\n",
    "    for j in range (nuserClusters):\n",
    "        p = np.sum(relationMatrix, axis=0)[j] * np.sum(relationMatrix, axis=1)[i] / n\n",
    "        V = V + (relationMatrix[i,j] - p)**2 / p"
   ]
  },
  {
   "cell_type": "code",
   "execution_count": 24,
   "id": "fad5345f",
   "metadata": {},
   "outputs": [],
   "source": [
    "V = np.sqrt(V / n / min(nmovieClusters - 1, nuserClusters - 1))"
   ]
  },
  {
   "cell_type": "code",
   "execution_count": 25,
   "id": "c96e9211",
   "metadata": {},
   "outputs": [
    {
     "data": {
      "text/plain": [
       "0.0007432686132471521"
      ]
     },
     "execution_count": 25,
     "metadata": {},
     "output_type": "execute_result"
    }
   ],
   "source": [
    "V"
   ]
  },
  {
   "cell_type": "markdown",
   "id": "9f5c8f52",
   "metadata": {},
   "source": [
    "# Cramér's V Score comparison"
   ]
  },
  {
   "cell_type": "code",
   "execution_count": 20,
   "id": "80f24799",
   "metadata": {},
   "outputs": [],
   "source": [
    "import pandas as pd\n",
    "import numpy as np\n",
    "import random\n",
    "import time\n",
    "\n",
    "from sklearn.preprocessing import MinMaxScaler\n",
    "from sklearn.cluster import Birch\n",
    "from sklearn.decomposition import PCA\n",
    "\n",
    "import pickle\n",
    "import seaborn as sns\n",
    "import matplotlib.pyplot as plt"
   ]
  },
  {
   "cell_type": "code",
   "execution_count": 2,
   "id": "b3915847",
   "metadata": {},
   "outputs": [],
   "source": [
    "ratings_birch = pd.read_csv(\"3 ratings_bicluster.csv\")\n",
    "ratings_random = pd.read_csv(\"3 ratings_bicluster.csv\")\n",
    "movies = pd.read_csv(\"5 movies_bicluster.csv\", low_memory=False)"
   ]
  },
  {
   "cell_type": "code",
   "execution_count": 3,
   "id": "d6ca0abe",
   "metadata": {},
   "outputs": [],
   "source": [
    "def get_numbers(str):\n",
    "    \"\"\"Return the integer numbers from a string in an array format.\"\"\"\n",
    "    arr = str.replace(',','').replace('{','').replace('}','').replace('[','').replace(']','').split()\n",
    "    arr = [int(s) for s in arr if s.isdigit()]\n",
    "    return arr\n",
    "\n",
    "def get_country_codes(str):\n",
    "    \"\"\"Return the codes of the countries from a string.\"\"\"\n",
    "    arr = str.replace(',','').replace('{','').replace('}','').replace('[','').replace(']','').replace(\"'\", \"\").split()\n",
    "    arr = [s for s in arr if country_codes['Code'].str.contains(s).any()]\n",
    "    return arr\n",
    "\n",
    "def prepare_dataframe(movies):\n",
    "    \n",
    "    movieids = movies['id']\n",
    "    movies = movies.drop(['id', 'title'], axis=1)\n",
    "    \n",
    "    # Categorical values are not used, because of the algorithm\n",
    "    numeric = movies.drop(['adult', 'genres', 'original_language', 'production_companies', 'production_countries'], axis=1)\n",
    "    \n",
    "    # Scale the numeric values to (0, 1) interval\n",
    "    scaler = MinMaxScaler()\n",
    "    numeric = scaler.fit_transform(numeric)\n",
    "    \n",
    "    movievectors = pd.DataFrame(numeric)\n",
    "    movievectors.index = movieids\n",
    "    \n",
    "    return movievectors"
   ]
  },
  {
   "cell_type": "code",
   "execution_count": 4,
   "id": "815edfc8",
   "metadata": {},
   "outputs": [],
   "source": [
    "def cramerv(ratings, nmovieClusters, nuserClusters):\n",
    "    \n",
    "    userMatrix = np.zeros((nmovieClusters,nuserClusters))\n",
    "    movieMatrix = np.zeros((nmovieClusters,nuserClusters))\n",
    "    \n",
    "    # Strength of connection from user's clusters perspective\n",
    "    # Number of connections between i. movie cluster and j. user cluster / all connections of j. user(!) cluster\n",
    "    for i in range(nmovieClusters):\n",
    "        for j in range (nuserClusters):\n",
    "            userMatrix[i,j] = ratings[(ratings['movieCluster'] == i) & \n",
    "                                      (ratings['userCluster'] == j)].shape[0] / ratings[ratings['userCluster'] == j].shape[0]\n",
    "            \n",
    "    # Strength of connection from movies's clusters perspective\n",
    "    # Number of connections between i. movie cluster and j. user cluster / all connections of i. movie(!) cluster\n",
    "    for i in range(nmovieClusters):\n",
    "        for j in range (nuserClusters):\n",
    "            movieMatrix[i,j] = ratings[(ratings['movieCluster'] == i) & \n",
    "                                       (ratings['userCluster'] == j)].shape[0] / ratings[ratings['movieCluster'] == i].shape[0]\n",
    "            \n",
    "    relationMatrix = (userMatrix + movieMatrix) / 2\n",
    "    \n",
    "    # Cramér's V\n",
    "    V = 0\n",
    "    n = np.sum(relationMatrix)\n",
    "    for i in range(nmovieClusters):\n",
    "        for j in range (nuserClusters):\n",
    "            p = np.sum(relationMatrix, axis=0)[j] * np.sum(relationMatrix, axis=1)[i] / n\n",
    "            V = V + (relationMatrix[i,j] - p)**2 / p\n",
    "            \n",
    "    V = np.sqrt(V / n / min(nmovieClusters - 1, nuserClusters - 1))\n",
    "    \n",
    "    return V\n",
    "    \n",
    "def movieid_to_cluster(movieid):\n",
    "    reduced = pca.transform(np.array(movies.loc[movieid]).reshape(1, -1))\n",
    "    cluster = birch.predict(reduced)\n",
    "    cluster = cluster[0]\n",
    "    \n",
    "    return cluster"
   ]
  },
  {
   "cell_type": "code",
   "execution_count": 23,
   "id": "f5cf0bba",
   "metadata": {},
   "outputs": [],
   "source": [
    "###"
   ]
  },
  {
   "cell_type": "code",
   "execution_count": 5,
   "id": "69ece7ec",
   "metadata": {},
   "outputs": [],
   "source": [
    "# Use the best previous movie clustering solution\n",
    "movies = prepare_dataframe(movies)\n",
    "\n",
    "pca = PCA(n_components=39)\n",
    "reduced_data_PCA = pca.fit_transform(movies)\n",
    "\n",
    "for thres in np.arange(0.5, 0, -0.05):\n",
    "    try:\n",
    "        birch = Birch(threshold=thres)\n",
    "        birch.fit(reduced_data_PCA)\n",
    "        break\n",
    "    except:\n",
    "        pass"
   ]
  },
  {
   "cell_type": "code",
   "execution_count": null,
   "id": "0590c4bb",
   "metadata": {},
   "outputs": [],
   "source": [
    "nuserClusters = 10\n",
    "nmovieClusters = birch.n_clusters"
   ]
  },
  {
   "cell_type": "code",
   "execution_count": 7,
   "id": "efa81f0b",
   "metadata": {},
   "outputs": [],
   "source": [
    "ratings_birch['userCluster'] = ratings_birch['userId'].apply(lambda x: x % nuserClusters)\n",
    "\n",
    "ratings_birch['movieCluster'] = np.zeros(ratings_birch.shape[0])\n",
    "for unique in ratings_birch['movieId'].unique():\n",
    "    cluster = movieid_to_cluster(unique)\n",
    "    ratings_birch.loc[ratings_birch.movieId == unique, 'movieCluster'] = cluster"
   ]
  },
  {
   "cell_type": "code",
   "execution_count": 8,
   "id": "8b390b2b",
   "metadata": {},
   "outputs": [],
   "source": [
    "# For comparison we generate random movie clusters also\n",
    "ratings_random['userCluster'] = ratings_random['userId'].apply(lambda x: x % nuserClusters)\n",
    "ratings_random['movieCluster'] = ratings_random['movieId'].apply(lambda x: x % nmovieClusters)"
   ]
  },
  {
   "cell_type": "code",
   "execution_count": 9,
   "id": "a7fe98cc",
   "metadata": {},
   "outputs": [
    {
     "data": {
      "text/plain": [
       "0.003570614255590483"
      ]
     },
     "execution_count": 9,
     "metadata": {},
     "output_type": "execute_result"
    }
   ],
   "source": [
    "cramerv(ratings_birch, nmovieClusters, nuserClusters)"
   ]
  },
  {
   "cell_type": "code",
   "execution_count": 10,
   "id": "63185330",
   "metadata": {},
   "outputs": [
    {
     "data": {
      "text/plain": [
       "0.0010278632410976667"
      ]
     },
     "execution_count": 10,
     "metadata": {},
     "output_type": "execute_result"
    }
   ],
   "source": [
    "cramerv(ratings_random, nmovieClusters, nuserClusters)"
   ]
  },
  {
   "cell_type": "code",
   "execution_count": 11,
   "id": "7b1e7c33",
   "metadata": {},
   "outputs": [
    {
     "data": {
      "text/plain": [
       "3.473822307116834"
      ]
     },
     "execution_count": 11,
     "metadata": {},
     "output_type": "execute_result"
    }
   ],
   "source": [
    "cramerv(ratings_birch, nmovieClusters, nuserClusters) / cramerv(ratings_random, nmovieClusters, nuserClusters)"
   ]
  },
  {
   "cell_type": "code",
   "execution_count": 12,
   "id": "3bb69713",
   "metadata": {},
   "outputs": [],
   "source": [
    "# Save ratings for later use\n",
    "# ratings_birch.to_csv('4 ratings_bicluster2.csv', index=False)"
   ]
  },
  {
   "cell_type": "markdown",
   "id": "742f3677",
   "metadata": {},
   "source": [
    "# Maximalize V Score with hill climbing"
   ]
  },
  {
   "cell_type": "code",
   "execution_count": 5,
   "id": "afdabc85",
   "metadata": {},
   "outputs": [],
   "source": [
    "def hill_climbing_V_score(ratings, nmovieClusters, nuserClusters, minutes):\n",
    "    \n",
    "    scores = []\n",
    "    localscore = cramerv(ratings, nmovieClusters, nuserClusters)\n",
    "    scores.append(localscore)\n",
    "    random_factor = ratings['userId'].nunique() / (ratings['movieId'].nunique() + ratings['userId'].nunique())\n",
    "    start = time.time()\n",
    "    \n",
    "    #for nIterations in range(5):\n",
    "    while time.time() - start < minutes * 60: # time in seconds\n",
    "        if np.random.rand() > random_factor:\n",
    "            random_movie_id = random.choice(ratings.movieId.unique())\n",
    "            random_movie_cluster = np.random.randint(0, nmovieClusters)\n",
    "            ratings2 = ratings.copy(deep = True)\n",
    "            ratings2.loc[ratings2.movieId == random_movie_id, 'movieCluster'] = random_movie_cluster\n",
    "\n",
    "            neighborscore = cramerv(ratings2, nmovieClusters, nuserClusters)    \n",
    "        else:\n",
    "            random_user_id = random.choice(ratings.userId.unique())\n",
    "            random_user_cluster = np.random.randint(0, nuserClusters)\n",
    "            ratings2 = ratings.copy(deep = True)\n",
    "            ratings2.loc[ratings2.userId == random_user_id, 'userCluster'] = random_user_cluster\n",
    "\n",
    "            neighborscore = cramerv(ratings2, nmovieClusters, nuserClusters) \n",
    "        \n",
    "        scores.append(neighborscore)\n",
    "        \n",
    "        if neighborscore > localscore:\n",
    "            ratings = ratings2.copy(deep = True)\n",
    "            localscore = neighborscore\n",
    "            \n",
    "    return ratings, scores"
   ]
  },
  {
   "cell_type": "code",
   "execution_count": 6,
   "id": "34d5de1a",
   "metadata": {},
   "outputs": [],
   "source": [
    "# ratings = pd.read_csv(\"4 ratings_bicluster2.csv\")\n",
    "ratings = pd.read_csv(\"5 ratings_cramers_v_optimized.csv\")"
   ]
  },
  {
   "cell_type": "code",
   "execution_count": 7,
   "id": "11d5016a",
   "metadata": {},
   "outputs": [],
   "source": [
    "nuserClusters = ratings.userCluster.nunique()\n",
    "nmovieClusters = ratings.movieCluster.nunique()"
   ]
  },
  {
   "cell_type": "code",
   "execution_count": 56,
   "id": "4cd1c1aa",
   "metadata": {},
   "outputs": [],
   "source": [
    "[ratings, scores] = hill_climbing_V_score(ratings, nmovieClusters, nuserClusters, 50)"
   ]
  },
  {
   "cell_type": "code",
   "execution_count": 58,
   "id": "e0f5f889",
   "metadata": {},
   "outputs": [],
   "source": [
    "###\n",
    "#ratings.to_csv('5 ratings_cramers_v_optimized.csv', index=False)\n",
    "\n",
    "#pickle.dump(scores, open(\"cramer_v_scores.p\", 'wb'))"
   ]
  },
  {
   "cell_type": "code",
   "execution_count": 33,
   "id": "d4443a73",
   "metadata": {},
   "outputs": [
    {
     "data": {
      "text/plain": [
       "0.003597198086623833"
      ]
     },
     "execution_count": 33,
     "metadata": {},
     "output_type": "execute_result"
    }
   ],
   "source": [
    "cramerv(ratings, nmovieClusters, nuserClusters)"
   ]
  },
  {
   "cell_type": "code",
   "execution_count": 21,
   "id": "64770197",
   "metadata": {},
   "outputs": [
    {
     "data": {
      "text/plain": [
       "<AxesSubplot:ylabel=\"Cramér's V\">"
      ]
     },
     "execution_count": 21,
     "metadata": {},
     "output_type": "execute_result"
    },
    {
     "data": {
      "image/png": "[encoded data removed]",
      "text/plain": [
       "<Figure size 936x360 with 1 Axes>"
      ]
     },
     "metadata": {},
     "output_type": "display_data"
    }
   ],
   "source": [
    "# Visualize the results\n",
    "sns.set_theme(style=\"white\")\n",
    "plt.figure(figsize=(13,5))\n",
    "plt.ylabel(\"Cramér's V\")\n",
    "\n",
    "sns.lineplot(x=range(len(scores)), y=scores)"
   ]
  },
  {
   "cell_type": "code",
   "execution_count": null,
   "id": "5822a5ff",
   "metadata": {},
   "outputs": [],
   "source": []
  }
 ],
 "metadata": {
  "kernelspec": {
   "display_name": "Python 3 (ipykernel)",
   "language": "python",
   "name": "python3"
  },
  "language_info": {
   "codemirror_mode": {
    "name": "ipython",
    "version": 3
   },
   "file_extension": ".py",
   "mimetype": "text/x-python",
   "name": "python",
   "nbconvert_exporter": "python",
   "pygments_lexer": "ipython3",
   "version": "3.9.7"
  }
 },
 "nbformat": 4,
 "nbformat_minor": 5
}
