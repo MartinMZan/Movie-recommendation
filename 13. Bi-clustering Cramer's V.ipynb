{
 "cells": [
  {
   "cell_type": "code",
   "execution_count": 1,
   "id": "ff814322",
   "metadata": {},
   "outputs": [],
   "source": [
    "import pandas as pd\n",
    "import numpy as np"
   ]
  },
  {
   "cell_type": "code",
   "execution_count": 2,
   "id": "761cc0c4",
   "metadata": {},
   "outputs": [],
   "source": [
    "ratings = pd.read_csv(\"2 ratings.csv\")\n",
    "movies = pd.read_csv(\"4 movies.csv\", low_memory=False)"
   ]
  },
  {
   "cell_type": "code",
   "execution_count": 3,
   "id": "f159d0d5",
   "metadata": {},
   "outputs": [],
   "source": [
    "# Get rid of ratings without movie, bad ratings, and movies without rating\n",
    "ratings = ratings[ratings['movieId'].isin(movies['id'])]\n",
    "ratings = ratings[ratings['rating'] > 2.5]\n",
    "movies = movies[movies['id'].isin(ratings['movieId'])]"
   ]
  },
  {
   "cell_type": "code",
   "execution_count": 47,
   "id": "bd005581",
   "metadata": {},
   "outputs": [],
   "source": [
    "###\n",
    "# ratings.to_csv(\"3 ratings_bicluster.csv\", index=False)\n",
    "# movies.to_csv(\"5 movies_bicluster.csv\", index=False)"
   ]
  },
  {
   "cell_type": "markdown",
   "id": "8bdc6549",
   "metadata": {},
   "source": [
    "# Cramér's V"
   ]
  },
  {
   "cell_type": "code",
   "execution_count": 240,
   "id": "71d661fe",
   "metadata": {},
   "outputs": [],
   "source": [
    "import pandas as pd\n",
    "import numpy as np\n",
    "import random"
   ]
  },
  {
   "cell_type": "code",
   "execution_count": 15,
   "id": "c8fb6e37",
   "metadata": {},
   "outputs": [],
   "source": [
    "ratings = pd.read_csv(\"3 ratings_bicluster.csv\")\n",
    "movies = pd.read_csv(\"5 movies_bicluster.csv\", low_memory=False)"
   ]
  },
  {
   "cell_type": "code",
   "execution_count": 16,
   "id": "514c2726",
   "metadata": {},
   "outputs": [],
   "source": [
    "nuserClusters = 10\n",
    "nmovieClusters = 4"
   ]
  },
  {
   "cell_type": "code",
   "execution_count": 17,
   "id": "0b61067f",
   "metadata": {},
   "outputs": [],
   "source": [
    "# Random clusters\n",
    "userCluster = ratings['userId'].apply(lambda x: x % nuserClusters)\n",
    "movieCluster = ratings['movieId'].apply(lambda x: x % nmovieClusters)"
   ]
  },
  {
   "cell_type": "code",
   "execution_count": 18,
   "id": "2e0db013",
   "metadata": {},
   "outputs": [],
   "source": [
    "ratings['userCluster'] = userCluster\n",
    "ratings['movieCluster'] = movieCluster"
   ]
  },
  {
   "cell_type": "code",
   "execution_count": 19,
   "id": "756a4ddf",
   "metadata": {},
   "outputs": [],
   "source": [
    "userMatrix = np.zeros((nmovieClusters,nuserClusters))\n",
    "movieMatrix = np.zeros((nmovieClusters,nuserClusters))"
   ]
  },
  {
   "cell_type": "code",
   "execution_count": 20,
   "id": "22c62fd1",
   "metadata": {},
   "outputs": [],
   "source": [
    "# Strength of connection from user's clusters perspective\n",
    "# Number of connections between i. movie cluster and j. user cluster / all connections of j. user(!) cluster\n",
    "for i in range(nmovieClusters):\n",
    "    for j in range (nuserClusters):\n",
    "        userMatrix[i,j] = ratings[(ratings['movieCluster'] == i) & (ratings['userCluster'] == j)].shape[0] / ratings[ratings['userCluster'] == j].shape[0]"
   ]
  },
  {
   "cell_type": "code",
   "execution_count": 21,
   "id": "d3030388",
   "metadata": {},
   "outputs": [],
   "source": [
    "# Strength of connection from movies's clusters perspective\n",
    "# Number of connections between i. movie cluster and j. user cluster / all connections of i. movie(!) cluster\n",
    "for i in range(nmovieClusters):\n",
    "    for j in range (nuserClusters):\n",
    "        movieMatrix[i,j] = ratings[(ratings['movieCluster'] == i) & (ratings['userCluster'] == j)].shape[0] / ratings[ratings['movieCluster'] == i].shape[0]"
   ]
  },
  {
   "cell_type": "code",
   "execution_count": 22,
   "id": "beb07373",
   "metadata": {},
   "outputs": [],
   "source": [
    "relationMatrix = (userMatrix + movieMatrix) / 2"
   ]
  },
  {
   "cell_type": "code",
   "execution_count": 23,
   "id": "bc124e84",
   "metadata": {},
   "outputs": [],
   "source": [
    "# Cramér's V\n",
    "V = 0\n",
    "n = np.sum(relationMatrix)\n",
    "for i in range(nmovieClusters):\n",
    "    for j in range (nuserClusters):\n",
    "        p = np.sum(relationMatrix, axis=0)[j] * np.sum(relationMatrix, axis=1)[i] / n\n",
    "        V = V + (relationMatrix[i,j] - p)**2 / p"
   ]
  },
  {
   "cell_type": "code",
   "execution_count": 24,
   "id": "fad5345f",
   "metadata": {},
   "outputs": [],
   "source": [
    "V = np.sqrt(V / n / min(nmovieClusters - 1, nuserClusters - 1))"
   ]
  },
  {
   "cell_type": "code",
   "execution_count": 25,
   "id": "c96e9211",
   "metadata": {},
   "outputs": [
    {
     "data": {
      "text/plain": [
       "0.0007432686132471521"
      ]
     },
     "execution_count": 25,
     "metadata": {},
     "output_type": "execute_result"
    }
   ],
   "source": [
    "V"
   ]
  },
  {
   "cell_type": "markdown",
   "id": "9f5c8f52",
   "metadata": {},
   "source": [
    "# Cramér's V Score comparison"
   ]
  },
  {
   "cell_type": "code",
   "execution_count": 1,
   "id": "80f24799",
   "metadata": {},
   "outputs": [],
   "source": [
    "import pandas as pd\n",
    "import numpy as np\n",
    "import random\n",
    "import time\n",
    "\n",
    "from sklearn.preprocessing import MinMaxScaler\n",
    "from sklearn.cluster import Birch\n",
    "from sklearn.decomposition import PCA"
   ]
  },
  {
   "cell_type": "code",
   "execution_count": 2,
   "id": "b3915847",
   "metadata": {},
   "outputs": [],
   "source": [
    "ratings_birch = pd.read_csv(\"3 ratings_bicluster.csv\")\n",
    "ratings_random = pd.read_csv(\"3 ratings_bicluster.csv\")\n",
    "movies = pd.read_csv(\"5 movies_bicluster.csv\", low_memory=False)"
   ]
  },
  {
   "cell_type": "code",
   "execution_count": 3,
   "id": "d6ca0abe",
   "metadata": {},
   "outputs": [],
   "source": [
    "def get_numbers(str):\n",
    "    \"\"\"Return the integer numbers from a string in an array format.\"\"\"\n",
    "    arr = str.replace(',','').replace('{','').replace('}','').replace('[','').replace(']','').split()\n",
    "    arr = [int(s) for s in arr if s.isdigit()]\n",
    "    return arr\n",
    "\n",
    "def get_country_codes(str):\n",
    "    \"\"\"Return the codes of the countries from a string.\"\"\"\n",
    "    arr = str.replace(',','').replace('{','').replace('}','').replace('[','').replace(']','').replace(\"'\", \"\").split()\n",
    "    arr = [s for s in arr if country_codes['Code'].str.contains(s).any()]\n",
    "    return arr\n",
    "\n",
    "def prepare_dataframe(movies):\n",
    "    \n",
    "    movieids = movies['id']\n",
    "    movies = movies.drop(['id', 'title'], axis=1)\n",
    "    \n",
    "    # Categorical values are not used, because of the algorithm\n",
    "    numeric = movies.drop(['adult', 'genres', 'original_language', 'production_companies', 'production_countries'], axis=1)\n",
    "    \n",
    "    # Scale the numeric values to (0, 1) interval\n",
    "    scaler = MinMaxScaler()\n",
    "    numeric = scaler.fit_transform(numeric)\n",
    "    \n",
    "    movievectors = pd.DataFrame(numeric)\n",
    "    movievectors.index = movieids\n",
    "    \n",
    "    return movievectors"
   ]
  },
  {
   "cell_type": "code",
   "execution_count": 4,
   "id": "815edfc8",
   "metadata": {},
   "outputs": [],
   "source": [
    "def cramerv(ratings, nmovieClusters, nuserClusters):\n",
    "    \n",
    "    userMatrix = np.zeros((nmovieClusters,nuserClusters))\n",
    "    movieMatrix = np.zeros((nmovieClusters,nuserClusters))\n",
    "    \n",
    "    # Strength of connection from user's clusters perspective\n",
    "    # Number of connections between i. movie cluster and j. user cluster / all connections of j. user(!) cluster\n",
    "    for i in range(nmovieClusters):\n",
    "        for j in range (nuserClusters):\n",
    "            userMatrix[i,j] = ratings[(ratings['movieCluster'] == i) & \n",
    "                                      (ratings['userCluster'] == j)].shape[0] / ratings[ratings['userCluster'] == j].shape[0]\n",
    "            \n",
    "    # Strength of connection from movies's clusters perspective\n",
    "    # Number of connections between i. movie cluster and j. user cluster / all connections of i. movie(!) cluster\n",
    "    for i in range(nmovieClusters):\n",
    "        for j in range (nuserClusters):\n",
    "            movieMatrix[i,j] = ratings[(ratings['movieCluster'] == i) & \n",
    "                                       (ratings['userCluster'] == j)].shape[0] / ratings[ratings['movieCluster'] == i].shape[0]\n",
    "            \n",
    "    relationMatrix = (userMatrix + movieMatrix) / 2\n",
    "    \n",
    "    # Cramér's V\n",
    "    V = 0\n",
    "    n = np.sum(relationMatrix)\n",
    "    for i in range(nmovieClusters):\n",
    "        for j in range (nuserClusters):\n",
    "            p = np.sum(relationMatrix, axis=0)[j] * np.sum(relationMatrix, axis=1)[i] / n\n",
    "            V = V + (relationMatrix[i,j] - p)**2 / p\n",
    "            \n",
    "    V = np.sqrt(V / n / min(nmovieClusters - 1, nuserClusters - 1))\n",
    "    \n",
    "    return V\n",
    "    \n",
    "def movieid_to_cluster(movieid):\n",
    "    reduced = pca.transform(np.array(movies.loc[movieid]).reshape(1, -1))\n",
    "    cluster = birch.predict(reduced)\n",
    "    cluster = cluster[0]\n",
    "    \n",
    "    return cluster"
   ]
  },
  {
   "cell_type": "code",
   "execution_count": 5,
   "id": "69ece7ec",
   "metadata": {},
   "outputs": [],
   "source": [
    "# Use the best previous movie clustering solution\n",
    "movies = prepare_dataframe(movies)\n",
    "\n",
    "pca = PCA(n_components=39)\n",
    "reduced_data_PCA = pca.fit_transform(movies)\n",
    "\n",
    "for thres in np.arange(0.5, 0, -0.05):\n",
    "    try:\n",
    "        birch = Birch(threshold=thres)\n",
    "        birch.fit(reduced_data_PCA)\n",
    "        break\n",
    "    except:\n",
    "        pass"
   ]
  },
  {
   "cell_type": "code",
   "execution_count": 6,
   "id": "0590c4bb",
   "metadata": {},
   "outputs": [],
   "source": [
    "nuserClusters = 10\n",
    "nmovieClusters = birch.n_clusters"
   ]
  },
  {
   "cell_type": "code",
   "execution_count": 7,
   "id": "efa81f0b",
   "metadata": {},
   "outputs": [],
   "source": [
    "ratings_birch['userCluster'] = ratings_birch['userId'].apply(lambda x: x % nuserClusters)\n",
    "\n",
    "ratings_birch['movieCluster'] = np.zeros(ratings_birch.shape[0])\n",
    "for unique in ratings_birch['movieId'].unique():\n",
    "    cluster = movieid_to_cluster(unique)\n",
    "    ratings_birch.loc[ratings_birch.movieId == unique, 'movieCluster'] = cluster"
   ]
  },
  {
   "cell_type": "code",
   "execution_count": 8,
   "id": "8b390b2b",
   "metadata": {},
   "outputs": [],
   "source": [
    "# For comparison we generate random movie clusters also\n",
    "ratings_random['userCluster'] = ratings_random['userId'].apply(lambda x: x % nuserClusters)\n",
    "ratings_random['movieCluster'] = ratings_random['movieId'].apply(lambda x: x % nmovieClusters)"
   ]
  },
  {
   "cell_type": "code",
   "execution_count": 9,
   "id": "a7fe98cc",
   "metadata": {},
   "outputs": [
    {
     "data": {
      "text/plain": [
       "0.003570614255590483"
      ]
     },
     "execution_count": 9,
     "metadata": {},
     "output_type": "execute_result"
    }
   ],
   "source": [
    "cramerv(ratings_birch, nmovieClusters, nuserClusters)"
   ]
  },
  {
   "cell_type": "code",
   "execution_count": 10,
   "id": "63185330",
   "metadata": {},
   "outputs": [
    {
     "data": {
      "text/plain": [
       "0.0010278632410976667"
      ]
     },
     "execution_count": 10,
     "metadata": {},
     "output_type": "execute_result"
    }
   ],
   "source": [
    "cramerv(ratings_random, nmovieClusters, nuserClusters)"
   ]
  },
  {
   "cell_type": "code",
   "execution_count": 11,
   "id": "7b1e7c33",
   "metadata": {},
   "outputs": [
    {
     "data": {
      "text/plain": [
       "3.473822307116834"
      ]
     },
     "execution_count": 11,
     "metadata": {},
     "output_type": "execute_result"
    }
   ],
   "source": [
    "cramerv(ratings_birch, nmovieClusters, nuserClusters) / cramerv(ratings_random, nmovieClusters, nuserClusters)"
   ]
  },
  {
   "cell_type": "code",
   "execution_count": 12,
   "id": "3bb69713",
   "metadata": {},
   "outputs": [],
   "source": [
    "# Save ratings for later use\n",
    "# ratings_birch.to_csv('4 ratings_bicluster2.csv', index=False)"
   ]
  },
  {
   "cell_type": "markdown",
   "id": "742f3677",
   "metadata": {},
   "source": [
    "# Maximalize V Score with hill climbing"
   ]
  },
  {
   "cell_type": "code",
   "execution_count": 7,
   "id": "afdabc85",
   "metadata": {},
   "outputs": [],
   "source": [
    "def hill_climbing_V_score(ratings, nmovieClusters, nuserClusters, minutes):\n",
    "    \n",
    "    scores = []\n",
    "    localscore = cramerv(ratings, nmovieClusters, nuserClusters)\n",
    "    scores.append(localscore)\n",
    "    random_factor = ratings['userId'].nunique() / (ratings['movieId'].nunique() + ratings['userId'].nunique())\n",
    "    start = time.time()\n",
    "    \n",
    "    #for nIterations in range(5):\n",
    "    while time.time() - start < minutes * 60: # time in seconds\n",
    "        if np.random.rand() > random_factor:\n",
    "            random_movie_id = random.choice(ratings.movieId.unique())\n",
    "            random_movie_cluster = np.random.randint(0, nmovieClusters)\n",
    "            ratings2 = pd.DataFrame(ratings)\n",
    "            ratings2.loc[ratings2.movieId == random_movie_id, 'movieCluster'] = random_movie_cluster\n",
    "\n",
    "            neighborscore = cramerv(ratings2, nmovieClusters, nuserClusters)    \n",
    "        else:\n",
    "            random_user_id = random.choice(ratings.userId.unique())\n",
    "            random_user_cluster = np.random.randint(0, nuserClusters)\n",
    "            ratings2 = pd.DataFrame(ratings)\n",
    "            ratings2.loc[ratings2.userId == random_user_id, 'userCluster'] = random_user_cluster\n",
    "\n",
    "            neighborscore = cramerv(ratings2, nmovieClusters, nuserClusters) \n",
    "        \n",
    "        scores.append(neighborscore)\n",
    "        \n",
    "        if neighborscore > localscore:\n",
    "            ratings = pd.DataFrame(ratings2)\n",
    "            localscore = neighborscore\n",
    "            \n",
    "    return ratings, scores"
   ]
  },
  {
   "cell_type": "code",
   "execution_count": 6,
   "id": "34d5de1a",
   "metadata": {},
   "outputs": [],
   "source": [
    "ratings = pd.read_csv(\"4 ratings_bicluster2.csv\")"
   ]
  },
  {
   "cell_type": "code",
   "execution_count": 46,
   "id": "4cd1c1aa",
   "metadata": {},
   "outputs": [],
   "source": [
    "[ratings, scores] = hill_climbing_V_score(ratings, nmovieClusters, nuserClusters)"
   ]
  },
  {
   "cell_type": "code",
   "execution_count": 47,
   "id": "6927ae21",
   "metadata": {},
   "outputs": [
    {
     "data": {
      "text/plain": [
       "[0.003570614255590483,\n",
       " 0.003570614255590483,\n",
       " 0.003570459806331566,\n",
       " 0.003561823006179215,\n",
       " 0.0035618483951407234,\n",
       " 0.0035618022000851574,\n",
       " 0.0035618518539284804,\n",
       " 0.0035618518539284804,\n",
       " 0.0035617491744040584,\n",
       " 0.0035616836953659896,\n",
       " 0.003561695077675259,\n",
       " 0.0035616398975831806,\n",
       " 0.0035616007188870886,\n",
       " 0.0035630361478995046,\n",
       " 0.0035630361478995046,\n",
       " 0.0035631302779057816,\n",
       " 0.0035630951436352205,\n",
       " 0.0035635064455978136,\n",
       " 0.0035635064455978136,\n",
       " 0.0035635776522409263,\n",
       " 0.003563530092674085,\n",
       " 0.00356321549157318,\n",
       " 0.0035634367873766553,\n",
       " 0.0035634538024321392,\n",
       " 0.00356862510835126,\n",
       " 0.003568639838307501,\n",
       " 0.0035663372015922587,\n",
       " 0.0035667115791811585,\n",
       " 0.003566704531817707,\n",
       " 0.003566704531817707,\n",
       " 0.0035642049937569696,\n",
       " 0.0035639307372545017,\n",
       " 0.003570687790908612,\n",
       " 0.0035708093179014078,\n",
       " 0.003570775951647602,\n",
       " 0.003570775951647602,\n",
       " 0.0035706683219852726,\n",
       " 0.0035727829028012023,\n",
       " 0.0035728142304959592,\n",
       " 0.0035729303585963807,\n",
       " 0.0035730559799835647,\n",
       " 0.0035733071297427642,\n",
       " 0.0035733071297427642,\n",
       " 0.003572551826489239,\n",
       " 0.0035719381098195243,\n",
       " 0.0035718882116221535,\n",
       " 0.0035718882116221535,\n",
       " 0.003570961516446043,\n",
       " 0.0035706138874003583,\n",
       " 0.0035706138874003583,\n",
       " 0.003571257391132824,\n",
       " 0.0035737809105565173,\n",
       " 0.0035737540389126914,\n",
       " 0.0035723974798523564,\n",
       " 0.0035724187679630577,\n",
       " 0.0035732686046541177,\n",
       " 0.003573199193343035,\n",
       " 0.003573199193343035,\n",
       " 0.0035764812497120486,\n",
       " 0.0035763849696819968,\n",
       " 0.003575436178566963,\n",
       " 0.003568433268727154,\n",
       " 0.0035713832667411843,\n",
       " 0.003571500342884556,\n",
       " 0.0035721139618068234,\n",
       " 0.0035721558322804312,\n",
       " 0.0035721558322804312,\n",
       " 0.0035722216558859207,\n",
       " 0.0035717042040319686,\n",
       " 0.00357163602973294,\n",
       " 0.003571711338006598]"
      ]
     },
     "execution_count": 47,
     "metadata": {},
     "output_type": "execute_result"
    }
   ],
   "source": [
    "ratings.to_csv('5 ratings_cramers_v_optimized.csv', index=False)"
   ]
  },
  {
   "cell_type": "code",
   "execution_count": null,
   "id": "bb03e239",
   "metadata": {},
   "outputs": [],
   "source": []
  }
 ],
 "metadata": {
  "kernelspec": {
   "display_name": "Python 3 (ipykernel)",
   "language": "python",
   "name": "python3"
  },
  "language_info": {
   "codemirror_mode": {
    "name": "ipython",
    "version": 3
   },
   "file_extension": ".py",
   "mimetype": "text/x-python",
   "name": "python",
   "nbconvert_exporter": "python",
   "pygments_lexer": "ipython3",
   "version": "3.9.7"
  }
 },
 "nbformat": 4,
 "nbformat_minor": 5
}
