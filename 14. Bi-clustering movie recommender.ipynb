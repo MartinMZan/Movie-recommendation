{
 "cells": [
  {
   "cell_type": "code",
   "execution_count": 1,
   "id": "36f9334d",
   "metadata": {},
   "outputs": [],
   "source": [
    "import pandas as pd\n",
    "import numpy as np"
   ]
  },
  {
   "cell_type": "code",
   "execution_count": 2,
   "id": "28790c0d",
   "metadata": {},
   "outputs": [],
   "source": [
    "ratings = pd.read_csv(\"5 ratings_mutual_information_optimized.csv\")\n",
    "movies = pd.read_csv(\"5 movies_bicluster.csv\", low_memory=False)"
   ]
  },
  {
   "cell_type": "code",
   "execution_count": 3,
   "id": "630537c1",
   "metadata": {},
   "outputs": [],
   "source": [
    "def bi_clustering_recommender(uid, ratings, movies):\n",
    "    \"\"\"\n",
    "    Input:\n",
    "    uid - ID of the user\n",
    "    ratings - DataFrame that contains the ratings in a special structure\n",
    "    movies - DataFrame that contains the movies in a special structure\n",
    "    \n",
    "    Output:\n",
    "    suggested_movies - The most popular 'k' suggested movies\n",
    "    \n",
    "    Error codes:\n",
    "    -1 - The user has no ratings\n",
    "    \"\"\"\n",
    "    \n",
    "    k = 20 # Number of suggested movies\n",
    "    \n",
    "    if sum(ratings['userId'] == uid) == 0:\n",
    "        return -1\n",
    "        \n",
    "    # Joint distribution\n",
    "    nmovieClusters = ratings['movieCluster'].nunique()\n",
    "    nuserClusters = ratings['userCluster'].nunique()\n",
    "    relationMatrix = np.zeros((nmovieClusters,nuserClusters))\n",
    "    \n",
    "    for i in range(nmovieClusters):\n",
    "        for j in range (nuserClusters):\n",
    "            relationMatrix[i,j] = ratings[(ratings['movieCluster'] == i) & \n",
    "                                      (ratings['userCluster'] == j)].shape[0] / ratings.shape[0]\n",
    "    \n",
    "    # Relation's of the given user's cluster\n",
    "    relations = relationMatrix[:, ratings[ratings['userId'] == uid]['userCluster'].iloc[0] ]\n",
    "    best_movie_cluster = np.argmax(relations)\n",
    "    \n",
    "    indexes_in_best_cluster = ratings[ratings['movieCluster'] == best_movie_cluster]['movieId'].unique()\n",
    "    watched_movies_indexes = ratings[ratings['userId'] == uid]['movieId']\n",
    "    \n",
    "    suggested_movies = movies[['id', 'popularity', 'title']]\n",
    "    suggested_movies = suggested_movies[suggested_movies['id'].isin(indexes_in_best_cluster)]\n",
    "    suggested_movies = suggested_movies[suggested_movies['id'].isin(watched_movies_indexes) == False]\n",
    "    suggested_movies = suggested_movies.sort_values('popularity', ascending=False)\n",
    "    \n",
    "    return suggested_movies.head(k)['title']"
   ]
  },
  {
   "cell_type": "code",
   "execution_count": 20,
   "id": "dd3f5ba0",
   "metadata": {},
   "outputs": [
    {
     "data": {
      "text/plain": [
       "78                                           Pulp Fiction\n",
       "3089                                      The Dark Knight\n",
       "146                                          Blade Runner\n",
       "4785                       Dawn of the Planet of the Apes\n",
       "824                                            Fight Club\n",
       "4796                              Guardians of the Galaxy\n",
       "86                               The Shawshank Redemption\n",
       "95                                           Forrest Gump\n",
       "1640    Pirates of the Caribbean: The Curse of the Bla...\n",
       "67                                              Star Wars\n",
       "140                                      Schindler's List\n",
       "203                                         The Godfather\n",
       "1454                                        Spirited Away\n",
       "650                                     Life Is Beautiful\n",
       "1298             Harry Potter and the Philosopher's Stone\n",
       "5148                              Avengers: Age of Ultron\n",
       "334                                The Godfather: Part II\n",
       "716                                            The Matrix\n",
       "4683                                         Interstellar\n",
       "339                           Once Upon a Time in America\n",
       "Name: title, dtype: object"
      ]
     },
     "execution_count": 20,
     "metadata": {},
     "output_type": "execute_result"
    }
   ],
   "source": [
    "bi_clustering_recommender(1, ratings, movies)"
   ]
  },
  {
   "cell_type": "code",
   "execution_count": 21,
   "id": "1dfaa42e",
   "metadata": {},
   "outputs": [
    {
     "data": {
      "text/plain": [
       "-1"
      ]
     },
     "execution_count": 21,
     "metadata": {},
     "output_type": "execute_result"
    }
   ],
   "source": [
    "bi_clustering_recommender(897234, ratings, movies)"
   ]
  },
  {
   "cell_type": "markdown",
   "id": "9f7a3b0f",
   "metadata": {},
   "source": [
    "# Coverage"
   ]
  },
  {
   "cell_type": "code",
   "execution_count": 38,
   "id": "77d7a355",
   "metadata": {},
   "outputs": [],
   "source": [
    "suggested_movies = []\n",
    "users = np.random.choice(ratings['userId'].unique(), size=100)\n",
    "for i in users:\n",
    "    suggested_movies.append(bi_clustering_recommender(i, ratings, movies))"
   ]
  },
  {
   "cell_type": "code",
   "execution_count": 39,
   "id": "f87ad29c",
   "metadata": {},
   "outputs": [],
   "source": [
    "list = []\n",
    "for i in range(len(suggested_movies)):\n",
    "    if type(suggested_movies[i]) == pd.core.series.Series:\n",
    "        for j in suggested_movies[i].index:\n",
    "            list.append(j)"
   ]
  },
  {
   "cell_type": "code",
   "execution_count": 40,
   "id": "bd881dda",
   "metadata": {},
   "outputs": [
    {
     "data": {
      "text/plain": [
       "24"
      ]
     },
     "execution_count": 40,
     "metadata": {},
     "output_type": "execute_result"
    }
   ],
   "source": [
    "len(np.unique(list))"
   ]
  },
  {
   "cell_type": "code",
   "execution_count": 42,
   "id": "da5ef786",
   "metadata": {},
   "outputs": [
    {
     "data": {
      "text/plain": [
       "7082"
      ]
     },
     "execution_count": 42,
     "metadata": {},
     "output_type": "execute_result"
    }
   ],
   "source": [
    "ratings.movieId.nunique()"
   ]
  },
  {
   "cell_type": "markdown",
   "id": "50bf6d8f",
   "metadata": {},
   "source": [
    "# Personalization"
   ]
  },
  {
   "cell_type": "code",
   "execution_count": 4,
   "id": "3f76268c",
   "metadata": {},
   "outputs": [],
   "source": [
    "from sklearn.metrics.pairwise import cosine_similarity"
   ]
  },
  {
   "cell_type": "code",
   "execution_count": 5,
   "id": "37fe97de",
   "metadata": {},
   "outputs": [],
   "source": [
    "suggested_movies = []\n",
    "users = np.random.choice(ratings['userId'].unique(), size=100)\n",
    "for i in users:\n",
    "    tmp = bi_clustering_recommender(i, ratings, movies)\n",
    "    if type(tmp) != int:\n",
    "        suggested_movies.append(tmp)"
   ]
  },
  {
   "cell_type": "code",
   "execution_count": 6,
   "id": "b0bbf6c1",
   "metadata": {},
   "outputs": [],
   "source": [
    "list = []\n",
    "for i in range(len(suggested_movies)):\n",
    "    for j in suggested_movies[i]:\n",
    "        list.append(j)\n",
    "        \n",
    "list = np.unique(list)"
   ]
  },
  {
   "cell_type": "code",
   "execution_count": 7,
   "id": "131134aa",
   "metadata": {},
   "outputs": [],
   "source": [
    "data = np.zeros(shape=(len(suggested_movies), len(list)))\n",
    "seen_movies = pd.DataFrame(data=data, columns=list)"
   ]
  },
  {
   "cell_type": "code",
   "execution_count": 8,
   "id": "97dcd24f",
   "metadata": {},
   "outputs": [],
   "source": [
    "for i in range(len(suggested_movies)):\n",
    "    for j in suggested_movies[i]:\n",
    "        if j in seen_movies.columns:\n",
    "            seen_movies.loc[i,j] = 1"
   ]
  },
  {
   "cell_type": "code",
   "execution_count": 9,
   "id": "89c8e6a2",
   "metadata": {},
   "outputs": [],
   "source": [
    "matrix = pd.DataFrame(cosine_similarity(seen_movies))"
   ]
  },
  {
   "cell_type": "code",
   "execution_count": 10,
   "id": "9ed7f568",
   "metadata": {},
   "outputs": [],
   "source": [
    "matrix = 1-matrix"
   ]
  },
  {
   "cell_type": "code",
   "execution_count": 11,
   "id": "8acb4bd5",
   "metadata": {},
   "outputs": [
    {
     "data": {
      "text/html": [
       "<div>\n",
       "<style scoped>\n",
       "    .dataframe tbody tr th:only-of-type {\n",
       "        vertical-align: middle;\n",
       "    }\n",
       "\n",
       "    .dataframe tbody tr th {\n",
       "        vertical-align: top;\n",
       "    }\n",
       "\n",
       "    .dataframe thead th {\n",
       "        text-align: right;\n",
       "    }\n",
       "</style>\n",
       "<table border=\"1\" class=\"dataframe\">\n",
       "  <thead>\n",
       "    <tr style=\"text-align: right;\">\n",
       "      <th></th>\n",
       "      <th>0</th>\n",
       "      <th>1</th>\n",
       "      <th>2</th>\n",
       "      <th>3</th>\n",
       "      <th>4</th>\n",
       "      <th>5</th>\n",
       "      <th>6</th>\n",
       "      <th>7</th>\n",
       "      <th>8</th>\n",
       "      <th>9</th>\n",
       "      <th>...</th>\n",
       "      <th>90</th>\n",
       "      <th>91</th>\n",
       "      <th>92</th>\n",
       "      <th>93</th>\n",
       "      <th>94</th>\n",
       "      <th>95</th>\n",
       "      <th>96</th>\n",
       "      <th>97</th>\n",
       "      <th>98</th>\n",
       "      <th>99</th>\n",
       "    </tr>\n",
       "  </thead>\n",
       "  <tbody>\n",
       "    <tr>\n",
       "      <th>0</th>\n",
       "      <td>-2.220446e-16</td>\n",
       "      <td>-2.220446e-16</td>\n",
       "      <td>-2.220446e-16</td>\n",
       "      <td>-2.220446e-16</td>\n",
       "      <td>-2.220446e-16</td>\n",
       "      <td>-2.220446e-16</td>\n",
       "      <td>-2.220446e-16</td>\n",
       "      <td>-2.220446e-16</td>\n",
       "      <td>-2.220446e-16</td>\n",
       "      <td>-2.220446e-16</td>\n",
       "      <td>...</td>\n",
       "      <td>-2.220446e-16</td>\n",
       "      <td>-2.220446e-16</td>\n",
       "      <td>-2.220446e-16</td>\n",
       "      <td>-2.220446e-16</td>\n",
       "      <td>5.000000e-02</td>\n",
       "      <td>-2.220446e-16</td>\n",
       "      <td>0.000000e+00</td>\n",
       "      <td>0.000000e+00</td>\n",
       "      <td>5.000000e-02</td>\n",
       "      <td>0.00</td>\n",
       "    </tr>\n",
       "    <tr>\n",
       "      <th>1</th>\n",
       "      <td>-2.220446e-16</td>\n",
       "      <td>-2.220446e-16</td>\n",
       "      <td>-2.220446e-16</td>\n",
       "      <td>-2.220446e-16</td>\n",
       "      <td>-2.220446e-16</td>\n",
       "      <td>-2.220446e-16</td>\n",
       "      <td>-2.220446e-16</td>\n",
       "      <td>-2.220446e-16</td>\n",
       "      <td>-2.220446e-16</td>\n",
       "      <td>-2.220446e-16</td>\n",
       "      <td>...</td>\n",
       "      <td>-2.220446e-16</td>\n",
       "      <td>-2.220446e-16</td>\n",
       "      <td>-2.220446e-16</td>\n",
       "      <td>-2.220446e-16</td>\n",
       "      <td>5.000000e-02</td>\n",
       "      <td>-2.220446e-16</td>\n",
       "      <td>0.000000e+00</td>\n",
       "      <td>0.000000e+00</td>\n",
       "      <td>5.000000e-02</td>\n",
       "      <td>0.00</td>\n",
       "    </tr>\n",
       "    <tr>\n",
       "      <th>2</th>\n",
       "      <td>-2.220446e-16</td>\n",
       "      <td>-2.220446e-16</td>\n",
       "      <td>-2.220446e-16</td>\n",
       "      <td>-2.220446e-16</td>\n",
       "      <td>-2.220446e-16</td>\n",
       "      <td>-2.220446e-16</td>\n",
       "      <td>-2.220446e-16</td>\n",
       "      <td>-2.220446e-16</td>\n",
       "      <td>-2.220446e-16</td>\n",
       "      <td>-2.220446e-16</td>\n",
       "      <td>...</td>\n",
       "      <td>-2.220446e-16</td>\n",
       "      <td>-2.220446e-16</td>\n",
       "      <td>-2.220446e-16</td>\n",
       "      <td>-2.220446e-16</td>\n",
       "      <td>5.000000e-02</td>\n",
       "      <td>-2.220446e-16</td>\n",
       "      <td>0.000000e+00</td>\n",
       "      <td>0.000000e+00</td>\n",
       "      <td>5.000000e-02</td>\n",
       "      <td>0.00</td>\n",
       "    </tr>\n",
       "    <tr>\n",
       "      <th>3</th>\n",
       "      <td>-2.220446e-16</td>\n",
       "      <td>-2.220446e-16</td>\n",
       "      <td>-2.220446e-16</td>\n",
       "      <td>-2.220446e-16</td>\n",
       "      <td>-2.220446e-16</td>\n",
       "      <td>-2.220446e-16</td>\n",
       "      <td>-2.220446e-16</td>\n",
       "      <td>-2.220446e-16</td>\n",
       "      <td>-2.220446e-16</td>\n",
       "      <td>-2.220446e-16</td>\n",
       "      <td>...</td>\n",
       "      <td>-2.220446e-16</td>\n",
       "      <td>-2.220446e-16</td>\n",
       "      <td>-2.220446e-16</td>\n",
       "      <td>-2.220446e-16</td>\n",
       "      <td>5.000000e-02</td>\n",
       "      <td>-2.220446e-16</td>\n",
       "      <td>0.000000e+00</td>\n",
       "      <td>0.000000e+00</td>\n",
       "      <td>5.000000e-02</td>\n",
       "      <td>0.00</td>\n",
       "    </tr>\n",
       "    <tr>\n",
       "      <th>4</th>\n",
       "      <td>-2.220446e-16</td>\n",
       "      <td>-2.220446e-16</td>\n",
       "      <td>-2.220446e-16</td>\n",
       "      <td>-2.220446e-16</td>\n",
       "      <td>-2.220446e-16</td>\n",
       "      <td>-2.220446e-16</td>\n",
       "      <td>-2.220446e-16</td>\n",
       "      <td>-2.220446e-16</td>\n",
       "      <td>-2.220446e-16</td>\n",
       "      <td>-2.220446e-16</td>\n",
       "      <td>...</td>\n",
       "      <td>-2.220446e-16</td>\n",
       "      <td>-2.220446e-16</td>\n",
       "      <td>-2.220446e-16</td>\n",
       "      <td>-2.220446e-16</td>\n",
       "      <td>5.000000e-02</td>\n",
       "      <td>-2.220446e-16</td>\n",
       "      <td>0.000000e+00</td>\n",
       "      <td>0.000000e+00</td>\n",
       "      <td>5.000000e-02</td>\n",
       "      <td>0.00</td>\n",
       "    </tr>\n",
       "    <tr>\n",
       "      <th>...</th>\n",
       "      <td>...</td>\n",
       "      <td>...</td>\n",
       "      <td>...</td>\n",
       "      <td>...</td>\n",
       "      <td>...</td>\n",
       "      <td>...</td>\n",
       "      <td>...</td>\n",
       "      <td>...</td>\n",
       "      <td>...</td>\n",
       "      <td>...</td>\n",
       "      <td>...</td>\n",
       "      <td>...</td>\n",
       "      <td>...</td>\n",
       "      <td>...</td>\n",
       "      <td>...</td>\n",
       "      <td>...</td>\n",
       "      <td>...</td>\n",
       "      <td>...</td>\n",
       "      <td>...</td>\n",
       "      <td>...</td>\n",
       "      <td>...</td>\n",
       "    </tr>\n",
       "    <tr>\n",
       "      <th>95</th>\n",
       "      <td>-2.220446e-16</td>\n",
       "      <td>-2.220446e-16</td>\n",
       "      <td>-2.220446e-16</td>\n",
       "      <td>-2.220446e-16</td>\n",
       "      <td>-2.220446e-16</td>\n",
       "      <td>-2.220446e-16</td>\n",
       "      <td>-2.220446e-16</td>\n",
       "      <td>-2.220446e-16</td>\n",
       "      <td>-2.220446e-16</td>\n",
       "      <td>-2.220446e-16</td>\n",
       "      <td>...</td>\n",
       "      <td>-2.220446e-16</td>\n",
       "      <td>-2.220446e-16</td>\n",
       "      <td>-2.220446e-16</td>\n",
       "      <td>-2.220446e-16</td>\n",
       "      <td>5.000000e-02</td>\n",
       "      <td>-2.220446e-16</td>\n",
       "      <td>-2.220446e-16</td>\n",
       "      <td>-2.220446e-16</td>\n",
       "      <td>5.000000e-02</td>\n",
       "      <td>0.00</td>\n",
       "    </tr>\n",
       "    <tr>\n",
       "      <th>96</th>\n",
       "      <td>0.000000e+00</td>\n",
       "      <td>0.000000e+00</td>\n",
       "      <td>0.000000e+00</td>\n",
       "      <td>0.000000e+00</td>\n",
       "      <td>0.000000e+00</td>\n",
       "      <td>0.000000e+00</td>\n",
       "      <td>0.000000e+00</td>\n",
       "      <td>0.000000e+00</td>\n",
       "      <td>0.000000e+00</td>\n",
       "      <td>0.000000e+00</td>\n",
       "      <td>...</td>\n",
       "      <td>-2.220446e-16</td>\n",
       "      <td>-2.220446e-16</td>\n",
       "      <td>-2.220446e-16</td>\n",
       "      <td>-2.220446e-16</td>\n",
       "      <td>5.000000e-02</td>\n",
       "      <td>-2.220446e-16</td>\n",
       "      <td>-2.220446e-16</td>\n",
       "      <td>-2.220446e-16</td>\n",
       "      <td>5.000000e-02</td>\n",
       "      <td>0.00</td>\n",
       "    </tr>\n",
       "    <tr>\n",
       "      <th>97</th>\n",
       "      <td>0.000000e+00</td>\n",
       "      <td>0.000000e+00</td>\n",
       "      <td>0.000000e+00</td>\n",
       "      <td>0.000000e+00</td>\n",
       "      <td>0.000000e+00</td>\n",
       "      <td>0.000000e+00</td>\n",
       "      <td>0.000000e+00</td>\n",
       "      <td>0.000000e+00</td>\n",
       "      <td>0.000000e+00</td>\n",
       "      <td>0.000000e+00</td>\n",
       "      <td>...</td>\n",
       "      <td>-2.220446e-16</td>\n",
       "      <td>-2.220446e-16</td>\n",
       "      <td>-2.220446e-16</td>\n",
       "      <td>-2.220446e-16</td>\n",
       "      <td>5.000000e-02</td>\n",
       "      <td>-2.220446e-16</td>\n",
       "      <td>-2.220446e-16</td>\n",
       "      <td>-2.220446e-16</td>\n",
       "      <td>5.000000e-02</td>\n",
       "      <td>0.00</td>\n",
       "    </tr>\n",
       "    <tr>\n",
       "      <th>98</th>\n",
       "      <td>5.000000e-02</td>\n",
       "      <td>5.000000e-02</td>\n",
       "      <td>5.000000e-02</td>\n",
       "      <td>5.000000e-02</td>\n",
       "      <td>5.000000e-02</td>\n",
       "      <td>5.000000e-02</td>\n",
       "      <td>5.000000e-02</td>\n",
       "      <td>5.000000e-02</td>\n",
       "      <td>5.000000e-02</td>\n",
       "      <td>5.000000e-02</td>\n",
       "      <td>...</td>\n",
       "      <td>5.000000e-02</td>\n",
       "      <td>5.000000e-02</td>\n",
       "      <td>5.000000e-02</td>\n",
       "      <td>5.000000e-02</td>\n",
       "      <td>-2.220446e-16</td>\n",
       "      <td>5.000000e-02</td>\n",
       "      <td>5.000000e-02</td>\n",
       "      <td>5.000000e-02</td>\n",
       "      <td>-2.220446e-16</td>\n",
       "      <td>0.05</td>\n",
       "    </tr>\n",
       "    <tr>\n",
       "      <th>99</th>\n",
       "      <td>0.000000e+00</td>\n",
       "      <td>0.000000e+00</td>\n",
       "      <td>0.000000e+00</td>\n",
       "      <td>0.000000e+00</td>\n",
       "      <td>0.000000e+00</td>\n",
       "      <td>0.000000e+00</td>\n",
       "      <td>0.000000e+00</td>\n",
       "      <td>0.000000e+00</td>\n",
       "      <td>0.000000e+00</td>\n",
       "      <td>0.000000e+00</td>\n",
       "      <td>...</td>\n",
       "      <td>0.000000e+00</td>\n",
       "      <td>0.000000e+00</td>\n",
       "      <td>0.000000e+00</td>\n",
       "      <td>0.000000e+00</td>\n",
       "      <td>5.000000e-02</td>\n",
       "      <td>0.000000e+00</td>\n",
       "      <td>0.000000e+00</td>\n",
       "      <td>0.000000e+00</td>\n",
       "      <td>5.000000e-02</td>\n",
       "      <td>0.00</td>\n",
       "    </tr>\n",
       "  </tbody>\n",
       "</table>\n",
       "<p>100 rows × 100 columns</p>\n",
       "</div>"
      ],
      "text/plain": [
       "              0             1             2             3             4   \\\n",
       "0  -2.220446e-16 -2.220446e-16 -2.220446e-16 -2.220446e-16 -2.220446e-16   \n",
       "1  -2.220446e-16 -2.220446e-16 -2.220446e-16 -2.220446e-16 -2.220446e-16   \n",
       "2  -2.220446e-16 -2.220446e-16 -2.220446e-16 -2.220446e-16 -2.220446e-16   \n",
       "3  -2.220446e-16 -2.220446e-16 -2.220446e-16 -2.220446e-16 -2.220446e-16   \n",
       "4  -2.220446e-16 -2.220446e-16 -2.220446e-16 -2.220446e-16 -2.220446e-16   \n",
       "..           ...           ...           ...           ...           ...   \n",
       "95 -2.220446e-16 -2.220446e-16 -2.220446e-16 -2.220446e-16 -2.220446e-16   \n",
       "96  0.000000e+00  0.000000e+00  0.000000e+00  0.000000e+00  0.000000e+00   \n",
       "97  0.000000e+00  0.000000e+00  0.000000e+00  0.000000e+00  0.000000e+00   \n",
       "98  5.000000e-02  5.000000e-02  5.000000e-02  5.000000e-02  5.000000e-02   \n",
       "99  0.000000e+00  0.000000e+00  0.000000e+00  0.000000e+00  0.000000e+00   \n",
       "\n",
       "              5             6             7             8             9   ...  \\\n",
       "0  -2.220446e-16 -2.220446e-16 -2.220446e-16 -2.220446e-16 -2.220446e-16  ...   \n",
       "1  -2.220446e-16 -2.220446e-16 -2.220446e-16 -2.220446e-16 -2.220446e-16  ...   \n",
       "2  -2.220446e-16 -2.220446e-16 -2.220446e-16 -2.220446e-16 -2.220446e-16  ...   \n",
       "3  -2.220446e-16 -2.220446e-16 -2.220446e-16 -2.220446e-16 -2.220446e-16  ...   \n",
       "4  -2.220446e-16 -2.220446e-16 -2.220446e-16 -2.220446e-16 -2.220446e-16  ...   \n",
       "..           ...           ...           ...           ...           ...  ...   \n",
       "95 -2.220446e-16 -2.220446e-16 -2.220446e-16 -2.220446e-16 -2.220446e-16  ...   \n",
       "96  0.000000e+00  0.000000e+00  0.000000e+00  0.000000e+00  0.000000e+00  ...   \n",
       "97  0.000000e+00  0.000000e+00  0.000000e+00  0.000000e+00  0.000000e+00  ...   \n",
       "98  5.000000e-02  5.000000e-02  5.000000e-02  5.000000e-02  5.000000e-02  ...   \n",
       "99  0.000000e+00  0.000000e+00  0.000000e+00  0.000000e+00  0.000000e+00  ...   \n",
       "\n",
       "              90            91            92            93            94  \\\n",
       "0  -2.220446e-16 -2.220446e-16 -2.220446e-16 -2.220446e-16  5.000000e-02   \n",
       "1  -2.220446e-16 -2.220446e-16 -2.220446e-16 -2.220446e-16  5.000000e-02   \n",
       "2  -2.220446e-16 -2.220446e-16 -2.220446e-16 -2.220446e-16  5.000000e-02   \n",
       "3  -2.220446e-16 -2.220446e-16 -2.220446e-16 -2.220446e-16  5.000000e-02   \n",
       "4  -2.220446e-16 -2.220446e-16 -2.220446e-16 -2.220446e-16  5.000000e-02   \n",
       "..           ...           ...           ...           ...           ...   \n",
       "95 -2.220446e-16 -2.220446e-16 -2.220446e-16 -2.220446e-16  5.000000e-02   \n",
       "96 -2.220446e-16 -2.220446e-16 -2.220446e-16 -2.220446e-16  5.000000e-02   \n",
       "97 -2.220446e-16 -2.220446e-16 -2.220446e-16 -2.220446e-16  5.000000e-02   \n",
       "98  5.000000e-02  5.000000e-02  5.000000e-02  5.000000e-02 -2.220446e-16   \n",
       "99  0.000000e+00  0.000000e+00  0.000000e+00  0.000000e+00  5.000000e-02   \n",
       "\n",
       "              95            96            97            98    99  \n",
       "0  -2.220446e-16  0.000000e+00  0.000000e+00  5.000000e-02  0.00  \n",
       "1  -2.220446e-16  0.000000e+00  0.000000e+00  5.000000e-02  0.00  \n",
       "2  -2.220446e-16  0.000000e+00  0.000000e+00  5.000000e-02  0.00  \n",
       "3  -2.220446e-16  0.000000e+00  0.000000e+00  5.000000e-02  0.00  \n",
       "4  -2.220446e-16  0.000000e+00  0.000000e+00  5.000000e-02  0.00  \n",
       "..           ...           ...           ...           ...   ...  \n",
       "95 -2.220446e-16 -2.220446e-16 -2.220446e-16  5.000000e-02  0.00  \n",
       "96 -2.220446e-16 -2.220446e-16 -2.220446e-16  5.000000e-02  0.00  \n",
       "97 -2.220446e-16 -2.220446e-16 -2.220446e-16  5.000000e-02  0.00  \n",
       "98  5.000000e-02  5.000000e-02  5.000000e-02 -2.220446e-16  0.05  \n",
       "99  0.000000e+00  0.000000e+00  0.000000e+00  5.000000e-02  0.00  \n",
       "\n",
       "[100 rows x 100 columns]"
      ]
     },
     "execution_count": 11,
     "metadata": {},
     "output_type": "execute_result"
    }
   ],
   "source": [
    "matrix"
   ]
  },
  {
   "cell_type": "code",
   "execution_count": 12,
   "id": "f1b74c8b",
   "metadata": {},
   "outputs": [],
   "source": [
    "personalization = []\n",
    "for i in range(matrix.shape[0]):\n",
    "    for j in range(matrix.shape[1]):\n",
    "        if i < j:\n",
    "            personalization.append(matrix.loc[i,j])"
   ]
  },
  {
   "cell_type": "code",
   "execution_count": 13,
   "id": "41a98728",
   "metadata": {},
   "outputs": [
    {
     "data": {
      "text/plain": [
       "0.017747474747474512"
      ]
     },
     "execution_count": 13,
     "metadata": {},
     "output_type": "execute_result"
    }
   ],
   "source": [
    "np.mean(personalization)"
   ]
  },
  {
   "cell_type": "markdown",
   "id": "13cfc571",
   "metadata": {},
   "source": [
    "# Intra-list similarity"
   ]
  },
  {
   "cell_type": "code",
   "execution_count": 24,
   "id": "d23ab9f1",
   "metadata": {},
   "outputs": [],
   "source": [
    "from sklearn.preprocessing import MultiLabelBinarizer\n",
    "from sklearn.preprocessing import MinMaxScaler"
   ]
  },
  {
   "cell_type": "code",
   "execution_count": 25,
   "id": "df2f03a1",
   "metadata": {},
   "outputs": [],
   "source": [
    "movies = pd.read_csv('4 movies.csv')\n",
    "country_codes = pd.read_csv('country_codes.csv')"
   ]
  },
  {
   "cell_type": "code",
   "execution_count": 26,
   "id": "869a7865",
   "metadata": {},
   "outputs": [],
   "source": [
    "def get_numbers(str):\n",
    "    \"\"\"Return the integer numbers from a string in an array format.\"\"\"\n",
    "    arr = str.replace(',','').replace('{','').replace('}','').replace('[','').replace(']','').split()\n",
    "    arr = [int(s) for s in arr if s.isdigit()]\n",
    "    return arr\n",
    "\n",
    "def get_country_codes(str):\n",
    "    \"\"\"Return the codes of the countries from a string.\"\"\"\n",
    "    arr = str.replace(',','').replace('{','').replace('}','').replace('[','').replace(']','').replace(\"'\", \"\").split()\n",
    "    arr = [s for s in arr if country_codes['Code'].str.contains(s).any()]\n",
    "    return arr\n",
    "\n",
    "def prepare_dataframe(movies):\n",
    "    \n",
    "    # Conversion\n",
    "    movies['genres'] = movies['genres'].apply(lambda str: get_numbers(str))\n",
    "    movies['production_companies'] = movies['production_companies'].apply(lambda str: get_numbers(str))\n",
    "    movies['production_countries'] = movies['production_countries'].apply(lambda str: get_country_codes(str)) # This takes time\n",
    "    \n",
    "    # Get dummies\n",
    "    mlb = MultiLabelBinarizer()\n",
    "    genres = pd.DataFrame(mlb.fit_transform(movies['genres']), columns=mlb.classes)\n",
    "\n",
    "    mlb = MultiLabelBinarizer()\n",
    "    production_companies = pd.DataFrame(mlb.fit_transform(movies['production_companies']), columns=mlb.classes)\n",
    "\n",
    "    mlb = MultiLabelBinarizer()\n",
    "    production_countries = pd.DataFrame(mlb.fit_transform(movies['production_countries']), columns=mlb.classes)\n",
    "\n",
    "    original_language = pd.get_dummies(movies['original_language'])\n",
    "    \n",
    "    # Rename the columns to unique names\n",
    "    for i in range(genres.shape[1]):\n",
    "        genres.rename(mapper={i : str(i) + '. genre'}, axis=1, inplace=True)\n",
    "    \n",
    "    for i in range(production_countries.shape[1]):\n",
    "        production_countries.rename(mapper={i : str(i) + '. country'}, axis=1, inplace=True)\n",
    "    \n",
    "    movieids = movies['id']\n",
    "    movies = movies.drop(['id', 'title'], axis=1)\n",
    "    \n",
    "    # production_companies, original languages, production countries are not used, because of huge running time\n",
    "    numeric = movies.drop(['adult', 'genres', 'original_language', 'production_companies', 'production_countries'], axis=1)\n",
    "    categorical = movies[['adult']].join(genres)\n",
    "    \n",
    "    # Scale the numeric values to (0, 1) interval\n",
    "    scaler = MinMaxScaler()\n",
    "    numeric = scaler.fit_transform(numeric)\n",
    "    \n",
    "    movievectors = pd.DataFrame(numeric).join(categorical)\n",
    "    movievectors.index = movieids\n",
    "    \n",
    "    return movievectors\n",
    "\n",
    "def convert_title_to_index(x):\n",
    "    row = unprepared_movies2[unprepared_movies2['title'] == x]\n",
    "    return np.array(row['id'])[0]"
   ]
  },
  {
   "cell_type": "code",
   "execution_count": 27,
   "id": "3c6cb425",
   "metadata": {},
   "outputs": [],
   "source": [
    "movies = prepare_dataframe(movies)"
   ]
  },
  {
   "cell_type": "code",
   "execution_count": 29,
   "id": "4d914617",
   "metadata": {},
   "outputs": [],
   "source": [
    "movies.drop(movies.iloc[:, 0:58], axis=1, inplace=True)"
   ]
  },
  {
   "cell_type": "code",
   "execution_count": 31,
   "id": "ef9f62b9",
   "metadata": {},
   "outputs": [],
   "source": [
    "# For all 100 suggestions\n",
    "intra_list_100 = []\n",
    "for i in suggested_movies:\n",
    "    matrix = pd.DataFrame(cosine_similarity(movies[movies.index.isin(i.index)]))\n",
    "    \n",
    "    intra_list = []\n",
    "    for i in range(matrix.shape[0]):\n",
    "        for j in range(matrix.shape[1]):\n",
    "            if i < j:\n",
    "                intra_list.append(matrix.loc[i,j])\n",
    "    \n",
    "    intra_list_100.append(np.mean(intra_list))"
   ]
  },
  {
   "cell_type": "code",
   "execution_count": 32,
   "id": "2c860eed",
   "metadata": {},
   "outputs": [
    {
     "data": {
      "text/plain": [
       "0.4249576538263387"
      ]
     },
     "execution_count": 32,
     "metadata": {},
     "output_type": "execute_result"
    }
   ],
   "source": [
    "np.mean(intra_list_100)"
   ]
  },
  {
   "cell_type": "code",
   "execution_count": null,
   "id": "8c83a13c",
   "metadata": {},
   "outputs": [],
   "source": []
  }
 ],
 "metadata": {
  "kernelspec": {
   "display_name": "Python 3 (ipykernel)",
   "language": "python",
   "name": "python3"
  },
  "language_info": {
   "codemirror_mode": {
    "name": "ipython",
    "version": 3
   },
   "file_extension": ".py",
   "mimetype": "text/x-python",
   "name": "python",
   "nbconvert_exporter": "python",
   "pygments_lexer": "ipython3",
   "version": "3.9.7"
  }
 },
 "nbformat": 4,
 "nbformat_minor": 5
}
