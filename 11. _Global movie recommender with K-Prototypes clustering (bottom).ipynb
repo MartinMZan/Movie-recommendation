{
 "cells": [
  {
   "cell_type": "code",
   "execution_count": 1,
   "id": "250fcb88",
   "metadata": {},
   "outputs": [],
   "source": [
    "import numpy as np\n",
    "import pandas as pd\n",
    "from sklearn.preprocessing import MultiLabelBinarizer\n",
    "from sklearn.preprocessing import MinMaxScaler\n",
    "\n",
    "from kmodes.kprototypes import KPrototypes\n",
    "\n",
    "import time\n",
    "import pickle"
   ]
  },
  {
   "cell_type": "code",
   "execution_count": 2,
   "id": "da7a6f47",
   "metadata": {},
   "outputs": [],
   "source": [
    "# Drop ratings of previously dropped movies\n",
    "# ratings = pd.read_csv('ratings.csv')\n",
    "# ratings = ratings[ratings['movieId'].isin(pd.read_csv('3b movies_GloVe.csv')['id'])]\n",
    "# ratings.to_csv('2 ratings.csv', index=False)"
   ]
  },
  {
   "cell_type": "code",
   "execution_count": 3,
   "id": "dc5ead78",
   "metadata": {},
   "outputs": [],
   "source": [
    "# Delete duplicates and write to file\n",
    "# unprepared_movies = pd.read_csv('3b movies_GloVe.csv')\n",
    "# unprepared_movies.drop_duplicates(inplace=True)\n",
    "# duplicates = (unprepared_movies['id'].value_counts() > 1).head(13).index\n",
    "# unprepared_movies = unprepared_movies[unprepared_movies['id'].isin(duplicates) == False]\n",
    "# unprepared_movies.to_csv('4 movies.csv', index=False)"
   ]
  },
  {
   "cell_type": "code",
   "execution_count": 4,
   "id": "98db8cae",
   "metadata": {},
   "outputs": [],
   "source": [
    "movies = pd.read_csv('4 movies.csv')\n",
    "unprepared_movies = pd.read_csv('4 movies.csv')\n",
    "country_codes = pd.read_csv('country_codes.csv')\n",
    "ratings = pd.read_csv('2 ratings.csv')"
   ]
  },
  {
   "cell_type": "code",
   "execution_count": 5,
   "id": "2652cd89",
   "metadata": {},
   "outputs": [],
   "source": [
    "def get_numbers(str):\n",
    "    \"\"\"Return the integer numbers from a string in an array format.\"\"\"\n",
    "    arr = str.replace(',','').replace('{','').replace('}','').replace('[','').replace(']','').split()\n",
    "    arr = [int(s) for s in arr if s.isdigit()]\n",
    "    return arr\n",
    "\n",
    "def get_country_codes(str):\n",
    "    \"\"\"Return the codes of the countries from a string.\"\"\"\n",
    "    arr = str.replace(',','').replace('{','').replace('}','').replace('[','').replace(']','').replace(\"'\", \"\").split()\n",
    "    arr = [s for s in arr if country_codes['Code'].str.contains(s).any()]\n",
    "    return arr\n",
    "\n",
    "def prepare_dataframe(movies):\n",
    "    \n",
    "    # Conversion\n",
    "    movies['genres'] = movies['genres'].apply(lambda str: get_numbers(str))\n",
    "    movies['production_companies'] = movies['production_companies'].apply(lambda str: get_numbers(str))\n",
    "    movies['production_countries'] = movies['production_countries'].apply(lambda str: get_country_codes(str)) # This takes time\n",
    "    \n",
    "    # Get dummies\n",
    "    mlb = MultiLabelBinarizer()\n",
    "    genres = pd.DataFrame(mlb.fit_transform(movies['genres']), columns=mlb.classes)\n",
    "\n",
    "    mlb = MultiLabelBinarizer()\n",
    "    production_companies = pd.DataFrame(mlb.fit_transform(movies['production_companies']), columns=mlb.classes)\n",
    "\n",
    "    mlb = MultiLabelBinarizer()\n",
    "    production_countries = pd.DataFrame(mlb.fit_transform(movies['production_countries']), columns=mlb.classes)\n",
    "\n",
    "    original_language = pd.get_dummies(movies['original_language'])\n",
    "    \n",
    "    # Rename the columns to unique names\n",
    "    for i in range(genres.shape[1]):\n",
    "        genres.rename(mapper={i : str(i) + '. genre'}, axis=1, inplace=True)\n",
    "    \n",
    "    for i in range(production_countries.shape[1]):\n",
    "        production_countries.rename(mapper={i : str(i) + '. country'}, axis=1, inplace=True)\n",
    "    \n",
    "    movieids = movies['id']\n",
    "    movies = movies.drop(['id', 'title'], axis=1)\n",
    "    \n",
    "    # production_companies, original languages, production countries are not used, because of huge running time\n",
    "    numeric = movies.drop(['adult', 'genres', 'original_language', 'production_companies', 'production_countries'], axis=1)\n",
    "    categorical = movies[['adult']].join(genres)\n",
    "    \n",
    "    # Scale the numeric values to (0, 1) interval\n",
    "    scaler = MinMaxScaler()\n",
    "    numeric = scaler.fit_transform(numeric)\n",
    "    \n",
    "    movievectors = pd.DataFrame(numeric).join(categorical)\n",
    "    movievectors.index = movieids\n",
    "    \n",
    "    return movievectors\n",
    "\n",
    "def convert_title_to_index(x):\n",
    "    row = unprepared_movies2[unprepared_movies2['title'] == x]\n",
    "    return np.array(row['id'])[0]"
   ]
  },
  {
   "cell_type": "code",
   "execution_count": 6,
   "id": "4df65b56",
   "metadata": {},
   "outputs": [],
   "source": [
    "movies = prepare_dataframe(movies)"
   ]
  },
  {
   "cell_type": "markdown",
   "id": "5d0759f3",
   "metadata": {},
   "source": [
    "Train model and save it:"
   ]
  },
  {
   "cell_type": "code",
   "execution_count": 7,
   "id": "34a402bd",
   "metadata": {},
   "outputs": [],
   "source": [
    "# Sampling used to reduce running time\n",
    "# movies_sample = movies.sample(n=4000, random_state=98)"
   ]
  },
  {
   "cell_type": "code",
   "execution_count": 8,
   "id": "da04f539",
   "metadata": {
    "scrolled": true
   },
   "outputs": [],
   "source": [
    "# start = time.time()\n",
    "# kproto = KPrototypes(n_clusters=45, max_iter=20, n_jobs=4)\n",
    "# kproto.fit(movies_sample, categorical=[i for i in range(57,movies_sample.shape[1])])\n",
    "# end = time.time()\n",
    "# elapsed = end-start"
   ]
  },
  {
   "cell_type": "code",
   "execution_count": 9,
   "id": "ef0cb7fc",
   "metadata": {},
   "outputs": [
    {
     "data": {
      "text/plain": [
       "404.50138235092163"
      ]
     },
     "execution_count": 9,
     "metadata": {},
     "output_type": "execute_result"
    }
   ],
   "source": [
    "# elapsed"
   ]
  },
  {
   "cell_type": "code",
   "execution_count": 10,
   "id": "aeed0a0f",
   "metadata": {},
   "outputs": [],
   "source": [
    "# pickle.dump(kproto, open(\"kproto_4000.p\", 'wb'))"
   ]
  },
  {
   "cell_type": "markdown",
   "id": "2f8f32b3",
   "metadata": {},
   "source": [
    "Calcute the clusters of all movies to save time in recommending:"
   ]
  },
  {
   "cell_type": "code",
   "execution_count": 11,
   "id": "c2648666",
   "metadata": {},
   "outputs": [],
   "source": [
    "# all_movies_clusters = kproto.predict(movies, categorical=[i for i in range(57,movies.shape[1])])\n",
    "# pickle.dump(all_movies_clusters, open(\"clusters_kproto_4000.p\", 'wb'))"
   ]
  },
  {
   "cell_type": "markdown",
   "id": "8033e5a9",
   "metadata": {},
   "source": [
    "Recommend movies:"
   ]
  },
  {
   "cell_type": "code",
   "execution_count": 12,
   "id": "35642456",
   "metadata": {},
   "outputs": [],
   "source": [
    "kproto = pickle.load(open(\"kproto_4000.p\", \"rb\"))\n",
    "all_movies_clusters = pickle.load(open(\"clusters_kproto_4000.p\", \"rb\"))"
   ]
  },
  {
   "cell_type": "code",
   "execution_count": 13,
   "id": "aed4d80e",
   "metadata": {},
   "outputs": [],
   "source": [
    "def recommend_movies(uid, unprepared_movies, movies, ratings, cluster_obj, clusters):\n",
    "    \"\"\"\n",
    "    Input:\n",
    "    uid - ID of the user\n",
    "    \n",
    "    Output:\n",
    "    potential_suggestions - The most popular 20 suggested movies\n",
    "    \n",
    "    Error codes:\n",
    "    -1 - This userID does not exist\n",
    "    -2 - There are no movies in the current form of movies database that was rated by the user\n",
    "    \"\"\"\n",
    "    \n",
    "    rated_movies = ratings[ratings['userId'] == uid].drop('userId', axis=1)\n",
    "\n",
    "    if rated_movies.shape[0] == 0:\n",
    "        return -1 # Invalid userId\n",
    "\n",
    "    best_match = find_best_matching_cluster(uid, movies, rated_movies, cluster_obj)\n",
    "    \n",
    "    if best_match == -2:\n",
    "        return -2 # There is no rated movie in movies database\n",
    "\n",
    "    # Select the movies in the best matching cluster\n",
    "    potential_suggestions = unprepared_movies[unprepared_movies['id'].isin(movies[clusters == best_match].index)]\n",
    "\n",
    "    # Delete previously watched (rated) movies\n",
    "    watched_index = potential_suggestions[potential_suggestions['id'].isin(rated_movies['movieId'])].index\n",
    "    potential_suggestions = potential_suggestions.drop(watched_index)\n",
    "\n",
    "    # First suggest the more popular movies\n",
    "    potential_suggestions = potential_suggestions.sort_values('popularity', ascending=False)\n",
    "\n",
    "    # Grab the first twenty\n",
    "    potential_suggestions = potential_suggestions['title'].head(20)\n",
    "    \n",
    "    return potential_suggestions\n",
    "\n",
    "def find_best_matching_cluster(uid, movies, rated_movies, cluster_obj):\n",
    "    # The clusters of movies that have been rated at least once\n",
    "    clusters = np.array([])\n",
    "    \n",
    "    # The indexes of movies that have not been found in movies database\n",
    "    # Which indicates error in data set\n",
    "    indexlist = np.array([])\n",
    "    \n",
    "    for index, row in rated_movies.iterrows():\n",
    "        try:\n",
    "            clusters = np.append(clusters, cluster_obj.predict(pd.DataFrame(movies.loc[int(row['movieId'])]).transpose(), categorical=[i for i in range(57,movies.shape[1])]))\n",
    "        except:\n",
    "            indexlist = np.append(indexlist, index)\n",
    "    \n",
    "    # Handle inconsistency in DB\n",
    "    rated_movies.drop(indexlist, inplace=True)\n",
    "\n",
    "    rated_movies['clusters'] = clusters\n",
    "\n",
    "    # Find the highest rated cluster\n",
    "    if rated_movies.shape[0] > 0:\n",
    "        best_match = rated_movies[['rating', 'clusters']].groupby('clusters').mean().idxmax()[0]\n",
    "    else:\n",
    "        return -2 # There is no rated movie in movies database\n",
    "    \n",
    "    return best_match"
   ]
  },
  {
   "cell_type": "code",
   "execution_count": 14,
   "id": "4f8afbca",
   "metadata": {},
   "outputs": [
    {
     "data": {
      "text/plain": [
       "39955                           Colossal\n",
       "11512                        Ratatouille\n",
       "37934                      Sausage Party\n",
       "19400                 Hotel Transylvania\n",
       "1324                       Mars Attacks!\n",
       "2717                    Yellow Submarine\n",
       "4425                Dream a Little Dream\n",
       "28425                               Home\n",
       "11440               Happily N'Ever After\n",
       "10335                       Corpse Bride\n",
       "1117                        Delicatessen\n",
       "13904                         Cold Souls\n",
       "12292    The Girl Who Leapt Through Time\n",
       "7034                          Cool World\n",
       "5329                       Our Man Flint\n",
       "23938                      The Boxtrolls\n",
       "7599              Batteries not Included\n",
       "9326                       The Animatrix\n",
       "1211                               Akira\n",
       "2314                     Howard the Duck\n",
       "Name: title, dtype: object"
      ]
     },
     "execution_count": 14,
     "metadata": {},
     "output_type": "execute_result"
    }
   ],
   "source": [
    "recommend_movies(5000, unprepared_movies, movies, ratings, kproto, all_movies_clusters)"
   ]
  },
  {
   "cell_type": "code",
   "execution_count": 15,
   "id": "3d605bbd",
   "metadata": {},
   "outputs": [
    {
     "data": {
      "text/plain": [
       "-1"
      ]
     },
     "execution_count": 15,
     "metadata": {},
     "output_type": "execute_result"
    }
   ],
   "source": [
    "recommend_movies(235623464, unprepared_movies, movies, ratings, kproto, all_movies_clusters)"
   ]
  },
  {
   "cell_type": "markdown",
   "id": "f9bb8adb",
   "metadata": {},
   "source": [
    "Test performance:"
   ]
  },
  {
   "cell_type": "code",
   "execution_count": 115,
   "id": "ec06fd73",
   "metadata": {},
   "outputs": [],
   "source": [
    "# Sampling\n",
    "unprepared_movies2 = unprepared_movies.sample(frac=0.7, random_state=98)\n",
    "movies2 = movies[movies.index.isin(unprepared_movies2['id'])]\n",
    "clusters = pd.DataFrame(movies.index).join(pd.DataFrame(all_movies_clusters, columns=['cluster']))\n",
    "clusters = clusters[clusters['id'].isin(unprepared_movies2['id'])]['cluster']\n",
    "clusters = np.array(clusters)\n",
    "ratings2 = ratings[ratings['movieId'].isin(unprepared_movies2['id'])]"
   ]
  },
  {
   "cell_type": "code",
   "execution_count": null,
   "id": "77d5e0b1",
   "metadata": {},
   "outputs": [],
   "source": [
    "averages = []\n",
    "\n",
    "# Number of both rated and suggested movies\n",
    "weight = []\n",
    "\n",
    "for uid in ratings['userId'].unique():\n",
    "    suggestions = recommend_movies(uid, unprepared_movies2, movies2, ratings2, kproto, clusters)\n",
    "    \n",
    "    if type(suggestions) == int: # Error\n",
    "        continue\n",
    "        \n",
    "    suggestions = suggestions.apply(convert_title_to_index)\n",
    "    \n",
    "    personal_ratings = ratings[ratings['userId'] == uid]\n",
    "    rated_and_suggested_movies = personal_ratings[personal_ratings['movieId'].isin(suggestions)]\n",
    "    \n",
    "    if rated_and_suggested_movies.shape[0] != 0:\n",
    "        weight.append(rated_and_suggested_movies.shape[0])\n",
    "        averages.append( sum(rated_and_suggested_movies['rating']) / rated_and_suggested_movies.shape[0] )"
   ]
  },
  {
   "cell_type": "code",
   "execution_count": 137,
   "id": "c9efbf04",
   "metadata": {},
   "outputs": [
    {
     "data": {
      "text/plain": [
       "11"
      ]
     },
     "execution_count": 137,
     "metadata": {},
     "output_type": "execute_result"
    }
   ],
   "source": [
    "uid"
   ]
  },
  {
   "cell_type": "code",
   "execution_count": 146,
   "id": "452ad3e1",
   "metadata": {},
   "outputs": [
    {
     "data": {
      "text/plain": [
       "True"
      ]
     },
     "execution_count": 146,
     "metadata": {},
     "output_type": "execute_result"
    }
   ],
   "source": []
  },
  {
   "cell_type": "code",
   "execution_count": null,
   "id": "eb06468a",
   "metadata": {},
   "outputs": [],
   "source": []
  }
 ],
 "metadata": {
  "kernelspec": {
   "display_name": "Python 3 (ipykernel)",
   "language": "python",
   "name": "python3"
  },
  "language_info": {
   "codemirror_mode": {
    "name": "ipython",
    "version": 3
   },
   "file_extension": ".py",
   "mimetype": "text/x-python",
   "name": "python",
   "nbconvert_exporter": "python",
   "pygments_lexer": "ipython3",
   "version": "3.9.7"
  }
 },
 "nbformat": 4,
 "nbformat_minor": 5
}
