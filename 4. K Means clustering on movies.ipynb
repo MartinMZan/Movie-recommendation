{
 "cells": [
  {
   "cell_type": "code",
   "execution_count": 1,
   "id": "250fcb88",
   "metadata": {},
   "outputs": [],
   "source": [
    "import pandas as pd\n",
    "from sklearn.preprocessing import MultiLabelBinarizer\n",
    "from sklearn.decomposition import PCA\n",
    "from sklearn.cluster import KMeans"
   ]
  },
  {
   "cell_type": "code",
   "execution_count": 2,
   "id": "98db8cae",
   "metadata": {},
   "outputs": [],
   "source": [
    "movies = pd.read_csv('movies_metadata_withcomponents.csv')"
   ]
  },
  {
   "cell_type": "code",
   "execution_count": 12,
   "id": "24dcdb9e",
   "metadata": {},
   "outputs": [],
   "source": [
    "# Drop the remaining NaN values\n",
    "# movies.dropna(inplace = True)\n",
    "# movies.to_csv('movies_metadata_withcomponents.csv', index=False)"
   ]
  },
  {
   "cell_type": "code",
   "execution_count": 3,
   "id": "2652cd89",
   "metadata": {},
   "outputs": [],
   "source": [
    "def get_numbers(str):\n",
    "    \"\"\"Return the integer numbers from a string in an array format.\"\"\"\n",
    "    arr = str.replace(',','').replace('{','').replace('}','').replace('[','').replace(']','').split()\n",
    "    arr = [int(s) for s in arr if s.isdigit()]\n",
    "    return arr\n",
    "\n",
    "def get_country_codes(str):\n",
    "    \"\"\"Return the codes of the countries from a string.\"\"\"\n",
    "    arr = str.replace(',','').replace('{','').replace('}','').replace('[','').replace(']','').replace(\"'\", \"\").split()\n",
    "    arr = [s for s in arr if country_codes['Code'].str.contains(s).any()]\n",
    "    return arr"
   ]
  },
  {
   "cell_type": "code",
   "execution_count": 4,
   "id": "ef7d2b7b",
   "metadata": {},
   "outputs": [],
   "source": [
    "# Convert these to arrays\n",
    "country_codes = pd.read_csv('country_codes.csv')\n",
    "\n",
    "movies['genres'] = movies['genres'].apply(lambda str: get_numbers(str))\n",
    "movies['production_companies'] = movies['production_companies'].apply(lambda str: get_numbers(str))\n",
    "movies['production_countries'] = movies['production_countries'].apply(lambda str: get_country_codes(str)) # This takes time"
   ]
  },
  {
   "cell_type": "code",
   "execution_count": 5,
   "id": "a3cc892e",
   "metadata": {},
   "outputs": [],
   "source": [
    "# Get dummies\n",
    "mlb = MultiLabelBinarizer()\n",
    "genres = pd.DataFrame(mlb.fit_transform(movies['genres']), columns=mlb.classes)\n",
    "\n",
    "mlb = MultiLabelBinarizer()\n",
    "production_companies = pd.DataFrame(mlb.fit_transform(movies['production_companies']), columns=mlb.classes)\n",
    "\n",
    "mlb = MultiLabelBinarizer()\n",
    "production_countries = pd.DataFrame(mlb.fit_transform(movies['production_countries']), columns=mlb.classes)\n",
    "\n",
    "original_language = pd.get_dummies(movies['original_language'])"
   ]
  },
  {
   "cell_type": "code",
   "execution_count": 6,
   "id": "b3b87950",
   "metadata": {},
   "outputs": [],
   "source": [
    "# Rename the columns to unique names\n",
    "for i in range(genres.shape[1]):\n",
    "    genres.rename(mapper={i : str(i) + '. genre'}, axis=1, inplace=True)\n",
    "    \n",
    "for i in range(production_countries.shape[1]):\n",
    "    production_countries.rename(mapper={i : str(i) + '. country'}, axis=1, inplace=True)"
   ]
  },
  {
   "cell_type": "code",
   "execution_count": 7,
   "id": "4df65b56",
   "metadata": {},
   "outputs": [],
   "source": [
    "# production_companies is not used in this version\n",
    "movievectors = movies.drop(['genres', 'production_companies', 'production_countries', 'original_language', 'id', 'title'], axis=1).join(\n",
    "        genres).join(production_countries).join(original_language)"
   ]
  },
  {
   "cell_type": "code",
   "execution_count": 8,
   "id": "da04f539",
   "metadata": {},
   "outputs": [
    {
     "data": {
      "text/plain": [
       "KMeans(n_clusters=30)"
      ]
     },
     "execution_count": 8,
     "metadata": {},
     "output_type": "execute_result"
    }
   ],
   "source": [
    "# Kmeans\n",
    "kmeans = KMeans(n_clusters=30)\n",
    "kmeans.fit(movievectors.dropna())"
   ]
  },
  {
   "cell_type": "code",
   "execution_count": 9,
   "id": "3d2cde69",
   "metadata": {},
   "outputs": [
    {
     "data": {
      "text/plain": [
       "array([[ 1.00000000e+00,  3.66121109e+07,  7.90743149e+00, ...,\n",
       "         2.60208521e-18,  1.91570881e-02, -5.42101086e-20],\n",
       "       [ 1.00000000e+00,  1.57432432e+08,  1.65881801e+01, ...,\n",
       "        -1.08420217e-19,  1.73472348e-18, -3.38813179e-21],\n",
       "       [ 1.00000000e+00,  1.88268797e+05,  1.94390182e+00, ...,\n",
       "         8.04609635e-04,  9.05834718e-03,  2.59551495e-05],\n",
       "       ...,\n",
       "       [ 1.00000000e+00,  5.89583333e+07,  4.02543072e+01, ...,\n",
       "         0.00000000e+00,  0.00000000e+00,  3.38813179e-21],\n",
       "       [ 1.00000000e+00,  8.82459375e+07,  1.71402397e+01, ...,\n",
       "         0.00000000e+00,  0.00000000e+00,  0.00000000e+00],\n",
       "       [ 1.00000000e+00,  1.49986977e+07,  1.00625638e+01, ...,\n",
       "         1.62630326e-18,  1.74563591e-02, -3.72694497e-20]])"
      ]
     },
     "execution_count": 9,
     "metadata": {},
     "output_type": "execute_result"
    }
   ],
   "source": [
    "kmeans.cluster_centers_"
   ]
  },
  {
   "cell_type": "code",
   "execution_count": 20,
   "id": "4704f13c",
   "metadata": {},
   "outputs": [],
   "source": []
  }
 ],
 "metadata": {
  "kernelspec": {
   "display_name": "Python 3",
   "language": "python",
   "name": "python3"
  },
  "language_info": {
   "codemirror_mode": {
    "name": "ipython",
    "version": 3
   },
   "file_extension": ".py",
   "mimetype": "text/x-python",
   "name": "python",
   "nbconvert_exporter": "python",
   "pygments_lexer": "ipython3",
   "version": "3.8.8"
  }
 },
 "nbformat": 4,
 "nbformat_minor": 5
}
