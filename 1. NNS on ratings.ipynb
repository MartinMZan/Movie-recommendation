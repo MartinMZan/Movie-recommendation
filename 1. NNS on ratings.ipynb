{
 "cells": [
  {
   "cell_type": "code",
   "execution_count": 1,
   "id": "a8d4f1ba",
   "metadata": {},
   "outputs": [],
   "source": [
    "import numpy as np\n",
    "import pandas as pd\n",
    "from scipy.spatial.distance import pdist, squareform\n",
    "\n",
    "ratings = pd.read_csv('ratings.csv')"
   ]
  },
  {
   "cell_type": "code",
   "execution_count": 2,
   "id": "420d9bfd",
   "metadata": {},
   "outputs": [],
   "source": [
    "def NNSrecommend(inputuser = 1):\n",
    "    \n",
    "    \"\"\"Suggest movies based on NNS algorihm.\n",
    "    \n",
    "    Input:\n",
    "    inputuser       -- \"userId\" of the selected user\n",
    "    \n",
    "    Output:\n",
    "    recommendations -- \"movieId\"-s of recommended movies, numpy.ndarray format\n",
    "    \n",
    "    Error codes:\n",
    "    -1              -- \"inputuser\" not found in database\n",
    "    -2              -- There are no users, that have rated the same movies\n",
    "    \"\"\"\n",
    "    \n",
    "    if inputuser not in ratings['userId'].unique():\n",
    "        return -1\n",
    "\n",
    "    # Reduction of movies\n",
    "    seenmovies = ratings[ratings['userId'] == inputuser]['movieId']\n",
    "    smallratings = ratings[ratings['movieId'].isin(seenmovies)]\n",
    "\n",
    "    # Reduction of users\n",
    "    users = smallratings['userId'].value_counts() == len(seenmovies)\n",
    "    users = users.index[users].tolist()\n",
    "    smallratings = smallratings[smallratings['userId'].isin(users)]\n",
    "        \n",
    "    # Make pivot table and calculate distances\n",
    "    table = pd.pivot_table(smallratings, values='rating', index='userId', columns='movieId')\n",
    "\n",
    "    distances = pdist(table, metric='euclidean')\n",
    "    distances = squareform(distances)\n",
    "    \n",
    "    # Select the distances we require\n",
    "    distances = pd.DataFrame(index = table.index, columns = table.index, data = distances)\n",
    "    distances = distances[distances.index == inputuser].drop(inputuser, axis = 1)\n",
    "    \n",
    "    if distances.empty:\n",
    "        return -2\n",
    "    \n",
    "    nearestuser = distances.idxmin(axis = 1).values[0]\n",
    "\n",
    "    recommendations = ratings[(ratings['userId'] == nearestuser) & (ratings['movieId'].isin(seenmovies) == False)\n",
    "                              & (ratings['rating'] >= 4)]['movieId'].values\n",
    "    \n",
    "    return recommendations"
   ]
  },
  {
   "cell_type": "code",
   "execution_count": 3,
   "id": "b9de9a3b",
   "metadata": {},
   "outputs": [],
   "source": [
    "rec = NNSrecommend(1)"
   ]
  },
  {
   "cell_type": "code",
   "execution_count": 4,
   "id": "604d58de",
   "metadata": {},
   "outputs": [
    {
     "data": {
      "text/plain": [
       "array([     3,     14,     21, ..., 145839, 146656, 148626], dtype=int64)"
      ]
     },
     "execution_count": 4,
     "metadata": {},
     "output_type": "execute_result"
    }
   ],
   "source": [
    "rec"
   ]
  },
  {
   "cell_type": "code",
   "execution_count": null,
   "id": "2f0ae348",
   "metadata": {},
   "outputs": [],
   "source": []
  }
 ],
 "metadata": {
  "kernelspec": {
   "display_name": "Python 3 (ipykernel)",
   "language": "python",
   "name": "python3"
  },
  "language_info": {
   "codemirror_mode": {
    "name": "ipython",
    "version": 3
   },
   "file_extension": ".py",
   "mimetype": "text/x-python",
   "name": "python",
   "nbconvert_exporter": "python",
   "pygments_lexer": "ipython3",
   "version": "3.9.7"
  }
 },
 "nbformat": 4,
 "nbformat_minor": 5
}
