{
 "cells": [
  {
   "cell_type": "code",
   "execution_count": 1,
   "id": "a8d4f1ba",
   "metadata": {},
   "outputs": [],
   "source": [
    "import numpy as np\n",
    "import pandas as pd\n",
    "from scipy.spatial.distance import pdist, squareform\n",
    "\n",
    "ratings = pd.read_csv('ratings.csv')"
   ]
  },
  {
   "cell_type": "code",
   "execution_count": 2,
   "id": "420d9bfd",
   "metadata": {},
   "outputs": [],
   "source": [
    "def NNSrecommend(inputuser = 1):\n",
    "    \n",
    "    \"\"\"Suggest movies based on NNS algorihm.\n",
    "    \n",
    "    Input:\n",
    "    inputuser       -- \"userId\" of the selected user\n",
    "    \n",
    "    Output:\n",
    "    recommendations -- \"movieId\"-s of recommended movies, numpy.ndarray format\n",
    "    \n",
    "    Error codes:\n",
    "    -1              -- \"inputuser\" not found in database\n",
    "    -2              -- There are no users, that have rated the same movies\n",
    "    \"\"\"\n",
    "    \n",
    "    if inputuser not in ratings['userId'].unique():\n",
    "        return -1\n",
    "\n",
    "    # Reduction of movies\n",
    "    seenmovies = ratings[ratings['userId'] == inputuser]['movieId']\n",
    "    smallratings = ratings[ratings['movieId'].isin(seenmovies)]\n",
    "\n",
    "    # Reduction of users\n",
    "    users = smallratings['userId'].value_counts() == len(seenmovies)\n",
    "    users = users.index[users].tolist()\n",
    "    smallratings = smallratings[smallratings['userId'].isin(users)]\n",
    "        \n",
    "    # Make pivot table and calculate distances\n",
    "    table = pd.pivot_table(smallratings, values='rating', index='userId', columns='movieId')\n",
    "\n",
    "    distances = pdist(table, metric='euclidean')\n",
    "    distances = squareform(distances)\n",
    "    \n",
    "    # Select the distances that we need\n",
    "    distances = pd.DataFrame(index = table.index, columns = table.index, data = distances)\n",
    "    distances = distances[distances.index == inputuser].drop(inputuser, axis = 1)\n",
    "    \n",
    "    if distances.empty:\n",
    "        return -2\n",
    "    \n",
    "    nearestuser = distances.idxmin(axis = 1).values[0]\n",
    "\n",
    "    recommendations = ratings[(ratings['userId'] == nearestuser) & (ratings['movieId'].isin(seenmovies) == False)\n",
    "                              & (ratings['rating'] >= 4)]['movieId'].values\n",
    "    \n",
    "    return recommendations"
   ]
  },
  {
   "cell_type": "code",
   "execution_count": 3,
   "id": "b9de9a3b",
   "metadata": {},
   "outputs": [],
   "source": [
    "rec = NNSrecommend(1)"
   ]
  },
  {
   "cell_type": "code",
   "execution_count": 4,
   "id": "604d58de",
   "metadata": {},
   "outputs": [
    {
     "data": {
      "text/plain": [
       "array([     3,     14,     21, ..., 145839, 146656, 148626], dtype=int64)"
      ]
     },
     "execution_count": 4,
     "metadata": {},
     "output_type": "execute_result"
    }
   ],
   "source": [
    "rec"
   ]
  },
  {
   "cell_type": "markdown",
   "id": "65040a9f",
   "metadata": {},
   "source": [
    "# Coverage"
   ]
  },
  {
   "cell_type": "code",
   "execution_count": 12,
   "id": "500f5c51",
   "metadata": {},
   "outputs": [],
   "source": [
    "suggested_movies = []\n",
    "users = np.random.choice(ratings['userId'].unique(), size=100)\n",
    "for i in users:\n",
    "    suggested_movies.append(NNSrecommend(i))"
   ]
  },
  {
   "cell_type": "code",
   "execution_count": 56,
   "id": "c3d739cf",
   "metadata": {},
   "outputs": [],
   "source": [
    "list = []\n",
    "for i in range(len(suggested_movies)):\n",
    "    if type(suggested_movies[i]) == np.ndarray:\n",
    "        for j in range(len(suggested_movies[i])):\n",
    "            list.append(suggested_movies[i][j])"
   ]
  },
  {
   "cell_type": "code",
   "execution_count": 61,
   "id": "1c184470",
   "metadata": {},
   "outputs": [
    {
     "data": {
      "text/plain": [
       "7799"
      ]
     },
     "execution_count": 61,
     "metadata": {},
     "output_type": "execute_result"
    }
   ],
   "source": [
    "len(np.unique(list))"
   ]
  },
  {
   "cell_type": "code",
   "execution_count": 64,
   "id": "32751d77",
   "metadata": {},
   "outputs": [
    {
     "data": {
      "text/plain": [
       "45115"
      ]
     },
     "execution_count": 64,
     "metadata": {},
     "output_type": "execute_result"
    }
   ],
   "source": [
    "ratings.movieId.nunique()"
   ]
  },
  {
   "cell_type": "markdown",
   "id": "76dee310",
   "metadata": {},
   "source": [
    "# Personalization"
   ]
  },
  {
   "cell_type": "code",
   "execution_count": 69,
   "id": "671becce",
   "metadata": {},
   "outputs": [],
   "source": [
    "from sklearn.metrics.pairwise import cosine_similarity"
   ]
  },
  {
   "cell_type": "code",
   "execution_count": 32,
   "id": "6e32186b",
   "metadata": {},
   "outputs": [],
   "source": [
    "suggested_movies = []\n",
    "users = np.random.choice(ratings['userId'].unique(), size=100)\n",
    "for i in users:\n",
    "    tmp = NNSrecommend(i)\n",
    "    if type(tmp) != int:\n",
    "        suggested_movies.append(tmp)"
   ]
  },
  {
   "cell_type": "code",
   "execution_count": 34,
   "id": "d3887dfe",
   "metadata": {},
   "outputs": [],
   "source": [
    "list = []\n",
    "for i in range(len(suggested_movies)):\n",
    "    for j in range(len(suggested_movies[i])):\n",
    "        list.append(suggested_movies[i][j])\n",
    "\n",
    "list = np.unique(list)"
   ]
  },
  {
   "cell_type": "code",
   "execution_count": 61,
   "id": "7386ad12",
   "metadata": {},
   "outputs": [],
   "source": [
    "data = np.zeros(shape=(len(suggested_movies), len(list)))\n",
    "seen_movies = pd.DataFrame(data=data, columns=list)"
   ]
  },
  {
   "cell_type": "code",
   "execution_count": 62,
   "id": "b0edfa62",
   "metadata": {},
   "outputs": [],
   "source": [
    "for i in range(len(suggested_movies)):\n",
    "    for j in suggested_movies[i]:\n",
    "        if j in seen_movies.columns:\n",
    "            seen_movies.loc[i,j] = 1"
   ]
  },
  {
   "cell_type": "code",
   "execution_count": 71,
   "id": "ddbf5eda",
   "metadata": {},
   "outputs": [
    {
     "data": {
      "text/html": [
       "<div>\n",
       "<style scoped>\n",
       "    .dataframe tbody tr th:only-of-type {\n",
       "        vertical-align: middle;\n",
       "    }\n",
       "\n",
       "    .dataframe tbody tr th {\n",
       "        vertical-align: top;\n",
       "    }\n",
       "\n",
       "    .dataframe thead th {\n",
       "        text-align: right;\n",
       "    }\n",
       "</style>\n",
       "<table border=\"1\" class=\"dataframe\">\n",
       "  <thead>\n",
       "    <tr style=\"text-align: right;\">\n",
       "      <th></th>\n",
       "      <th>0</th>\n",
       "      <th>1</th>\n",
       "      <th>2</th>\n",
       "      <th>3</th>\n",
       "      <th>4</th>\n",
       "      <th>5</th>\n",
       "      <th>6</th>\n",
       "      <th>7</th>\n",
       "      <th>8</th>\n",
       "      <th>9</th>\n",
       "      <th>...</th>\n",
       "      <th>76</th>\n",
       "      <th>77</th>\n",
       "      <th>78</th>\n",
       "      <th>79</th>\n",
       "      <th>80</th>\n",
       "      <th>81</th>\n",
       "      <th>82</th>\n",
       "      <th>83</th>\n",
       "      <th>84</th>\n",
       "      <th>85</th>\n",
       "    </tr>\n",
       "  </thead>\n",
       "  <tbody>\n",
       "    <tr>\n",
       "      <th>0</th>\n",
       "      <td>1.000000</td>\n",
       "      <td>0.026273</td>\n",
       "      <td>0.072658</td>\n",
       "      <td>0.069304</td>\n",
       "      <td>0.091816</td>\n",
       "      <td>0.169767</td>\n",
       "      <td>0.074331</td>\n",
       "      <td>0.106547</td>\n",
       "      <td>0.081592</td>\n",
       "      <td>0.062357</td>\n",
       "      <td>...</td>\n",
       "      <td>0.055916</td>\n",
       "      <td>0.039382</td>\n",
       "      <td>0.072638</td>\n",
       "      <td>0.050467</td>\n",
       "      <td>0.077872</td>\n",
       "      <td>0.126833</td>\n",
       "      <td>0.018283</td>\n",
       "      <td>0.075556</td>\n",
       "      <td>0.216254</td>\n",
       "      <td>0.088666</td>\n",
       "    </tr>\n",
       "    <tr>\n",
       "      <th>1</th>\n",
       "      <td>0.026273</td>\n",
       "      <td>1.000000</td>\n",
       "      <td>0.226157</td>\n",
       "      <td>0.227147</td>\n",
       "      <td>0.255706</td>\n",
       "      <td>0.105927</td>\n",
       "      <td>0.249839</td>\n",
       "      <td>0.083293</td>\n",
       "      <td>0.264080</td>\n",
       "      <td>0.195203</td>\n",
       "      <td>...</td>\n",
       "      <td>0.112977</td>\n",
       "      <td>0.176151</td>\n",
       "      <td>0.179368</td>\n",
       "      <td>0.157281</td>\n",
       "      <td>0.223445</td>\n",
       "      <td>0.201233</td>\n",
       "      <td>0.067891</td>\n",
       "      <td>0.202482</td>\n",
       "      <td>0.066918</td>\n",
       "      <td>0.271626</td>\n",
       "    </tr>\n",
       "    <tr>\n",
       "      <th>2</th>\n",
       "      <td>0.072658</td>\n",
       "      <td>0.226157</td>\n",
       "      <td>1.000000</td>\n",
       "      <td>0.985502</td>\n",
       "      <td>0.347765</td>\n",
       "      <td>0.158027</td>\n",
       "      <td>0.318172</td>\n",
       "      <td>0.106703</td>\n",
       "      <td>0.395624</td>\n",
       "      <td>0.966651</td>\n",
       "      <td>...</td>\n",
       "      <td>0.195706</td>\n",
       "      <td>0.229242</td>\n",
       "      <td>0.960043</td>\n",
       "      <td>0.248235</td>\n",
       "      <td>0.981417</td>\n",
       "      <td>0.390736</td>\n",
       "      <td>0.141733</td>\n",
       "      <td>0.975242</td>\n",
       "      <td>0.211911</td>\n",
       "      <td>0.393662</td>\n",
       "    </tr>\n",
       "    <tr>\n",
       "      <th>3</th>\n",
       "      <td>0.069304</td>\n",
       "      <td>0.227147</td>\n",
       "      <td>0.985502</td>\n",
       "      <td>1.000000</td>\n",
       "      <td>0.350457</td>\n",
       "      <td>0.163559</td>\n",
       "      <td>0.328935</td>\n",
       "      <td>0.117701</td>\n",
       "      <td>0.404002</td>\n",
       "      <td>0.969657</td>\n",
       "      <td>...</td>\n",
       "      <td>0.204153</td>\n",
       "      <td>0.250127</td>\n",
       "      <td>0.967471</td>\n",
       "      <td>0.260490</td>\n",
       "      <td>0.988750</td>\n",
       "      <td>0.396897</td>\n",
       "      <td>0.160808</td>\n",
       "      <td>0.982292</td>\n",
       "      <td>0.221185</td>\n",
       "      <td>0.402113</td>\n",
       "    </tr>\n",
       "    <tr>\n",
       "      <th>4</th>\n",
       "      <td>0.091816</td>\n",
       "      <td>0.255706</td>\n",
       "      <td>0.347765</td>\n",
       "      <td>0.350457</td>\n",
       "      <td>1.000000</td>\n",
       "      <td>0.193264</td>\n",
       "      <td>0.343846</td>\n",
       "      <td>0.135706</td>\n",
       "      <td>0.435042</td>\n",
       "      <td>0.310503</td>\n",
       "      <td>...</td>\n",
       "      <td>0.145352</td>\n",
       "      <td>0.209067</td>\n",
       "      <td>0.312586</td>\n",
       "      <td>0.210502</td>\n",
       "      <td>0.346360</td>\n",
       "      <td>0.384577</td>\n",
       "      <td>0.054505</td>\n",
       "      <td>0.329990</td>\n",
       "      <td>0.204781</td>\n",
       "      <td>0.432637</td>\n",
       "    </tr>\n",
       "    <tr>\n",
       "      <th>...</th>\n",
       "      <td>...</td>\n",
       "      <td>...</td>\n",
       "      <td>...</td>\n",
       "      <td>...</td>\n",
       "      <td>...</td>\n",
       "      <td>...</td>\n",
       "      <td>...</td>\n",
       "      <td>...</td>\n",
       "      <td>...</td>\n",
       "      <td>...</td>\n",
       "      <td>...</td>\n",
       "      <td>...</td>\n",
       "      <td>...</td>\n",
       "      <td>...</td>\n",
       "      <td>...</td>\n",
       "      <td>...</td>\n",
       "      <td>...</td>\n",
       "      <td>...</td>\n",
       "      <td>...</td>\n",
       "      <td>...</td>\n",
       "      <td>...</td>\n",
       "    </tr>\n",
       "    <tr>\n",
       "      <th>81</th>\n",
       "      <td>0.126833</td>\n",
       "      <td>0.201233</td>\n",
       "      <td>0.390736</td>\n",
       "      <td>0.396897</td>\n",
       "      <td>0.384577</td>\n",
       "      <td>0.170075</td>\n",
       "      <td>0.296978</td>\n",
       "      <td>0.150784</td>\n",
       "      <td>0.377329</td>\n",
       "      <td>0.362989</td>\n",
       "      <td>...</td>\n",
       "      <td>0.133467</td>\n",
       "      <td>0.218788</td>\n",
       "      <td>0.364348</td>\n",
       "      <td>0.170945</td>\n",
       "      <td>0.391781</td>\n",
       "      <td>1.000000</td>\n",
       "      <td>0.059589</td>\n",
       "      <td>0.385412</td>\n",
       "      <td>0.203223</td>\n",
       "      <td>0.370620</td>\n",
       "    </tr>\n",
       "    <tr>\n",
       "      <th>82</th>\n",
       "      <td>0.018283</td>\n",
       "      <td>0.067891</td>\n",
       "      <td>0.141733</td>\n",
       "      <td>0.160808</td>\n",
       "      <td>0.054505</td>\n",
       "      <td>0.039553</td>\n",
       "      <td>0.089413</td>\n",
       "      <td>0.065207</td>\n",
       "      <td>0.113965</td>\n",
       "      <td>0.151764</td>\n",
       "      <td>...</td>\n",
       "      <td>0.084993</td>\n",
       "      <td>0.143396</td>\n",
       "      <td>0.133265</td>\n",
       "      <td>0.125750</td>\n",
       "      <td>0.166467</td>\n",
       "      <td>0.059589</td>\n",
       "      <td>1.000000</td>\n",
       "      <td>0.158401</td>\n",
       "      <td>0.055880</td>\n",
       "      <td>0.114557</td>\n",
       "    </tr>\n",
       "    <tr>\n",
       "      <th>83</th>\n",
       "      <td>0.075556</td>\n",
       "      <td>0.202482</td>\n",
       "      <td>0.975242</td>\n",
       "      <td>0.982292</td>\n",
       "      <td>0.329990</td>\n",
       "      <td>0.160652</td>\n",
       "      <td>0.316053</td>\n",
       "      <td>0.115246</td>\n",
       "      <td>0.389881</td>\n",
       "      <td>0.962016</td>\n",
       "      <td>...</td>\n",
       "      <td>0.210744</td>\n",
       "      <td>0.248866</td>\n",
       "      <td>0.962858</td>\n",
       "      <td>0.256022</td>\n",
       "      <td>0.980768</td>\n",
       "      <td>0.385412</td>\n",
       "      <td>0.158401</td>\n",
       "      <td>1.000000</td>\n",
       "      <td>0.222215</td>\n",
       "      <td>0.385877</td>\n",
       "    </tr>\n",
       "    <tr>\n",
       "      <th>84</th>\n",
       "      <td>0.216254</td>\n",
       "      <td>0.066918</td>\n",
       "      <td>0.211911</td>\n",
       "      <td>0.221185</td>\n",
       "      <td>0.204781</td>\n",
       "      <td>0.191388</td>\n",
       "      <td>0.233711</td>\n",
       "      <td>0.191390</td>\n",
       "      <td>0.312283</td>\n",
       "      <td>0.187632</td>\n",
       "      <td>...</td>\n",
       "      <td>0.256352</td>\n",
       "      <td>0.211555</td>\n",
       "      <td>0.208689</td>\n",
       "      <td>0.156083</td>\n",
       "      <td>0.227911</td>\n",
       "      <td>0.203223</td>\n",
       "      <td>0.055880</td>\n",
       "      <td>0.222215</td>\n",
       "      <td>1.000000</td>\n",
       "      <td>0.301484</td>\n",
       "    </tr>\n",
       "    <tr>\n",
       "      <th>85</th>\n",
       "      <td>0.088666</td>\n",
       "      <td>0.271626</td>\n",
       "      <td>0.393662</td>\n",
       "      <td>0.402113</td>\n",
       "      <td>0.432637</td>\n",
       "      <td>0.268108</td>\n",
       "      <td>0.490226</td>\n",
       "      <td>0.176561</td>\n",
       "      <td>0.977215</td>\n",
       "      <td>0.342100</td>\n",
       "      <td>...</td>\n",
       "      <td>0.301409</td>\n",
       "      <td>0.373502</td>\n",
       "      <td>0.363876</td>\n",
       "      <td>0.296448</td>\n",
       "      <td>0.402540</td>\n",
       "      <td>0.370620</td>\n",
       "      <td>0.114557</td>\n",
       "      <td>0.385877</td>\n",
       "      <td>0.301484</td>\n",
       "      <td>1.000000</td>\n",
       "    </tr>\n",
       "  </tbody>\n",
       "</table>\n",
       "<p>86 rows × 86 columns</p>\n",
       "</div>"
      ],
      "text/plain": [
       "          0         1         2         3         4         5         6   \\\n",
       "0   1.000000  0.026273  0.072658  0.069304  0.091816  0.169767  0.074331   \n",
       "1   0.026273  1.000000  0.226157  0.227147  0.255706  0.105927  0.249839   \n",
       "2   0.072658  0.226157  1.000000  0.985502  0.347765  0.158027  0.318172   \n",
       "3   0.069304  0.227147  0.985502  1.000000  0.350457  0.163559  0.328935   \n",
       "4   0.091816  0.255706  0.347765  0.350457  1.000000  0.193264  0.343846   \n",
       "..       ...       ...       ...       ...       ...       ...       ...   \n",
       "81  0.126833  0.201233  0.390736  0.396897  0.384577  0.170075  0.296978   \n",
       "82  0.018283  0.067891  0.141733  0.160808  0.054505  0.039553  0.089413   \n",
       "83  0.075556  0.202482  0.975242  0.982292  0.329990  0.160652  0.316053   \n",
       "84  0.216254  0.066918  0.211911  0.221185  0.204781  0.191388  0.233711   \n",
       "85  0.088666  0.271626  0.393662  0.402113  0.432637  0.268108  0.490226   \n",
       "\n",
       "          7         8         9   ...        76        77        78        79  \\\n",
       "0   0.106547  0.081592  0.062357  ...  0.055916  0.039382  0.072638  0.050467   \n",
       "1   0.083293  0.264080  0.195203  ...  0.112977  0.176151  0.179368  0.157281   \n",
       "2   0.106703  0.395624  0.966651  ...  0.195706  0.229242  0.960043  0.248235   \n",
       "3   0.117701  0.404002  0.969657  ...  0.204153  0.250127  0.967471  0.260490   \n",
       "4   0.135706  0.435042  0.310503  ...  0.145352  0.209067  0.312586  0.210502   \n",
       "..       ...       ...       ...  ...       ...       ...       ...       ...   \n",
       "81  0.150784  0.377329  0.362989  ...  0.133467  0.218788  0.364348  0.170945   \n",
       "82  0.065207  0.113965  0.151764  ...  0.084993  0.143396  0.133265  0.125750   \n",
       "83  0.115246  0.389881  0.962016  ...  0.210744  0.248866  0.962858  0.256022   \n",
       "84  0.191390  0.312283  0.187632  ...  0.256352  0.211555  0.208689  0.156083   \n",
       "85  0.176561  0.977215  0.342100  ...  0.301409  0.373502  0.363876  0.296448   \n",
       "\n",
       "          80        81        82        83        84        85  \n",
       "0   0.077872  0.126833  0.018283  0.075556  0.216254  0.088666  \n",
       "1   0.223445  0.201233  0.067891  0.202482  0.066918  0.271626  \n",
       "2   0.981417  0.390736  0.141733  0.975242  0.211911  0.393662  \n",
       "3   0.988750  0.396897  0.160808  0.982292  0.221185  0.402113  \n",
       "4   0.346360  0.384577  0.054505  0.329990  0.204781  0.432637  \n",
       "..       ...       ...       ...       ...       ...       ...  \n",
       "81  0.391781  1.000000  0.059589  0.385412  0.203223  0.370620  \n",
       "82  0.166467  0.059589  1.000000  0.158401  0.055880  0.114557  \n",
       "83  0.980768  0.385412  0.158401  1.000000  0.222215  0.385877  \n",
       "84  0.227911  0.203223  0.055880  0.222215  1.000000  0.301484  \n",
       "85  0.402540  0.370620  0.114557  0.385877  0.301484  1.000000  \n",
       "\n",
       "[86 rows x 86 columns]"
      ]
     },
     "execution_count": 71,
     "metadata": {},
     "output_type": "execute_result"
    }
   ],
   "source": [
    "pd.DataFrame(cosine_similarity(seen_movies))"
   ]
  },
  {
   "cell_type": "code",
   "execution_count": 80,
   "id": "a531ff37",
   "metadata": {},
   "outputs": [],
   "source": [
    "# Test values\n",
    "x = seen_movies.iloc[0]\n",
    "y = seen_movies.iloc[1]"
   ]
  },
  {
   "cell_type": "code",
   "execution_count": 87,
   "id": "2ff6394f",
   "metadata": {},
   "outputs": [
    {
     "data": {
      "text/plain": [
       "0.02627336906007949"
      ]
     },
     "execution_count": 87,
     "metadata": {},
     "output_type": "execute_result"
    }
   ],
   "source": [
    "sum(x * y) / ( sum(x**2)**(1/2) * sum(y**2)**(1/2) )"
   ]
  },
  {
   "cell_type": "code",
   "execution_count": 88,
   "id": "48837a7a",
   "metadata": {},
   "outputs": [],
   "source": [
    "matrix = pd.DataFrame(cosine_similarity(seen_movies))"
   ]
  },
  {
   "cell_type": "code",
   "execution_count": 90,
   "id": "1f45dc6f",
   "metadata": {},
   "outputs": [],
   "source": [
    "matrix = 1-matrix"
   ]
  },
  {
   "cell_type": "code",
   "execution_count": 93,
   "id": "0520ee72",
   "metadata": {},
   "outputs": [],
   "source": [
    "personalization = []\n",
    "for i in range(matrix.shape[0]):\n",
    "    for j in range(matrix.shape[1]):\n",
    "        if i < j:\n",
    "            personalization.append(matrix.loc[i,j])"
   ]
  },
  {
   "cell_type": "code",
   "execution_count": 98,
   "id": "3b1ab2c2",
   "metadata": {},
   "outputs": [
    {
     "data": {
      "text/plain": [
       "0.7730875771559563"
      ]
     },
     "execution_count": 98,
     "metadata": {},
     "output_type": "execute_result"
    }
   ],
   "source": [
    "np.mean(personalization)"
   ]
  },
  {
   "cell_type": "code",
   "execution_count": null,
   "id": "f4950578",
   "metadata": {},
   "outputs": [],
   "source": []
  }
 ],
 "metadata": {
  "kernelspec": {
   "display_name": "Python 3 (ipykernel)",
   "language": "python",
   "name": "python3"
  },
  "language_info": {
   "codemirror_mode": {
    "name": "ipython",
    "version": 3
   },
   "file_extension": ".py",
   "mimetype": "text/x-python",
   "name": "python",
   "nbconvert_exporter": "python",
   "pygments_lexer": "ipython3",
   "version": "3.9.7"
  }
 },
 "nbformat": 4,
 "nbformat_minor": 5
}
