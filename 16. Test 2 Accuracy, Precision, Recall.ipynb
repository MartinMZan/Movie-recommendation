{
 "cells": [
  {
   "cell_type": "markdown",
   "id": "29beb2d5",
   "metadata": {},
   "source": [
    "# NNS"
   ]
  },
  {
   "cell_type": "code",
   "execution_count": 1,
   "id": "024a08df",
   "metadata": {},
   "outputs": [],
   "source": [
    "import numpy as np\n",
    "import pandas as pd\n",
    "from scipy.spatial.distance import pdist, squareform"
   ]
  },
  {
   "cell_type": "code",
   "execution_count": 2,
   "id": "a8757809",
   "metadata": {},
   "outputs": [],
   "source": [
    "ratings = pd.read_csv('ratings.csv')"
   ]
  },
  {
   "cell_type": "code",
   "execution_count": 3,
   "id": "84e2c29f",
   "metadata": {},
   "outputs": [],
   "source": [
    "# Train-test split\n",
    "ntestusers = 100\n",
    "testusers = np.random.choice(ratings['userId'].unique(), size=ntestusers)\n",
    "\n",
    "test = ratings[ratings['userId'].isin(testusers)]\n",
    "\n",
    "train = ratings[ratings['userId'].isin(testusers) == False]\n",
    "\n",
    "ratingspercent = 25 # Train ratings\n",
    "\n",
    "for i in test['userId'].unique():\n",
    "    df = test[test['userId'] == i]\n",
    "    \n",
    "    ntrainratings = int(np.round(df.shape[0] * ratingspercent / 100))\n",
    "    trainratings = np.random.choice(test[test['userId'] == i]['movieId'], size=ntrainratings)\n",
    "    \n",
    "    train = pd.concat((train, test[((test['userId'] == i) & (test['movieId'].isin(trainratings)))]))\n",
    "    test = test[((test['userId'] == i) & (test['movieId'].isin(trainratings))) == False]"
   ]
  },
  {
   "cell_type": "code",
   "execution_count": 4,
   "id": "83fd5751",
   "metadata": {},
   "outputs": [],
   "source": [
    "def NNSrecommend(inputuser = 1, ratings=ratings):\n",
    "    \n",
    "    \"\"\"Suggest movies based on NNS algorihm.\n",
    "    \n",
    "    Input:\n",
    "    inputuser       -- \"userId\" of the selected user\n",
    "    \n",
    "    Output:\n",
    "    recommendations -- \"movieId\"-s of recommended movies, numpy.ndarray format\n",
    "    \n",
    "    Error codes:\n",
    "    -1              -- \"inputuser\" not found in database\n",
    "    -2              -- There are no users, that have rated the same movies\n",
    "    \"\"\"\n",
    "    \n",
    "    if inputuser not in ratings['userId'].unique():\n",
    "        return -1\n",
    "\n",
    "    # Reduction of movies\n",
    "    seenmovies = ratings[ratings['userId'] == inputuser]['movieId']\n",
    "    smallratings = ratings[ratings['movieId'].isin(seenmovies)]\n",
    "\n",
    "    # Reduction of users\n",
    "    users = smallratings['userId'].value_counts() == len(seenmovies)\n",
    "    users = users.index[users].tolist()\n",
    "    smallratings = smallratings[smallratings['userId'].isin(users)]\n",
    "        \n",
    "    # Make pivot table and calculate distances\n",
    "    table = pd.pivot_table(smallratings, values='rating', index='userId', columns='movieId')\n",
    "\n",
    "    distances = pdist(table, metric='euclidean')\n",
    "    distances = squareform(distances)\n",
    "    \n",
    "    # Select the distances that we need\n",
    "    distances = pd.DataFrame(index = table.index, columns = table.index, data = distances)\n",
    "    distances = distances[distances.index == inputuser].drop(inputuser, axis = 1)\n",
    "    \n",
    "    if distances.empty:\n",
    "        return -2\n",
    "    \n",
    "    nearestuser = distances.idxmin(axis = 1).values[0]\n",
    "\n",
    "    recommendations = ratings[(ratings['userId'] == nearestuser) & (ratings['movieId'].isin(seenmovies) == False)\n",
    "                              & (ratings['rating'] >= 4)]['movieId'].values\n",
    "    \n",
    "    return recommendations"
   ]
  },
  {
   "cell_type": "code",
   "execution_count": 5,
   "id": "eba417e9",
   "metadata": {},
   "outputs": [],
   "source": [
    "confmatrix = np.zeros((2,2))"
   ]
  },
  {
   "cell_type": "code",
   "execution_count": 6,
   "id": "161c2985",
   "metadata": {},
   "outputs": [
    {
     "data": {
      "text/plain": [
       "array([[0., 0.],\n",
       "       [0., 0.]])"
      ]
     },
     "execution_count": 6,
     "metadata": {},
     "output_type": "execute_result"
    }
   ],
   "source": [
    "confmatrix"
   ]
  },
  {
   "cell_type": "code",
   "execution_count": 7,
   "id": "f1b6eca5",
   "metadata": {},
   "outputs": [],
   "source": [
    "for userid in test['userId'].unique():\n",
    "    if sum(train['userId'] == userid) < 10: # Less than 10 ratings in train\n",
    "        continue\n",
    "        \n",
    "    recommended = NNSrecommend(userid, train)\n",
    "    \n",
    "    if type(recommended) == int:\n",
    "        continue\n",
    "        \n",
    "    for movieid in ratings['movieId'].unique():\n",
    "        if test[(test['userId'] == userid) & (test['movieId'] == movieid)].shape[0] == 0 or test[(test['userId'] == userid) & (test['movieId'] == movieid)].iloc[0]['rating'] < 2.5: # Actual no\n",
    "            if movieid in recommended: # Predicted yes\n",
    "                confmatrix[0,1] = confmatrix[0,1] + 1 # False positive\n",
    "            else: # Predicted no\n",
    "                confmatrix[0,0] = confmatrix[0,0] + 1 # True negative\n",
    "                \n",
    "        else: # Actual yes\n",
    "            if movieid in recommended: # Predicted yes\n",
    "                confmatrix[1,1] = confmatrix[1,1] + 1 # True positive\n",
    "            else: # Predicted no\n",
    "                confmatrix[1,0] = confmatrix[1,0] + 1 # False negative\n",
    "                "
   ]
  },
  {
   "cell_type": "code",
   "execution_count": 8,
   "id": "0bfac40e",
   "metadata": {},
   "outputs": [
    {
     "data": {
      "text/plain": [
       "array([[1.231593e+06, 2.984000e+04],\n",
       "       [9.620000e+02, 8.250000e+02]])"
      ]
     },
     "execution_count": 8,
     "metadata": {},
     "output_type": "execute_result"
    }
   ],
   "source": [
    "confmatrix"
   ]
  },
  {
   "cell_type": "code",
   "execution_count": 9,
   "id": "0b3a16eb",
   "metadata": {},
   "outputs": [
    {
     "data": {
      "text/plain": [
       "0.9756162821994585"
      ]
     },
     "execution_count": 9,
     "metadata": {},
     "output_type": "execute_result"
    }
   ],
   "source": [
    "# Accuracy\n",
    "( confmatrix[0,0] + confmatrix[1,1] ) / np.sum(confmatrix)"
   ]
  },
  {
   "cell_type": "code",
   "execution_count": 10,
   "id": "e5c93106",
   "metadata": {},
   "outputs": [
    {
     "data": {
      "text/plain": [
       "0.026903636067177564"
      ]
     },
     "execution_count": 10,
     "metadata": {},
     "output_type": "execute_result"
    }
   ],
   "source": [
    "# Precision\n",
    "confmatrix[1,1] / (confmatrix[0,1] + confmatrix[1,1])"
   ]
  },
  {
   "cell_type": "code",
   "execution_count": 11,
   "id": "93a22a64",
   "metadata": {},
   "outputs": [
    {
     "data": {
      "text/plain": [
       "0.4616675993284835"
      ]
     },
     "execution_count": 11,
     "metadata": {},
     "output_type": "execute_result"
    }
   ],
   "source": [
    "# Recall\n",
    "confmatrix[1,1] / (confmatrix[1,0] + confmatrix[1,1])"
   ]
  },
  {
   "cell_type": "markdown",
   "id": "24aa603f",
   "metadata": {},
   "source": [
    "# Global movie recommender"
   ]
  },
  {
   "cell_type": "code",
   "execution_count": 12,
   "id": "fbd2d8d9",
   "metadata": {},
   "outputs": [],
   "source": [
    "import numpy as np\n",
    "import pandas as pd\n",
    "from sklearn.preprocessing import MultiLabelBinarizer\n",
    "from sklearn.preprocessing import MinMaxScaler\n",
    "\n",
    "from kmodes.kprototypes import KPrototypes\n",
    "\n",
    "import time\n",
    "import pickle"
   ]
  },
  {
   "cell_type": "code",
   "execution_count": 13,
   "id": "7c6736e5",
   "metadata": {},
   "outputs": [],
   "source": [
    "movies = pd.read_csv('4 movies.csv')\n",
    "unprepared_movies = pd.read_csv('4 movies.csv')\n",
    "country_codes = pd.read_csv('country_codes.csv')\n",
    "ratings = pd.read_csv('2 ratings.csv')"
   ]
  },
  {
   "cell_type": "code",
   "execution_count": 14,
   "id": "73479f07",
   "metadata": {},
   "outputs": [],
   "source": [
    "def get_numbers(str):\n",
    "    \"\"\"Return the integer numbers from a string in an array format.\"\"\"\n",
    "    arr = str.replace(',','').replace('{','').replace('}','').replace('[','').replace(']','').split()\n",
    "    arr = [int(s) for s in arr if s.isdigit()]\n",
    "    return arr\n",
    "\n",
    "def get_country_codes(str):\n",
    "    \"\"\"Return the codes of the countries from a string.\"\"\"\n",
    "    arr = str.replace(',','').replace('{','').replace('}','').replace('[','').replace(']','').replace(\"'\", \"\").split()\n",
    "    arr = [s for s in arr if country_codes['Code'].str.contains(s).any()]\n",
    "    return arr\n",
    "\n",
    "def prepare_dataframe(movies):\n",
    "    \n",
    "    # Conversion\n",
    "    movies['genres'] = movies['genres'].apply(lambda str: get_numbers(str))\n",
    "    movies['production_companies'] = movies['production_companies'].apply(lambda str: get_numbers(str))\n",
    "    movies['production_countries'] = movies['production_countries'].apply(lambda str: get_country_codes(str)) # This takes time\n",
    "    \n",
    "    # Get dummies\n",
    "    mlb = MultiLabelBinarizer()\n",
    "    genres = pd.DataFrame(mlb.fit_transform(movies['genres']), columns=mlb.classes)\n",
    "\n",
    "    mlb = MultiLabelBinarizer()\n",
    "    production_companies = pd.DataFrame(mlb.fit_transform(movies['production_companies']), columns=mlb.classes)\n",
    "\n",
    "    mlb = MultiLabelBinarizer()\n",
    "    production_countries = pd.DataFrame(mlb.fit_transform(movies['production_countries']), columns=mlb.classes)\n",
    "\n",
    "    original_language = pd.get_dummies(movies['original_language'])\n",
    "    \n",
    "    # Rename the columns to unique names\n",
    "    for i in range(genres.shape[1]):\n",
    "        genres.rename(mapper={i : str(i) + '. genre'}, axis=1, inplace=True)\n",
    "    \n",
    "    for i in range(production_countries.shape[1]):\n",
    "        production_countries.rename(mapper={i : str(i) + '. country'}, axis=1, inplace=True)\n",
    "    \n",
    "    movieids = movies['id']\n",
    "    movies = movies.drop(['id', 'title'], axis=1)\n",
    "    \n",
    "    # production_companies, original languages, production countries are not used, because of huge running time\n",
    "    numeric = movies.drop(['adult', 'genres', 'original_language', 'production_companies', 'production_countries'], axis=1)\n",
    "    categorical = movies[['adult']].join(genres)\n",
    "    \n",
    "    # Scale the numeric values to (0, 1) interval\n",
    "    scaler = MinMaxScaler()\n",
    "    numeric = scaler.fit_transform(numeric)\n",
    "    \n",
    "    movievectors = pd.DataFrame(numeric).join(categorical)\n",
    "    movievectors.index = movieids\n",
    "    \n",
    "    return movievectors\n",
    "\n",
    "def convert_title_to_index(x):\n",
    "    row = unprepared_movies2[unprepared_movies2['title'] == x]\n",
    "    return np.array(row['id'])[0]"
   ]
  },
  {
   "cell_type": "code",
   "execution_count": 15,
   "id": "90b09b5a",
   "metadata": {},
   "outputs": [],
   "source": [
    "movies = prepare_dataframe(movies)"
   ]
  },
  {
   "cell_type": "code",
   "execution_count": 16,
   "id": "14aaa44c",
   "metadata": {},
   "outputs": [],
   "source": [
    "kproto = pickle.load(open(\"kproto_4000.p\", \"rb\"))\n",
    "all_movies_clusters = pickle.load(open(\"clusters_kproto_4000.p\", \"rb\"))"
   ]
  },
  {
   "cell_type": "code",
   "execution_count": 17,
   "id": "76a675ce",
   "metadata": {},
   "outputs": [],
   "source": [
    "def recommend_movies(uid, unprepared_movies, movies, ratings, cluster_obj, clusters):\n",
    "    \"\"\"\n",
    "    Input:\n",
    "    uid - ID of the user\n",
    "    \n",
    "    Output:\n",
    "    potential_suggestions - The most popular 20 suggested movies\n",
    "    \n",
    "    Error codes:\n",
    "    -1 - This userID does not exist\n",
    "    -2 - There are no movies in the current form of movies database that was rated by the user\n",
    "    \"\"\"\n",
    "    \n",
    "    rated_movies = ratings[ratings['userId'] == uid].drop('userId', axis=1)\n",
    "\n",
    "    if rated_movies.shape[0] == 0:\n",
    "        return -1 # Invalid userId\n",
    "\n",
    "    best_match = find_best_matching_cluster(uid, movies, rated_movies, cluster_obj)\n",
    "    \n",
    "    if best_match == -2:\n",
    "        return -2 # There is no rated movie in movies database\n",
    "\n",
    "    # Select the movies in the best matching cluster\n",
    "    potential_suggestions = unprepared_movies[unprepared_movies['id'].isin(movies[clusters == best_match].index)]\n",
    "\n",
    "    # Delete previously watched (rated) movies\n",
    "    watched_index = potential_suggestions[potential_suggestions['id'].isin(rated_movies['movieId'])].index\n",
    "    potential_suggestions = potential_suggestions.drop(watched_index)\n",
    "\n",
    "    # First suggest the more popular movies\n",
    "    potential_suggestions = potential_suggestions.sort_values('popularity', ascending=False)\n",
    "\n",
    "    # Grab the first twenty\n",
    "    potential_suggestions = potential_suggestions['title'].head(20)\n",
    "    \n",
    "    return potential_suggestions\n",
    "\n",
    "def find_best_matching_cluster(uid, movies, rated_movies, cluster_obj):\n",
    "    # The clusters of movies that have been rated at least once\n",
    "    clusters = np.array([])\n",
    "    \n",
    "    # The indexes of movies that have not been found in movies database\n",
    "    # Which indicates error in data set\n",
    "    indexlist = np.array([])\n",
    "    \n",
    "    for index, row in rated_movies.iterrows():\n",
    "        try:\n",
    "            clusters = np.append(clusters, cluster_obj.predict(pd.DataFrame(movies.loc[int(row['movieId'])]).transpose(), categorical=[i for i in range(57,movies.shape[1])]))\n",
    "        except:\n",
    "            indexlist = np.append(indexlist, index)\n",
    "    \n",
    "    # Handle inconsistency in DB\n",
    "    rated_movies.drop(indexlist, inplace=True)\n",
    "\n",
    "    rated_movies['clusters'] = clusters\n",
    "\n",
    "    # Find the highest rated cluster\n",
    "    if rated_movies.shape[0] > 0:\n",
    "        best_match = rated_movies[['rating', 'clusters']].groupby('clusters').mean().idxmax()[0]\n",
    "    else:\n",
    "        return -2 # There is no rated movie in movies database\n",
    "    \n",
    "    return best_match"
   ]
  },
  {
   "cell_type": "code",
   "execution_count": 18,
   "id": "bff360ab",
   "metadata": {},
   "outputs": [],
   "source": [
    "# Train-test split\n",
    "ntestusers = 100\n",
    "testusers = np.random.choice(ratings['userId'].unique(), size=ntestusers)\n",
    "\n",
    "test = ratings[ratings['userId'].isin(testusers)]\n",
    "\n",
    "train = ratings[ratings['userId'].isin(testusers) == False]\n",
    "\n",
    "ratingspercent = 25 # Train ratings\n",
    "\n",
    "for i in test['userId'].unique():\n",
    "    df = test[test['userId'] == i]\n",
    "    \n",
    "    ntrainratings = int(np.round(df.shape[0] * ratingspercent / 100))\n",
    "    trainratings = np.random.choice(test[test['userId'] == i]['movieId'], size=ntrainratings)\n",
    "    \n",
    "    train = pd.concat((train, test[((test['userId'] == i) & (test['movieId'].isin(trainratings)))]))\n",
    "    test = test[((test['userId'] == i) & (test['movieId'].isin(trainratings))) == False]"
   ]
  },
  {
   "cell_type": "code",
   "execution_count": 19,
   "id": "7dfd13ba",
   "metadata": {},
   "outputs": [],
   "source": [
    "confmatrix = np.zeros((2,2))"
   ]
  },
  {
   "cell_type": "code",
   "execution_count": 20,
   "id": "c2d1d469",
   "metadata": {},
   "outputs": [
    {
     "data": {
      "text/plain": [
       "array([[0., 0.],\n",
       "       [0., 0.]])"
      ]
     },
     "execution_count": 20,
     "metadata": {},
     "output_type": "execute_result"
    }
   ],
   "source": [
    "confmatrix"
   ]
  },
  {
   "cell_type": "code",
   "execution_count": 21,
   "id": "2130948c",
   "metadata": {},
   "outputs": [],
   "source": [
    "for userid in test['userId'].unique():\n",
    "    if sum(train['userId'] == userid) < 10: # Less than 10 ratings in train\n",
    "        continue\n",
    "        \n",
    "    recommended = recommend_movies(userid, unprepared_movies, movies, train, kproto, all_movies_clusters)\n",
    "    \n",
    "    if type(recommended) == int:\n",
    "        continue\n",
    "        \n",
    "    for movieid in ratings['movieId'].unique():\n",
    "        if test[(test['userId'] == userid) & (test['movieId'] == movieid)].shape[0] == 0 or test[(test['userId'] == userid) & (test['movieId'] == movieid)].iloc[0]['rating'] < 2.5: # Actual no\n",
    "            if movieid in recommended.index: # Predicted yes\n",
    "                confmatrix[0,1] = confmatrix[0,1] + 1 # False positive\n",
    "            else: # Predicted no\n",
    "                confmatrix[0,0] = confmatrix[0,0] + 1 # True negative\n",
    "                \n",
    "        else: # Actual yes\n",
    "            if movieid in recommended.index: # Predicted yes\n",
    "                confmatrix[1,1] = confmatrix[1,1] + 1 # True positive\n",
    "            else: # Predicted no\n",
    "                confmatrix[1,0] = confmatrix[1,0] + 1 # False negative\n",
    "                "
   ]
  },
  {
   "cell_type": "code",
   "execution_count": 22,
   "id": "f5cc615d",
   "metadata": {},
   "outputs": [
    {
     "data": {
      "text/plain": [
       "array([[1.90717e+05, 7.30000e+01],\n",
       "       [2.30900e+03, 3.00000e+00]])"
      ]
     },
     "execution_count": 22,
     "metadata": {},
     "output_type": "execute_result"
    }
   ],
   "source": [
    "confmatrix"
   ]
  },
  {
   "cell_type": "code",
   "execution_count": 23,
   "id": "62b1e4f1",
   "metadata": {},
   "outputs": [
    {
     "data": {
      "text/plain": [
       "0.9876645503412704"
      ]
     },
     "execution_count": 23,
     "metadata": {},
     "output_type": "execute_result"
    }
   ],
   "source": [
    "# Accuracy\n",
    "( confmatrix[0,0] + confmatrix[1,1] ) / np.sum(confmatrix)"
   ]
  },
  {
   "cell_type": "code",
   "execution_count": 24,
   "id": "17f60b49",
   "metadata": {},
   "outputs": [
    {
     "data": {
      "text/plain": [
       "0.039473684210526314"
      ]
     },
     "execution_count": 24,
     "metadata": {},
     "output_type": "execute_result"
    }
   ],
   "source": [
    "# Precision\n",
    "confmatrix[1,1] / (confmatrix[0,1] + confmatrix[1,1])"
   ]
  },
  {
   "cell_type": "code",
   "execution_count": 25,
   "id": "a1fa2140",
   "metadata": {},
   "outputs": [
    {
     "data": {
      "text/plain": [
       "0.0012975778546712802"
      ]
     },
     "execution_count": 25,
     "metadata": {},
     "output_type": "execute_result"
    }
   ],
   "source": [
    "# Recall\n",
    "confmatrix[1,1] / (confmatrix[1,0] + confmatrix[1,1])"
   ]
  },
  {
   "cell_type": "markdown",
   "id": "c03fcb9f",
   "metadata": {},
   "source": [
    "# Bi-clustering recommendation"
   ]
  },
  {
   "cell_type": "code",
   "execution_count": 26,
   "id": "bdf0951e",
   "metadata": {},
   "outputs": [],
   "source": [
    "import pandas as pd\n",
    "import numpy as np\n",
    "import random\n",
    "import time\n",
    "\n",
    "from sklearn.preprocessing import MinMaxScaler\n",
    "from sklearn.cluster import Birch\n",
    "from sklearn.decomposition import PCA\n",
    "\n",
    "import pickle\n",
    "import seaborn as sns\n",
    "import matplotlib.pyplot as plt"
   ]
  },
  {
   "cell_type": "code",
   "execution_count": 27,
   "id": "e332e684",
   "metadata": {},
   "outputs": [],
   "source": [
    "ratings = pd.read_csv(\"4 ratings_bicluster2.csv\")\n",
    "movies = pd.read_csv(\"5 movies_bicluster.csv\", low_memory=False)\n",
    "nuserClusters = ratings.userCluster.nunique()\n",
    "nmovieClusters = ratings.movieCluster.nunique()"
   ]
  },
  {
   "cell_type": "code",
   "execution_count": 28,
   "id": "90f59da7",
   "metadata": {},
   "outputs": [],
   "source": [
    "def mutual_information(ratings, nmovieClusters, nuserClusters):\n",
    "    \n",
    "    # Joint distribution\n",
    "    relationMatrix = np.zeros((nmovieClusters,nuserClusters))\n",
    "    for i in range(nmovieClusters):\n",
    "        for j in range (nuserClusters):\n",
    "            relationMatrix[i,j] = ratings[(ratings['movieCluster'] == i) & \n",
    "                                      (ratings['userCluster'] == j)].shape[0] / ratings.shape[0]\n",
    "            \n",
    "    # Mutual information\n",
    "    M = 0\n",
    "    for i in range(nmovieClusters):\n",
    "        for j in range (nuserClusters):\n",
    "            M = M + relationMatrix[i,j] * np.log2(relationMatrix[i,j] / np.sum(relationMatrix, axis=0)[j] / np.sum(relationMatrix, axis=1)[i])\n",
    "                \n",
    "    return M"
   ]
  },
  {
   "cell_type": "code",
   "execution_count": 29,
   "id": "fc4c8bad",
   "metadata": {},
   "outputs": [],
   "source": [
    "def hill_climbing_mutual_information_score(ratings, nmovieClusters, nuserClusters, minutes):\n",
    "    \n",
    "    scores = []\n",
    "    localscore = mutual_information(ratings, nmovieClusters, nuserClusters)\n",
    "    scores.append(localscore)\n",
    "    random_factor = ratings['userId'].nunique() / (ratings['movieId'].nunique() + ratings['userId'].nunique())\n",
    "    start = time.time()\n",
    "    \n",
    "    #for nIterations in range(1):\n",
    "    while time.time() - start < minutes * 60: # time in seconds\n",
    "        if np.random.rand() > random_factor:\n",
    "            random_movie_id = random.choice(ratings.movieId.unique())\n",
    "            random_movie_cluster = np.random.randint(0, nmovieClusters)\n",
    "            ratings2 = ratings.copy(deep = True)\n",
    "            ratings2.loc[ratings2.movieId == random_movie_id, 'movieCluster'] = random_movie_cluster\n",
    "\n",
    "            neighborscore = mutual_information(ratings2, nmovieClusters, nuserClusters)    \n",
    "        else:\n",
    "            random_user_id = random.choice(ratings.userId.unique())\n",
    "            random_user_cluster = np.random.randint(0, nuserClusters)\n",
    "            ratings2 = ratings.copy(deep = True)\n",
    "            ratings2.loc[ratings2.userId == random_user_id, 'userCluster'] = random_user_cluster\n",
    "\n",
    "            neighborscore = mutual_information(ratings2, nmovieClusters, nuserClusters) \n",
    "        \n",
    "        scores.append(neighborscore)\n",
    "        \n",
    "        if neighborscore > localscore:\n",
    "            ratings = ratings2.copy(deep = True)\n",
    "            localscore = neighborscore\n",
    "            \n",
    "    return ratings, scores"
   ]
  },
  {
   "cell_type": "code",
   "execution_count": 30,
   "id": "59e3469d",
   "metadata": {},
   "outputs": [],
   "source": [
    "# Train-test split\n",
    "ntestusers = 100\n",
    "testusers = np.random.choice(ratings['userId'].unique(), size=ntestusers)\n",
    "\n",
    "test = ratings[ratings['userId'].isin(testusers)]\n",
    "\n",
    "train = ratings[ratings['userId'].isin(testusers) == False]\n",
    "\n",
    "ratingspercent = 25 # Train ratings\n",
    "\n",
    "for i in test['userId'].unique():\n",
    "    df = test[test['userId'] == i]\n",
    "    \n",
    "    ntrainratings = int(np.round(df.shape[0] * ratingspercent / 100))\n",
    "    trainratings = np.random.choice(test[test['userId'] == i]['movieId'], size=ntrainratings)\n",
    "    \n",
    "    train = pd.concat((train, test[((test['userId'] == i) & (test['movieId'].isin(trainratings)))]))\n",
    "    test = test[((test['userId'] == i) & (test['movieId'].isin(trainratings))) == False]"
   ]
  },
  {
   "cell_type": "code",
   "execution_count": 31,
   "id": "9753f086",
   "metadata": {},
   "outputs": [],
   "source": [
    "[train, scores] = hill_climbing_mutual_information_score(train, nmovieClusters, nuserClusters, minutes=15)"
   ]
  },
  {
   "cell_type": "code",
   "execution_count": 32,
   "id": "adfc80cc",
   "metadata": {},
   "outputs": [],
   "source": [
    "def bi_clustering_recommender(uid, ratings, movies):\n",
    "    \"\"\"\n",
    "    Input:\n",
    "    uid - ID of the user\n",
    "    ratings - DataFrame that contains the ratings in a special structure\n",
    "    movies - DataFrame that contains the movies in a special structure\n",
    "    \n",
    "    Output:\n",
    "    suggested_movies - The most popular 'k' suggested movies\n",
    "    \n",
    "    Error codes:\n",
    "    -1 - The user has no ratings\n",
    "    \"\"\"\n",
    "    \n",
    "    k = 20 # Number of suggested movies\n",
    "    \n",
    "    if sum(ratings['userId'] == uid) == 0:\n",
    "        return -1\n",
    "        \n",
    "    # Joint distribution\n",
    "    nmovieClusters = ratings['movieCluster'].nunique()\n",
    "    nuserClusters = ratings['userCluster'].nunique()\n",
    "    relationMatrix = np.zeros((nmovieClusters,nuserClusters))\n",
    "    \n",
    "    for i in range(nmovieClusters):\n",
    "        for j in range (nuserClusters):\n",
    "            relationMatrix[i,j] = ratings[(ratings['movieCluster'] == i) & \n",
    "                                      (ratings['userCluster'] == j)].shape[0] / ratings.shape[0]\n",
    "    \n",
    "    # Relation's of the given user's cluster\n",
    "    relations = relationMatrix[:, ratings[ratings['userId'] == uid]['userCluster'].iloc[0] ]\n",
    "    best_movie_cluster = np.argmax(relations)\n",
    "    \n",
    "    indexes_in_best_cluster = ratings[ratings['movieCluster'] == best_movie_cluster]['movieId'].unique()\n",
    "    watched_movies_indexes = ratings[ratings['userId'] == uid]['movieId']\n",
    "    \n",
    "    suggested_movies = movies[['id', 'popularity', 'title']]\n",
    "    suggested_movies = suggested_movies[suggested_movies['id'].isin(indexes_in_best_cluster)]\n",
    "    suggested_movies = suggested_movies[suggested_movies['id'].isin(watched_movies_indexes) == False]\n",
    "    suggested_movies = suggested_movies.sort_values('popularity', ascending=False)\n",
    "    \n",
    "    return suggested_movies.head(k)['title']"
   ]
  },
  {
   "cell_type": "code",
   "execution_count": 33,
   "id": "dfa10221",
   "metadata": {},
   "outputs": [],
   "source": [
    "confmatrix = np.zeros((2,2))"
   ]
  },
  {
   "cell_type": "code",
   "execution_count": 34,
   "id": "921ca049",
   "metadata": {},
   "outputs": [
    {
     "data": {
      "text/plain": [
       "array([[0., 0.],\n",
       "       [0., 0.]])"
      ]
     },
     "execution_count": 34,
     "metadata": {},
     "output_type": "execute_result"
    }
   ],
   "source": [
    "confmatrix"
   ]
  },
  {
   "cell_type": "code",
   "execution_count": 35,
   "id": "232e3a28",
   "metadata": {},
   "outputs": [],
   "source": [
    "for userid in test['userId'].unique():\n",
    "    if sum(train['userId'] == userid) < 10: # Less than 10 ratings in train\n",
    "        continue\n",
    "        \n",
    "    recommended = bi_clustering_recommender(userid, train, movies)\n",
    "    \n",
    "    if type(recommended) == int:\n",
    "        continue\n",
    "        \n",
    "    for movieid in ratings['movieId'].unique():\n",
    "        if test[(test['userId'] == userid) & (test['movieId'] == movieid)].shape[0] == 0 or test[(test['userId'] == userid) & (test['movieId'] == movieid)].iloc[0]['rating'] < 2.5: # Actual no\n",
    "            if movieid in recommended.index: # Predicted yes\n",
    "                confmatrix[0,1] = confmatrix[0,1] + 1 # False positive\n",
    "            else: # Predicted no\n",
    "                confmatrix[0,0] = confmatrix[0,0] + 1 # True negative\n",
    "                \n",
    "        else: # Actual yes\n",
    "            if movieid in recommended.index: # Predicted yes\n",
    "                confmatrix[1,1] = confmatrix[1,1] + 1 # True positive\n",
    "            else: # Predicted no\n",
    "                confmatrix[1,0] = confmatrix[1,0] + 1 # False negative\n",
    "                "
   ]
  },
  {
   "cell_type": "code",
   "execution_count": 36,
   "id": "9cbbc4cc",
   "metadata": {},
   "outputs": [
    {
     "data": {
      "text/plain": [
       "array([[1.53216e+05, 2.93000e+02],\n",
       "       [2.28200e+03, 1.30000e+01]])"
      ]
     },
     "execution_count": 36,
     "metadata": {},
     "output_type": "execute_result"
    }
   ],
   "source": [
    "confmatrix"
   ]
  },
  {
   "cell_type": "code",
   "execution_count": 37,
   "id": "27c5f662",
   "metadata": {},
   "outputs": [
    {
     "data": {
      "text/plain": [
       "0.9834728248311981"
      ]
     },
     "execution_count": 37,
     "metadata": {},
     "output_type": "execute_result"
    }
   ],
   "source": [
    "# Accuracy\n",
    "( confmatrix[0,0] + confmatrix[1,1] ) / np.sum(confmatrix)"
   ]
  },
  {
   "cell_type": "code",
   "execution_count": 38,
   "id": "4ef2d1b1",
   "metadata": {},
   "outputs": [
    {
     "data": {
      "text/plain": [
       "0.042483660130718956"
      ]
     },
     "execution_count": 38,
     "metadata": {},
     "output_type": "execute_result"
    }
   ],
   "source": [
    "# Precision\n",
    "confmatrix[1,1] / (confmatrix[0,1] + confmatrix[1,1])"
   ]
  },
  {
   "cell_type": "code",
   "execution_count": 39,
   "id": "7e20b8c6",
   "metadata": {
    "scrolled": true
   },
   "outputs": [
    {
     "data": {
      "text/plain": [
       "0.005664488017429194"
      ]
     },
     "execution_count": 39,
     "metadata": {},
     "output_type": "execute_result"
    }
   ],
   "source": [
    "# Recall\n",
    "confmatrix[1,1] / (confmatrix[1,0] + confmatrix[1,1])"
   ]
  },
  {
   "cell_type": "markdown",
   "id": "7ffc02ae",
   "metadata": {},
   "source": [
    "# Plots"
   ]
  },
  {
   "cell_type": "code",
   "execution_count": 59,
   "id": "cfeb39cf",
   "metadata": {},
   "outputs": [],
   "source": [
    "accuracy = pd.DataFrame()\n",
    "accuracy['Method'] = ('Naive recommendation (NNS)', 'Global recommendation', 'Bi-clustering recommendation')\n",
    "accuracy['Value'] = (0.9756162821994585, 0.9876645503412704, 0.9834728248311981)"
   ]
  },
  {
   "cell_type": "code",
   "execution_count": 60,
   "id": "676aee1f",
   "metadata": {},
   "outputs": [
    {
     "data": {
      "text/plain": [
       "<seaborn.axisgrid.FacetGrid at 0x1c40584c340>"
      ]
     },
     "execution_count": 60,
     "metadata": {},
     "output_type": "execute_result"
    },
    {
     "data": {
      "image/png": "[encoded data removed]",
      "text/plain": [
       "<Figure size 936x360 with 1 Axes>"
      ]
     },
     "metadata": {},
     "output_type": "display_data"
    }
   ],
   "source": [
    "sns.set_theme(style=\"white\")\n",
    "\n",
    "sns.catplot(data=accuracy, x='Method', y='Value', kind='bar', height=5, aspect=13/5)"
   ]
  },
  {
   "cell_type": "code",
   "execution_count": 61,
   "id": "2753b1bf",
   "metadata": {},
   "outputs": [],
   "source": [
    "precision = pd.DataFrame()\n",
    "precision['Method'] = ('Naive recommendation (NNS)', 'Global recommendation', 'Bi-clustering recommendation')\n",
    "precision['Value'] = (0.026903636067177564, 0.039473684210526314, 0.042483660130718956)"
   ]
  },
  {
   "cell_type": "code",
   "execution_count": 62,
   "id": "3b9417d4",
   "metadata": {},
   "outputs": [
    {
     "data": {
      "text/plain": [
       "<seaborn.axisgrid.FacetGrid at 0x1c4303dddc0>"
      ]
     },
     "execution_count": 62,
     "metadata": {},
     "output_type": "execute_result"
    },
    {
     "data": {
      "image/png": "[encoded data removed]",
      "text/plain": [
       "<Figure size 936x360 with 1 Axes>"
      ]
     },
     "metadata": {},
     "output_type": "display_data"
    }
   ],
   "source": [
    "sns.set_theme(style=\"white\")\n",
    "\n",
    "sns.catplot(data=precision, x='Method', y='Value', kind='bar', height=5, aspect=13/5)"
   ]
  },
  {
   "cell_type": "code",
   "execution_count": 63,
   "id": "bd435680",
   "metadata": {},
   "outputs": [],
   "source": [
    "recall = pd.DataFrame()\n",
    "recall['Method'] = ('Global recommendation', 'Bi-clustering recommendation')\n",
    "recall['Value'] = (0.0012975778546712802, 0.005664488017429194)"
   ]
  },
  {
   "cell_type": "code",
   "execution_count": 64,
   "id": "8f3cbea1",
   "metadata": {},
   "outputs": [
    {
     "data": {
      "text/plain": [
       "<seaborn.axisgrid.FacetGrid at 0x1c430585ac0>"
      ]
     },
     "execution_count": 64,
     "metadata": {},
     "output_type": "execute_result"
    },
    {
     "data": {
      "image/png": "[encoded data removed]",
      "text/plain": [
       "<Figure size 936x360 with 1 Axes>"
      ]
     },
     "metadata": {},
     "output_type": "display_data"
    }
   ],
   "source": [
    "sns.set_theme(style=\"white\")\n",
    "\n",
    "sns.catplot(data=recall, x='Method', y='Value', kind='bar', height=5, aspect=13/5)"
   ]
  },
  {
   "cell_type": "code",
   "execution_count": 69,
   "id": "75ef1a4c",
   "metadata": {},
   "outputs": [],
   "source": [
    "f1 = pd.DataFrame()\n",
    "f1['Method'] = ('Global recommendation', 'Bi-clustering recommendation')\n",
    "f1['Value'] = (2 * 0.039473684210526314 * 0.0012975778546712802 / (0.039473684210526314 + 0.0012975778546712802),\n",
    "               2 * 0.042483660130718956 * 0.005664488017429194 / (0.042483660130718956 + 0.005664488017429194) )"
   ]
  },
  {
   "cell_type": "code",
   "execution_count": 70,
   "id": "04ee0fd9",
   "metadata": {},
   "outputs": [
    {
     "data": {
      "text/plain": [
       "<seaborn.axisgrid.FacetGrid at 0x1c430e9eca0>"
      ]
     },
     "execution_count": 70,
     "metadata": {},
     "output_type": "execute_result"
    },
    {
     "data": {
      "image/png": "[encoded data removed]",
      "text/plain": [
       "<Figure size 936x360 with 1 Axes>"
      ]
     },
     "metadata": {},
     "output_type": "display_data"
    }
   ],
   "source": [
    "sns.set_theme(style=\"white\")\n",
    "\n",
    "sns.catplot(data=f1, x='Method', y='Value', kind='bar', height=5, aspect=13/5)"
   ]
  },
  {
   "cell_type": "code",
   "execution_count": null,
   "id": "f77c7823",
   "metadata": {},
   "outputs": [],
   "source": []
  }
 ],
 "metadata": {
  "kernelspec": {
   "display_name": "Python 3 (ipykernel)",
   "language": "python",
   "name": "python3"
  },
  "language_info": {
   "codemirror_mode": {
    "name": "ipython",
    "version": 3
   },
   "file_extension": ".py",
   "mimetype": "text/x-python",
   "name": "python",
   "nbconvert_exporter": "python",
   "pygments_lexer": "ipython3",
   "version": "3.9.7"
  }
 },
 "nbformat": 4,
 "nbformat_minor": 5
}
