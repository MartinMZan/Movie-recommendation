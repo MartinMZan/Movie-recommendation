{
 "cells": [
  {
   "cell_type": "code",
   "execution_count": 1,
   "id": "250fcb88",
   "metadata": {},
   "outputs": [],
   "source": [
    "import pandas as pd\n",
    "from sklearn.preprocessing import MultiLabelBinarizer\n",
    "from sklearn.preprocessing import MinMaxScaler\n",
    "\n",
    "from sklearn.cluster import KMeans\n",
    "\n",
    "import numpy as np\n",
    "\n",
    "import seaborn as sns\n",
    "import matplotlib.pyplot as plt"
   ]
  },
  {
   "cell_type": "code",
   "execution_count": 2,
   "id": "98db8cae",
   "metadata": {},
   "outputs": [],
   "source": [
    "movies = pd.read_csv('3b movies_GloVe.csv')\n",
    "country_codes = pd.read_csv('country_codes.csv')"
   ]
  },
  {
   "cell_type": "code",
   "execution_count": 3,
   "id": "2652cd89",
   "metadata": {},
   "outputs": [],
   "source": [
    "def get_numbers(str):\n",
    "    \"\"\"Return the integer numbers from a string in an array format.\"\"\"\n",
    "    arr = str.replace(',','').replace('{','').replace('}','').replace('[','').replace(']','').split()\n",
    "    arr = [int(s) for s in arr if s.isdigit()]\n",
    "    return arr\n",
    "\n",
    "def get_country_codes(str):\n",
    "    \"\"\"Return the codes of the countries from a string.\"\"\"\n",
    "    arr = str.replace(',','').replace('{','').replace('}','').replace('[','').replace(']','').replace(\"'\", \"\").split()\n",
    "    arr = [s for s in arr if country_codes['Code'].str.contains(s).any()]\n",
    "    return arr\n",
    "\n",
    "def prepare_dataframe(movies):\n",
    "    \n",
    "    movies = movies.drop(['id', 'title'], axis=1)\n",
    "    \n",
    "    # Categorical values are not used, because of the algorithm\n",
    "    numeric = movies.drop(['adult', 'genres', 'original_language', 'production_companies', 'production_countries'], axis=1)\n",
    "    \n",
    "    # Scale the numeric values to (0, 1) interval\n",
    "    scaler = MinMaxScaler()\n",
    "    numeric = scaler.fit_transform(numeric)\n",
    "    \n",
    "    movievectors = pd.DataFrame(numeric)\n",
    "    \n",
    "    return movievectors"
   ]
  },
  {
   "cell_type": "code",
   "execution_count": 4,
   "id": "4df65b56",
   "metadata": {},
   "outputs": [],
   "source": [
    "movies = prepare_dataframe(movies)"
   ]
  },
  {
   "cell_type": "markdown",
   "id": "5d0759f3",
   "metadata": {},
   "source": [
    "Calculate the cluster sizes and distances from cluster centroids:"
   ]
  },
  {
   "cell_type": "code",
   "execution_count": 5,
   "id": "e4f0dd3c",
   "metadata": {},
   "outputs": [
    {
     "data": {
      "text/plain": [
       "KMeans(n_clusters=35, random_state=98)"
      ]
     },
     "execution_count": 5,
     "metadata": {},
     "output_type": "execute_result"
    }
   ],
   "source": [
    "kmeans = KMeans(n_clusters=35, random_state=98)\n",
    "kmeans.fit(movies)"
   ]
  },
  {
   "cell_type": "code",
   "execution_count": 6,
   "id": "5da58c5f",
   "metadata": {},
   "outputs": [],
   "source": [
    "unique, counts = np.unique(kmeans.predict(movies), return_counts=True)"
   ]
  },
  {
   "cell_type": "code",
   "execution_count": 7,
   "id": "0ee434dc",
   "metadata": {},
   "outputs": [
    {
     "data": {
      "text/plain": [
       "Text(0, 0.5, 'Number of elements in each cluster')"
      ]
     },
     "execution_count": 7,
     "metadata": {},
     "output_type": "execute_result"
    },
    {
     "data": {
      "image/png": "[encoded data removed]",
      "text/plain": [
       "<Figure size 936x360 with 1 Axes>"
      ]
     },
     "metadata": {},
     "output_type": "display_data"
    }
   ],
   "source": [
    "df1 = pd.DataFrame(data=counts, columns=['Size'])\n",
    "sns.set_theme(style=\"white\")\n",
    "plt.figure(figsize=(13,5))\n",
    "\n",
    "p = sns.barplot(x = df1.index, y='Size', data=df1, color='skyblue')\n",
    "p.set_ylabel('Number of elements in each cluster')"
   ]
  },
  {
   "cell_type": "code",
   "execution_count": 8,
   "id": "42fc52f4",
   "metadata": {},
   "outputs": [],
   "source": [
    "# Distribution of distances from cluster center in cluster for specified cluster\n",
    "c = 0 # Cluster index\n",
    "distances_in = np.zeros(movies[kmeans.labels_ == c].shape[0])\n",
    "i = 0\n",
    "for index, movie in movies[kmeans.labels_ == c].iterrows():\n",
    "    distances_in[i] = np.linalg.norm(kmeans.cluster_centers_[c] - movie) # Euclidean distance\n",
    "    i = i + 1"
   ]
  },
  {
   "cell_type": "code",
   "execution_count": 9,
   "id": "038a22c8",
   "metadata": {},
   "outputs": [
    {
     "data": {
      "text/plain": [
       "Text(0, 0.5, '')"
      ]
     },
     "execution_count": 9,
     "metadata": {},
     "output_type": "execute_result"
    },
    {
     "data": {
      "image/png": "[encoded data removed]",
      "text/plain": [
       "<Figure size 936x360 with 1 Axes>"
      ]
     },
     "metadata": {},
     "output_type": "display_data"
    }
   ],
   "source": [
    "sns.set_theme(style=\"white\")\n",
    "plt.figure(figsize=(13,5))\n",
    "\n",
    "p = sns.histplot(distances_in, bins=50)\n",
    "p.set_ylabel('')"
   ]
  },
  {
   "cell_type": "code",
   "execution_count": 10,
   "id": "aecb1a7f",
   "metadata": {},
   "outputs": [],
   "source": [
    "# Distribution of distances from cluster center for all data\n",
    "c = 0 # Cluster index\n",
    "distances_out = np.zeros(movies.shape[0])\n",
    "i = 0\n",
    "for index, movie in movies.iterrows():\n",
    "    distances_out[i] = np.linalg.norm(kmeans.cluster_centers_[c] - movie) # Euclidean distance\n",
    "    i = i + 1"
   ]
  },
  {
   "cell_type": "code",
   "execution_count": 11,
   "id": "c849843e",
   "metadata": {},
   "outputs": [
    {
     "data": {
      "text/plain": [
       "Text(0, 0.5, '')"
      ]
     },
     "execution_count": 11,
     "metadata": {},
     "output_type": "execute_result"
    },
    {
     "data": {
      "image/png": "[encoded data removed]",
      "text/plain": [
       "<Figure size 936x360 with 1 Axes>"
      ]
     },
     "metadata": {},
     "output_type": "display_data"
    }
   ],
   "source": [
    "sns.set_theme(style=\"white\")\n",
    "plt.figure(figsize=(13,5))\n",
    "\n",
    "p = sns.histplot(distances_out, bins=50)\n",
    "p.set_ylabel('')"
   ]
  },
  {
   "cell_type": "code",
   "execution_count": 45,
   "id": "24ee0ea3",
   "metadata": {},
   "outputs": [
    {
     "data": {
      "text/plain": [
       "<matplotlib.legend.Legend at 0x28659e6a1c0>"
      ]
     },
     "execution_count": 45,
     "metadata": {},
     "output_type": "execute_result"
    },
    {
     "data": {
      "image/png": "[encoded data removed]",
      "text/plain": [
       "<Figure size 936x360 with 1 Axes>"
      ]
     },
     "metadata": {},
     "output_type": "display_data"
    }
   ],
   "source": [
    "# The previous two plots combined\n",
    "sns.set_theme(style=\"white\")\n",
    "plt.figure(figsize=(13,5))\n",
    "\n",
    "sns.histplot(distances_in, stat='percent', bins=50, label='In cluster', color='skyblue')\n",
    "sns.histplot(distances_out, stat='percent', bins=50, label='All data', color='lightcoral', alpha=0.5)\n",
    "plt.legend()"
   ]
  },
  {
   "cell_type": "code",
   "execution_count": null,
   "id": "933d60a3",
   "metadata": {},
   "outputs": [],
   "source": []
  }
 ],
 "metadata": {
  "kernelspec": {
   "display_name": "Python 3 (ipykernel)",
   "language": "python",
   "name": "python3"
  },
  "language_info": {
   "codemirror_mode": {
    "name": "ipython",
    "version": 3
   },
   "file_extension": ".py",
   "mimetype": "text/x-python",
   "name": "python",
   "nbconvert_exporter": "python",
   "pygments_lexer": "ipython3",
   "version": "3.9.7"
  }
 },
 "nbformat": 4,
 "nbformat_minor": 5
}
