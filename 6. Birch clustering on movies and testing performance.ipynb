{
 "cells": [
  {
   "cell_type": "code",
   "execution_count": 1,
   "id": "250fcb88",
   "metadata": {},
   "outputs": [],
   "source": [
    "import pandas as pd\n",
    "from sklearn.preprocessing import MultiLabelBinarizer\n",
    "from sklearn.preprocessing import MinMaxScaler\n",
    "\n",
    "from sklearn.cluster import Birch\n",
    "from sklearn.metrics import silhouette_score\n",
    "\n",
    "import numpy as np\n",
    "import random\n",
    "\n",
    "import seaborn as sns\n",
    "import matplotlib.pyplot as plt\n",
    "import time\n",
    "\n",
    "import warnings\n",
    "warnings.filterwarnings(\"error\")\n",
    "\n",
    "from multiprocessing import Pool"
   ]
  },
  {
   "cell_type": "code",
   "execution_count": 2,
   "id": "98db8cae",
   "metadata": {},
   "outputs": [],
   "source": [
    "movies_TFIDF = pd.read_csv('3a movies_TFIDF.csv')\n",
    "movies_embedded = pd.read_csv('3b movies_Embedded.csv')\n",
    "country_codes = pd.read_csv('country_codes.csv')"
   ]
  },
  {
   "cell_type": "code",
   "execution_count": 3,
   "id": "363c45b8",
   "metadata": {},
   "outputs": [],
   "source": [
    "## Drop the remaining NaN values\n",
    "# movies_TFIDF.dropna(inplace = True)\n",
    "# movies_TFIDF.to_csv('3a movies_TFIDF.csv', index=False)\n",
    "# movies_embedded.dropna(inplace = True)\n",
    "# movies_embedded.to_csv('3b movies_Embedded.csv', index=False)"
   ]
  },
  {
   "cell_type": "code",
   "execution_count": 4,
   "id": "2652cd89",
   "metadata": {},
   "outputs": [],
   "source": [
    "def get_numbers(str):\n",
    "    \"\"\"Return the integer numbers from a string in an array format.\"\"\"\n",
    "    arr = str.replace(',','').replace('{','').replace('}','').replace('[','').replace(']','').split()\n",
    "    arr = [int(s) for s in arr if s.isdigit()]\n",
    "    return arr\n",
    "\n",
    "def get_country_codes(str):\n",
    "    \"\"\"Return the codes of the countries from a string.\"\"\"\n",
    "    arr = str.replace(',','').replace('{','').replace('}','').replace('[','').replace(']','').replace(\"'\", \"\").split()\n",
    "    arr = [s for s in arr if country_codes['Code'].str.contains(s).any()]\n",
    "    return arr\n",
    "\n",
    "def prepare_dataframe(movies):\n",
    "    \n",
    "    movies = movies.drop(['id', 'title'], axis=1)\n",
    "    \n",
    "    # Categorical values are not used, because of the algorithm\n",
    "    numeric = movies.drop(['adult', 'genres', 'original_language', 'production_companies', 'production_countries'], axis=1)\n",
    "    \n",
    "    # Scale the numeric values to (0, 1) interval\n",
    "    scaler = MinMaxScaler()\n",
    "    numeric = scaler.fit_transform(numeric)\n",
    "    \n",
    "    movievectors = pd.DataFrame(numeric)\n",
    "    \n",
    "    return movievectors\n",
    "\n",
    "def birch_optim(thres, branch):\n",
    "    try:\n",
    "    \n",
    "        # Determining score\n",
    "\n",
    "        birch_TFIDF = Birch(threshold=thres, branching_factor=branch, n_clusters=35)\n",
    "        birch_TFIDF.fit(movies_TFIDF)\n",
    "\n",
    "        end = time.time()\n",
    "\n",
    "        tfscore = silhouette_score(movies_TFIDF, birch_TFIDF.predict(movies_TFIDF))\n",
    "\n",
    "        return tfscore\n",
    "\n",
    "    except:\n",
    "        # Error\n",
    "        return -2"
   ]
  },
  {
   "cell_type": "code",
   "execution_count": 5,
   "id": "4df65b56",
   "metadata": {},
   "outputs": [],
   "source": [
    "movies_TFIDF = prepare_dataframe(movies_TFIDF)\n",
    "movies_embedded = prepare_dataframe(movies_embedded)"
   ]
  },
  {
   "cell_type": "markdown",
   "id": "5d0759f3",
   "metadata": {},
   "source": [
    "Use silhouette score for test purposes:"
   ]
  },
  {
   "cell_type": "code",
   "execution_count": 5,
   "id": "da04f539",
   "metadata": {
    "scrolled": true
   },
   "outputs": [],
   "source": [
    "# 1. test: TF-IDF vs Embedded Layers and measure runtime\n",
    "thres = 0.25\n",
    "df1 = pd.DataFrame(columns=['TF-IDF', 'TF-IDF runtime',\n",
    "                                   'Embedded Layers', 'Embedded Layers runtime'])\n",
    "\n",
    "# Birch\n",
    "start1 = time.time()\n",
    "birch_TFIDF = Birch(threshold=thres)\n",
    "birch_TFIDF.fit(movies_TFIDF)\n",
    "end1 = time.time()\n",
    "    \n",
    "start2 = time.time()\n",
    "birch_embedded = Birch(threshold=thres)\n",
    "birch_embedded.fit(movies_embedded)\n",
    "end2 = time.time()\n",
    "    \n",
    "tfscore = silhouette_score(movies_TFIDF, birch_TFIDF.predict(movies_TFIDF))\n",
    "elapsed1 = end1-start1\n",
    "    \n",
    "emscore = silhouette_score(movies_embedded, birch_embedded.predict(movies_embedded))\n",
    "elapsed2 = end2-start2\n",
    "    \n",
    "scores = pd.DataFrame([[tfscore, elapsed1, emscore, elapsed2]],\n",
    "                          columns=['TF-IDF', 'TF-IDF runtime',\n",
    "                                   'Embedded Layers', 'Embedded Layers runtime'])\n",
    "df1 = pd.concat([df1, scores], axis=0)"
   ]
  },
  {
   "cell_type": "code",
   "execution_count": 6,
   "id": "7b9ff130",
   "metadata": {},
   "outputs": [],
   "source": [
    "df1 = df1.reset_index().drop('index', axis=1)"
   ]
  },
  {
   "cell_type": "code",
   "execution_count": 7,
   "id": "5da58c5f",
   "metadata": {},
   "outputs": [
    {
     "data": {
      "text/html": [
       "<div>\n",
       "<style scoped>\n",
       "    .dataframe tbody tr th:only-of-type {\n",
       "        vertical-align: middle;\n",
       "    }\n",
       "\n",
       "    .dataframe tbody tr th {\n",
       "        vertical-align: top;\n",
       "    }\n",
       "\n",
       "    .dataframe thead th {\n",
       "        text-align: right;\n",
       "    }\n",
       "</style>\n",
       "<table border=\"1\" class=\"dataframe\">\n",
       "  <thead>\n",
       "    <tr style=\"text-align: right;\">\n",
       "      <th></th>\n",
       "      <th>TF-IDF</th>\n",
       "      <th>TF-IDF runtime</th>\n",
       "      <th>Embedded Layers</th>\n",
       "      <th>Embedded Layers runtime</th>\n",
       "    </tr>\n",
       "  </thead>\n",
       "  <tbody>\n",
       "    <tr>\n",
       "      <th>0</th>\n",
       "      <td>0.314061</td>\n",
       "      <td>4.465124</td>\n",
       "      <td>0.054603</td>\n",
       "      <td>75.022683</td>\n",
       "    </tr>\n",
       "  </tbody>\n",
       "</table>\n",
       "</div>"
      ],
      "text/plain": [
       "     TF-IDF  TF-IDF runtime  Embedded Layers  Embedded Layers runtime\n",
       "0  0.314061        4.465124         0.054603                75.022683"
      ]
     },
     "execution_count": 7,
     "metadata": {},
     "output_type": "execute_result"
    }
   ],
   "source": [
    "df1"
   ]
  },
  {
   "cell_type": "code",
   "execution_count": 7,
   "id": "e1bf15f1",
   "metadata": {},
   "outputs": [
    {
     "name": "stdout",
     "output_type": "stream",
     "text": [
      "Run: 0, Iteration: 0, Silhouette Score: 0.0243, Threshold: 0.20, Branching factor: 171, Elapsed time: 162,\n",
      "Run: 0, Iteration: 1, Silhouette Score: 0.1138, Threshold: 0.25, Branching factor: 171, Elapsed time: 294,\n",
      "Run: 0, Iteration: 2, Silhouette Score: 0.1205, Threshold: 0.30, Branching factor: 171, Elapsed time: 412,\n",
      "Run: 0, Iteration: 3, Silhouette Score: 0.1351, Threshold: 0.35, Branching factor: 171, Elapsed time: 534,\n",
      "Run: 0, Iteration: 4, Silhouette Score: 0.2021, Threshold: 0.40, Branching factor: 171, Elapsed time: 626,\n",
      "\n",
      "Run: 1, Iteration: 0, Silhouette Score: 0.0780, Threshold: 0.20, Branching factor: 289, Elapsed time: 778,\n",
      "Run: 1, Iteration: 1, Silhouette Score: 0.1034, Threshold: 0.20, Branching factor: 297, Elapsed time: 928,\n",
      "Run: 1, Iteration: 2, Silhouette Score: 0.1248, Threshold: 0.25, Branching factor: 297, Elapsed time: 1051,\n",
      "Run: 1, Iteration: 3, Silhouette Score: 0.1251, Threshold: 0.30, Branching factor: 297, Elapsed time: 1162,\n",
      "Run: 1, Iteration: 4, Silhouette Score: 0.1574, Threshold: 0.35, Branching factor: 297, Elapsed time: 1271,\n",
      "Run: 1, Iteration: 5, Silhouette Score: 0.2021, Threshold: 0.40, Branching factor: 297, Elapsed time: 1359,\n",
      "\n",
      "Run: 2, Iteration: 0, Silhouette Score: 0.1493, Threshold: 0.35, Branching factor: 432, Elapsed time: 1467,\n",
      "Run: 2, Iteration: 1, Silhouette Score: 0.2021, Threshold: 0.40, Branching factor: 432, Elapsed time: 1555,\n",
      "\n",
      "Run: 3, Iteration: 0, Silhouette Score: -2.0000, Threshold: 0.45, Branching factor: 255, Elapsed time: 1580,\n",
      "Run: 3, Iteration: 1, Silhouette Score: 0.2021, Threshold: 0.40, Branching factor: 255, Elapsed time: 1667,\n",
      "\n",
      "Run: 4, Iteration: 0, Silhouette Score: 0.1181, Threshold: 0.30, Branching factor: 357, Elapsed time: 1779,\n",
      "Run: 4, Iteration: 1, Silhouette Score: 0.1526, Threshold: 0.35, Branching factor: 357, Elapsed time: 1893,\n",
      "Run: 4, Iteration: 2, Silhouette Score: 0.2021, Threshold: 0.40, Branching factor: 357, Elapsed time: 1992,\n",
      "\n"
     ]
    }
   ],
   "source": [
    "# 2. test: Optimizing birch clustering parameters with hill-climbing method from different starting points\n",
    "\n",
    "# Initialize variables\n",
    "silscore = np.zeros(5)\n",
    "e = 0.05 # epsilon\n",
    "branchlistlength = 60\n",
    "branchlist = np.linspace(2, 500, branchlistlength).round().astype(int)\n",
    "\n",
    "start = time.time()\n",
    "\n",
    "for run in range(5):\n",
    "    iter = -1\n",
    "    # Random point\n",
    "    thres = random.randint(2, 10)/20 # 0.1, 0.15, 0.20 ... 0.45, 0.5\n",
    "    branch = random.choice(branchlist)\n",
    "\n",
    "    while True:\n",
    "        iter = iter + 1\n",
    "\n",
    "        # Determining score\n",
    "        silscore[0] = birch_optim(thres, branch)\n",
    "\n",
    "        # Determining neighbours and their scores\n",
    "        if np.where(branchlist==branch)[0][0]+1 < branchlistlength:\n",
    "            silscore[1] = birch_optim(thres, branchlist[np.where(branchlist==branch)[0][0]+1])\n",
    "        else:\n",
    "            silscore[1] = -2\n",
    "\n",
    "        silscore[2] = birch_optim(thres+e, branch)\n",
    "\n",
    "        if np.where(branchlist==branch)[0][0]-1 >= 0: # 0 index is the first element\n",
    "            silscore[3] = birch_optim(thres, branchlist[np.where(branchlist==branch)[0][0]-1])\n",
    "        else:\n",
    "            silscore[3] = -2\n",
    "\n",
    "        if thres-e >= 0.05:\n",
    "            silscore[4] = birch_optim(thres-e, branch)\n",
    "        else:\n",
    "            silscore[4] = -2\n",
    "\n",
    "        print('Run: {}, Iteration: {}, Silhouette Score: {:0.4f}, Threshold: {:0.2f}, Branching factor: {}, Elapsed time: {:0.0f},'\n",
    "          .format(run, iter, silscore[0], thres, branch, time.time()-start))\n",
    "\n",
    "        if silscore.max() == -2: # Error\n",
    "            thres = thres-e\n",
    "            continue\n",
    "\n",
    "        maxindex = np.argmax(silscore)\n",
    "        if maxindex == 0:\n",
    "            break\n",
    "        if maxindex == 1:\n",
    "            branch = branchlist[np.where(branchlist==branch)[0][0]+1]\n",
    "        elif maxindex == 2:\n",
    "            thres = thres+e\n",
    "        elif maxindex == 3:\n",
    "            branch = branchlist[np.where(branchlist==branch)[0][0]-1]\n",
    "        elif maxindex == 4:\n",
    "            thres = thres-e\n",
    "            \n",
    "    print()"
   ]
  },
  {
   "cell_type": "code",
   "execution_count": null,
   "id": "09e9973f",
   "metadata": {},
   "outputs": [],
   "source": []
  }
 ],
 "metadata": {
  "kernelspec": {
   "display_name": "Python 3 (ipykernel)",
   "language": "python",
   "name": "python3"
  },
  "language_info": {
   "codemirror_mode": {
    "name": "ipython",
    "version": 3
   },
   "file_extension": ".py",
   "mimetype": "text/x-python",
   "name": "python",
   "nbconvert_exporter": "python",
   "pygments_lexer": "ipython3",
   "version": "3.9.7"
  }
 },
 "nbformat": 4,
 "nbformat_minor": 5
}
