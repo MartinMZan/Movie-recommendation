{
 "cells": [
  {
   "cell_type": "code",
   "execution_count": 1,
   "id": "250fcb88",
   "metadata": {},
   "outputs": [],
   "source": [
    "import pandas as pd\n",
    "from sklearn.preprocessing import MultiLabelBinarizer\n",
    "from sklearn.preprocessing import MinMaxScaler\n",
    "\n",
    "from sklearn.cluster import Birch\n",
    "from sklearn.metrics import silhouette_score\n",
    "\n",
    "import numpy as np\n",
    "import random\n",
    "\n",
    "import seaborn as sns\n",
    "import matplotlib.pyplot as plt\n",
    "import time\n",
    "\n",
    "import warnings\n",
    "warnings.filterwarnings(\"error\")"
   ]
  },
  {
   "cell_type": "code",
   "execution_count": 2,
   "id": "98db8cae",
   "metadata": {},
   "outputs": [],
   "source": [
    "movies_TFIDF = pd.read_csv('3a movies_TFIDF.csv')\n",
    "movies_GloVe = pd.read_csv('3b movies_GloVe.csv')\n",
    "country_codes = pd.read_csv('country_codes.csv')"
   ]
  },
  {
   "cell_type": "code",
   "execution_count": 3,
   "id": "2652cd89",
   "metadata": {},
   "outputs": [],
   "source": [
    "def get_numbers(str):\n",
    "    \"\"\"Return the integer numbers from a string in an array format.\"\"\"\n",
    "    arr = str.replace(',','').replace('{','').replace('}','').replace('[','').replace(']','').split()\n",
    "    arr = [int(s) for s in arr if s.isdigit()]\n",
    "    return arr\n",
    "\n",
    "def get_country_codes(str):\n",
    "    \"\"\"Return the codes of the countries from a string.\"\"\"\n",
    "    arr = str.replace(',','').replace('{','').replace('}','').replace('[','').replace(']','').replace(\"'\", \"\").split()\n",
    "    arr = [s for s in arr if country_codes['Code'].str.contains(s).any()]\n",
    "    return arr\n",
    "\n",
    "def prepare_dataframe(movies):\n",
    "    \n",
    "    movies = movies.drop(['id', 'title'], axis=1)\n",
    "    \n",
    "    # Categorical values are not used, because of the algorithm\n",
    "    numeric = movies.drop(['adult', 'genres', 'original_language', 'production_companies', 'production_countries'], axis=1)\n",
    "    \n",
    "    # Scale the numeric values to (0, 1) interval\n",
    "    scaler = MinMaxScaler()\n",
    "    numeric = scaler.fit_transform(numeric)\n",
    "    \n",
    "    movievectors = pd.DataFrame(numeric)\n",
    "    \n",
    "    return movievectors\n",
    "\n",
    "def birch_optim(thres, branch):\n",
    "    try:\n",
    "    \n",
    "        # Determining score\n",
    "\n",
    "        birch_TFIDF = Birch(threshold=thres, branching_factor=branch, n_clusters=35)\n",
    "        birch_TFIDF.fit(movies_TFIDF)\n",
    "\n",
    "        end = time.time()\n",
    "\n",
    "        tfscore = silhouette_score(movies_TFIDF, birch_TFIDF.predict(movies_TFIDF))\n",
    "\n",
    "        return tfscore\n",
    "\n",
    "    except:\n",
    "        # Error\n",
    "        return -2"
   ]
  },
  {
   "cell_type": "code",
   "execution_count": 4,
   "id": "4df65b56",
   "metadata": {},
   "outputs": [],
   "source": [
    "movies_TFIDF = prepare_dataframe(movies_TFIDF)\n",
    "movies_GloVe = prepare_dataframe(movies_GloVe)"
   ]
  },
  {
   "cell_type": "markdown",
   "id": "5d0759f3",
   "metadata": {},
   "source": [
    "Use silhouette score for test purposes:"
   ]
  },
  {
   "cell_type": "code",
   "execution_count": 5,
   "id": "da04f539",
   "metadata": {
    "scrolled": true
   },
   "outputs": [],
   "source": [
    "# 1. test: TF-IDF vs GloVe model and measure runtime\n",
    "thres = 0.25\n",
    "df1 = pd.DataFrame(columns=['TF-IDF', 'TF-IDF runtime',\n",
    "                                   'GloVe model', 'GloVe model runtime'])\n",
    "\n",
    "# Birch\n",
    "start1 = time.time()\n",
    "birch_TFIDF = Birch(threshold=thres)\n",
    "birch_TFIDF.fit(movies_TFIDF)\n",
    "end1 = time.time()\n",
    "    \n",
    "start2 = time.time()\n",
    "birch_GloVe = Birch(threshold=thres)\n",
    "birch_GloVe.fit(movies_GloVe)\n",
    "end2 = time.time()\n",
    "    \n",
    "tfscore = silhouette_score(movies_TFIDF, birch_TFIDF.predict(movies_TFIDF))\n",
    "elapsed1 = end1-start1\n",
    "    \n",
    "emscore = silhouette_score(movies_GloVe, birch_GloVe.predict(movies_GloVe))\n",
    "elapsed2 = end2-start2\n",
    "    \n",
    "scores = pd.DataFrame([[tfscore, elapsed1, emscore, elapsed2]],\n",
    "                          columns=['TF-IDF', 'TF-IDF runtime',\n",
    "                                   'GloVe model', 'GloVe model runtime'])\n",
    "df1 = pd.concat([df1, scores], axis=0)"
   ]
  },
  {
   "cell_type": "code",
   "execution_count": 6,
   "id": "7b9ff130",
   "metadata": {},
   "outputs": [],
   "source": [
    "df1 = df1.reset_index().drop('index', axis=1)"
   ]
  },
  {
   "cell_type": "code",
   "execution_count": 7,
   "id": "5da58c5f",
   "metadata": {},
   "outputs": [
    {
     "data": {
      "text/html": [
       "<div>\n",
       "<style scoped>\n",
       "    .dataframe tbody tr th:only-of-type {\n",
       "        vertical-align: middle;\n",
       "    }\n",
       "\n",
       "    .dataframe tbody tr th {\n",
       "        vertical-align: top;\n",
       "    }\n",
       "\n",
       "    .dataframe thead th {\n",
       "        text-align: right;\n",
       "    }\n",
       "</style>\n",
       "<table border=\"1\" class=\"dataframe\">\n",
       "  <thead>\n",
       "    <tr style=\"text-align: right;\">\n",
       "      <th></th>\n",
       "      <th>TF-IDF</th>\n",
       "      <th>TF-IDF runtime</th>\n",
       "      <th>GloVe model</th>\n",
       "      <th>GloVe model runtime</th>\n",
       "    </tr>\n",
       "  </thead>\n",
       "  <tbody>\n",
       "    <tr>\n",
       "      <th>0</th>\n",
       "      <td>0.050342</td>\n",
       "      <td>31.879574</td>\n",
       "      <td>0.124822</td>\n",
       "      <td>16.912234</td>\n",
       "    </tr>\n",
       "  </tbody>\n",
       "</table>\n",
       "</div>"
      ],
      "text/plain": [
       "     TF-IDF  TF-IDF runtime  GloVe model  GloVe model runtime\n",
       "0  0.050342       31.879574     0.124822            16.912234"
      ]
     },
     "execution_count": 7,
     "metadata": {},
     "output_type": "execute_result"
    }
   ],
   "source": [
    "df1"
   ]
  },
  {
   "cell_type": "code",
   "execution_count": 8,
   "id": "e1bf15f1",
   "metadata": {},
   "outputs": [
    {
     "name": "stdout",
     "output_type": "stream",
     "text": [
      "Run: 0, Iteration: 0, Silhouette Score: 0.0288, Threshold: 0.25, Branching factor: 103, Elapsed time: 308,\n",
      "Run: 0, Iteration: 1, Silhouette Score: 0.0320, Threshold: 0.20, Branching factor: 103, Elapsed time: 760,\n",
      "Run: 0, Iteration: 2, Silhouette Score: 0.0340, Threshold: 0.15, Branching factor: 103, Elapsed time: 1370,\n",
      "\n",
      "Run: 1, Iteration: 0, Silhouette Score: 0.0386, Threshold: 0.40, Branching factor: 154, Elapsed time: 1498,\n",
      "Run: 1, Iteration: 1, Silhouette Score: 0.0586, Threshold: 0.45, Branching factor: 154, Elapsed time: 1615,\n",
      "Run: 1, Iteration: 2, Silhouette Score: 0.0754, Threshold: 0.50, Branching factor: 154, Elapsed time: 1707,\n",
      "\n",
      "Run: 2, Iteration: 0, Silhouette Score: 0.0480, Threshold: 0.35, Branching factor: 399, Elapsed time: 1854,\n",
      "\n",
      "Run: 3, Iteration: 0, Silhouette Score: 0.0489, Threshold: 0.35, Branching factor: 466, Elapsed time: 2002,\n",
      "\n",
      "Run: 4, Iteration: 0, Silhouette Score: 0.0370, Threshold: 0.40, Branching factor: 500, Elapsed time: 2104,\n",
      "Run: 4, Iteration: 1, Silhouette Score: 0.0484, Threshold: 0.45, Branching factor: 500, Elapsed time: 2197,\n",
      "Run: 4, Iteration: 2, Silhouette Score: 0.0825, Threshold: 0.50, Branching factor: 500, Elapsed time: 2267,\n",
      "\n"
     ]
    }
   ],
   "source": [
    "# 2. test: Optimizing birch clustering parameters with hill-climbing method from different starting points\n",
    "\n",
    "# Initialize variables\n",
    "silscore = np.zeros(5)\n",
    "e = 0.05 # epsilon\n",
    "branchlistlength = 60\n",
    "branchlist = np.linspace(2, 500, branchlistlength).round().astype(int)\n",
    "\n",
    "start = time.time()\n",
    "\n",
    "for run in range(5):\n",
    "    iter = -1\n",
    "    # Random point\n",
    "    thres = random.randint(2, 10)/20 # 0.1, 0.15, 0.20 ... 0.45, 0.5\n",
    "    branch = random.choice(branchlist)\n",
    "\n",
    "    while True:\n",
    "        iter = iter + 1\n",
    "\n",
    "        # Determining score\n",
    "        silscore[0] = birch_optim(thres, branch)\n",
    "\n",
    "        # Determining neighbours and their scores\n",
    "        if np.where(branchlist==branch)[0][0]+1 < branchlistlength:\n",
    "            silscore[1] = birch_optim(thres, branchlist[np.where(branchlist==branch)[0][0]+1])\n",
    "        else:\n",
    "            silscore[1] = -2\n",
    "\n",
    "        silscore[2] = birch_optim(thres+e, branch)\n",
    "\n",
    "        if np.where(branchlist==branch)[0][0]-1 >= 0: # 0 index is the first element\n",
    "            silscore[3] = birch_optim(thres, branchlist[np.where(branchlist==branch)[0][0]-1])\n",
    "        else:\n",
    "            silscore[3] = -2\n",
    "\n",
    "        if thres-e >= 0.05:\n",
    "            silscore[4] = birch_optim(thres-e, branch)\n",
    "        else:\n",
    "            silscore[4] = -2\n",
    "\n",
    "        print('Run: {}, Iteration: {}, Silhouette Score: {:0.4f}, Threshold: {:0.2f}, Branching factor: {}, Elapsed time: {:0.0f},'\n",
    "          .format(run, iter, silscore[0], thres, branch, time.time()-start))\n",
    "\n",
    "        if silscore.max() == -2: # Error\n",
    "            thres = thres-e\n",
    "            continue\n",
    "\n",
    "        maxindex = np.argmax(silscore)\n",
    "        if maxindex == 0:\n",
    "            break\n",
    "        if maxindex == 1:\n",
    "            branch = branchlist[np.where(branchlist==branch)[0][0]+1]\n",
    "        elif maxindex == 2:\n",
    "            thres = thres+e\n",
    "        elif maxindex == 3:\n",
    "            branch = branchlist[np.where(branchlist==branch)[0][0]-1]\n",
    "        elif maxindex == 4:\n",
    "            thres = thres-e\n",
    "            \n",
    "    print()"
   ]
  },
  {
   "cell_type": "code",
   "execution_count": null,
   "id": "09e9973f",
   "metadata": {},
   "outputs": [],
   "source": []
  }
 ],
 "metadata": {
  "kernelspec": {
   "display_name": "Python 3 (ipykernel)",
   "language": "python",
   "name": "python3"
  },
  "language_info": {
   "codemirror_mode": {
    "name": "ipython",
    "version": 3
   },
   "file_extension": ".py",
   "mimetype": "text/x-python",
   "name": "python",
   "nbconvert_exporter": "python",
   "pygments_lexer": "ipython3",
   "version": "3.9.7"
  }
 },
 "nbformat": 4,
 "nbformat_minor": 5
}
