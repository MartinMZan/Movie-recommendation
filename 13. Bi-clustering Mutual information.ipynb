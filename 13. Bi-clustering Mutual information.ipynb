{
 "cells": [
  {
   "cell_type": "code",
   "execution_count": 1,
   "id": "3cc46c4e",
   "metadata": {},
   "outputs": [],
   "source": [
    "import pandas as pd\n",
    "import numpy as np\n",
    "import random\n",
    "import time\n",
    "\n",
    "from sklearn.preprocessing import MinMaxScaler\n",
    "from sklearn.cluster import Birch\n",
    "from sklearn.decomposition import PCA\n",
    "\n",
    "import pickle\n",
    "import seaborn as sns\n",
    "import matplotlib.pyplot as plt"
   ]
  },
  {
   "cell_type": "code",
   "execution_count": 2,
   "id": "dc328394",
   "metadata": {},
   "outputs": [],
   "source": [
    "ratings = pd.read_csv(\"4 ratings_bicluster2.csv\")\n",
    "ratings_random = pd.read_csv(\"4 ratings_bicluster2.csv\")\n",
    "nuserClusters = ratings.userCluster.nunique()\n",
    "nmovieClusters = ratings.movieCluster.nunique()"
   ]
  },
  {
   "cell_type": "code",
   "execution_count": 3,
   "id": "bb0cf414",
   "metadata": {},
   "outputs": [],
   "source": [
    "ratings_random['movieCluster'] = ratings_random['movieId'] % 3"
   ]
  },
  {
   "cell_type": "code",
   "execution_count": 4,
   "id": "c88e2a5e",
   "metadata": {},
   "outputs": [],
   "source": [
    "def mutual_information(ratings, nmovieClusters, nuserClusters):\n",
    "    \n",
    "    # Joint distribution\n",
    "    relationMatrix = np.zeros((nmovieClusters,nuserClusters))\n",
    "    for i in range(nmovieClusters):\n",
    "        for j in range (nuserClusters):\n",
    "            relationMatrix[i,j] = ratings[(ratings['movieCluster'] == i) & \n",
    "                                      (ratings['userCluster'] == j)].shape[0] / ratings.shape[0]\n",
    "            \n",
    "    # Mutual information\n",
    "    M = 0\n",
    "    for i in range(nmovieClusters):\n",
    "        for j in range (nuserClusters):\n",
    "            M = M + relationMatrix[i,j] * np.log2(relationMatrix[i,j] / np.sum(relationMatrix, axis=0)[j] / np.sum(relationMatrix, axis=1)[i])\n",
    "                \n",
    "    return M"
   ]
  },
  {
   "cell_type": "code",
   "execution_count": 20,
   "id": "f297ae1e",
   "metadata": {},
   "outputs": [
    {
     "data": {
      "text/plain": [
       "1.3186554296838916e-06"
      ]
     },
     "execution_count": 20,
     "metadata": {},
     "output_type": "execute_result"
    }
   ],
   "source": [
    "mutual_information(ratings_random, nmovieClusters, nuserClusters)"
   ]
  },
  {
   "cell_type": "code",
   "execution_count": 21,
   "id": "fdbcbc4c",
   "metadata": {},
   "outputs": [
    {
     "data": {
      "text/plain": [
       "2.7408816838114254e-06"
      ]
     },
     "execution_count": 21,
     "metadata": {},
     "output_type": "execute_result"
    }
   ],
   "source": [
    "mutual_information(ratings, nmovieClusters, nuserClusters)"
   ]
  },
  {
   "cell_type": "markdown",
   "id": "75691389",
   "metadata": {},
   "source": [
    "# Maximalize Mutual Information Score with hill climbing"
   ]
  },
  {
   "cell_type": "code",
   "execution_count": 5,
   "id": "4bfba7d8",
   "metadata": {},
   "outputs": [],
   "source": [
    "def hill_climbing_mutual_information_score(ratings, nmovieClusters, nuserClusters, minutes):\n",
    "    \n",
    "    scores = []\n",
    "    localscore = mutual_information(ratings, nmovieClusters, nuserClusters)\n",
    "    scores.append(localscore)\n",
    "    random_factor = ratings['userId'].nunique() / (ratings['movieId'].nunique() + ratings['userId'].nunique())\n",
    "    start = time.time()\n",
    "    \n",
    "    #for nIterations in range(1):\n",
    "    while time.time() - start < minutes * 60: # time in seconds\n",
    "        if np.random.rand() > random_factor:\n",
    "            random_movie_id = random.choice(ratings.movieId.unique())\n",
    "            random_movie_cluster = np.random.randint(0, nmovieClusters)\n",
    "            ratings2 = ratings.copy(deep = True)\n",
    "            ratings2.loc[ratings2.movieId == random_movie_id, 'movieCluster'] = random_movie_cluster\n",
    "\n",
    "            neighborscore = mutual_information(ratings2, nmovieClusters, nuserClusters)    \n",
    "        else:\n",
    "            random_user_id = random.choice(ratings.userId.unique())\n",
    "            random_user_cluster = np.random.randint(0, nuserClusters)\n",
    "            ratings2 = ratings.copy(deep = True)\n",
    "            ratings2.loc[ratings2.userId == random_user_id, 'userCluster'] = random_user_cluster\n",
    "\n",
    "            neighborscore = mutual_information(ratings2, nmovieClusters, nuserClusters) \n",
    "        \n",
    "        scores.append(neighborscore)\n",
    "        \n",
    "        if neighborscore > localscore:\n",
    "            ratings = ratings2.copy(deep = True)\n",
    "            localscore = neighborscore\n",
    "            \n",
    "    return ratings, scores"
   ]
  },
  {
   "cell_type": "code",
   "execution_count": 6,
   "id": "68d9265a",
   "metadata": {},
   "outputs": [],
   "source": [
    "ratings = pd.read_csv(\"5 ratings_mutual_information_optimized.csv\")"
   ]
  },
  {
   "cell_type": "code",
   "execution_count": 7,
   "id": "4915b403",
   "metadata": {},
   "outputs": [],
   "source": [
    "[ratings, scores] = hill_climbing_mutual_information_score(ratings, nmovieClusters, nuserClusters, minutes=60)"
   ]
  },
  {
   "cell_type": "code",
   "execution_count": 8,
   "id": "9da15e8d",
   "metadata": {},
   "outputs": [],
   "source": [
    "###\n",
    "#ratings.to_csv('5 ratings_mutual_information_optimized.csv', index=False)\n",
    "\n",
    "#pickle.dump(scores, open(\"mutual_information_scores2.p\", 'wb'))"
   ]
  },
  {
   "cell_type": "code",
   "execution_count": 9,
   "id": "55f83aa8",
   "metadata": {},
   "outputs": [
    {
     "data": {
      "text/plain": [
       "6.733263029425305e-06"
      ]
     },
     "execution_count": 9,
     "metadata": {},
     "output_type": "execute_result"
    }
   ],
   "source": [
    "mutual_information(ratings, nmovieClusters, nuserClusters)"
   ]
  },
  {
   "cell_type": "code",
   "execution_count": 17,
   "id": "b9d94ced",
   "metadata": {},
   "outputs": [
    {
     "data": {
      "text/plain": [
       "<AxesSubplot:ylabel='Mutual information'>"
      ]
     },
     "execution_count": 17,
     "metadata": {},
     "output_type": "execute_result"
    },
    {
     "data": {
      "image/png": "[encoded data removed]",
      "text/plain": [
       "<Figure size 936x360 with 1 Axes>"
      ]
     },
     "metadata": {},
     "output_type": "display_data"
    }
   ],
   "source": [
    "# Visualize the results\n",
    "sns.set_theme(style=\"white\")\n",
    "plt.figure(figsize=(13,5))\n",
    "plt.ylabel(\"Mutual information\")\n",
    "\n",
    "sns.lineplot(x=range(len(scores)), y=scores)"
   ]
  },
  {
   "cell_type": "code",
   "execution_count": null,
   "id": "1cf7b7a8",
   "metadata": {},
   "outputs": [],
   "source": []
  }
 ],
 "metadata": {
  "kernelspec": {
   "display_name": "Python 3 (ipykernel)",
   "language": "python",
   "name": "python3"
  },
  "language_info": {
   "codemirror_mode": {
    "name": "ipython",
    "version": 3
   },
   "file_extension": ".py",
   "mimetype": "text/x-python",
   "name": "python",
   "nbconvert_exporter": "python",
   "pygments_lexer": "ipython3",
   "version": "3.9.7"
  }
 },
 "nbformat": 4,
 "nbformat_minor": 5
}
